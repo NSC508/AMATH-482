{
  "cells": [
    {
      "cell_type": "code",
      "execution_count": 25,
      "metadata": {
        "id": "BbPWGQqn7UFr"
      },
      "outputs": [],
      "source": [
        "import numpy as np\n",
        "import matplotlib.pyplot as plt\n",
        "import scipy.spatial \n",
        "from p_tqdm import p_map"
      ]
    },
    {
      "cell_type": "code",
      "execution_count": 26,
      "metadata": {
        "colab": {
          "base_uri": "https://localhost:8080/"
        },
        "id": "95vB6m257UFt",
        "outputId": "2a9b8c65-b254-4682-9df5-cc626e273584"
      },
      "outputs": [
        {
          "name": "stdout",
          "output_type": "stream",
          "text": [
            "[[b'republican' b'n' b'y' ... b'y' b'n' b'y']\n",
            " [b'republican' b'n' b'y' ... b'y' b'n' b'?']\n",
            " [b'democrat' b'?' b'y' ... b'y' b'n' b'n']\n",
            " ...\n",
            " [b'republican' b'n' b'?' ... b'y' b'n' b'y']\n",
            " [b'republican' b'n' b'n' ... b'y' b'n' b'y']\n",
            " [b'republican' b'n' b'y' ... b'y' b'?' b'n']]\n"
          ]
        }
      ],
      "source": [
        "path_to_dataset = '/home/sathvik/GitProjects/AMATH-482/Homework Assignments/Homework 4/house-votes-84.data'\n",
        "\n",
        "data = (np.genfromtxt(path_to_dataset, delimiter=',', dtype=object, unpack=True)).T\n",
        "print(data)"
      ]
    },
    {
      "cell_type": "code",
      "execution_count": 27,
      "metadata": {
        "colab": {
          "base_uri": "https://localhost:8080/"
        },
        "id": "7J7KrkJI7UFu",
        "outputId": "2fa926f2-776b-4c90-bb9b-c9de9540f051"
      },
      "outputs": [
        {
          "name": "stdout",
          "output_type": "stream",
          "text": [
            "[-1, -1, 1, 1, 1, 1, 1, -1, -1, 1, -1, -1, 1, 1, -1, -1, 1, 1, -1, 1, 1, 1, 1, 1, 1, 1, 1, 1, -1, 1, -1, 1, 1, -1, 1, -1, -1, -1, -1, 1, 1, 1, 1, 1, 1, 1, 1, 1, 1, -1, 1, -1, 1, -1, 1, -1, -1, -1, -1, -1, 1, -1, 1, 1, 1, -1, -1, -1, 1, 1, 1, -1, 1, -1, 1, 1, 1, 1, 1, -1, 1, 1, -1, -1, -1, 1, -1, -1, 1, -1, 1, 1, 1, 1, 1, 1, 1, 1, 1, -1, 1, 1, 1, 1, 1, 1, -1, -1, 1, 1, 1, -1, 1, -1, 1, 1, 1, -1, 1, -1, -1, -1, -1, -1, 1, -1, -1, 1, 1, 1, 1, 1, -1, -1, -1, -1, -1, 1, 1, 1, -1, -1, -1, 1, 1, 1, -1, 1, -1, 1, -1, 1, 1, 1, -1, -1, -1, 1, -1, 1, 1, 1, 1, -1, 1, 1, -1, -1, 1, 1, 1, -1, 1, 1, 1, 1, -1, 1, 1, 1, 1, 1, 1, 1, 1, 1, 1, 1, -1, 1, -1, -1, 1, 1, 1, -1, 1, -1, 1, 1, 1, 1, 1, 1, -1, 1, -1, -1, 1, 1, 1, -1, 1, 1, -1, 1, 1, -1, 1, 1, 1, 1, 1, -1, -1, -1, 1, 1, -1, -1, -1, -1, 1, -1, 1, -1, 1, 1, 1, -1, -1, 1, -1, 1, 1, 1, 1, -1, -1, 1, -1, -1, 1, -1, 1, 1, -1, -1, 1, 1, 1, 1, 1, 1, 1, 1, -1, -1, 1, 1, 1, 1, 1, -1, -1, 1, -1, -1, -1, -1, 1, -1, -1, -1, 1, 1, 1, 1, 1, 1, 1, 1, 1, 1, 1, -1, -1, 1, 1, 1, -1, 1, -1, -1, -1, -1, -1, 1, -1, 1, -1, 1, 1, -1, -1, -1, 1, 1, 1, 1, 1, 1, 1, 1, -1, 1, 1, -1, 1, 1, -1, 1, 1, 1, 1, -1, 1, 1, 1, -1, -1, 1, 1, -1, 1, -1, -1, -1, 1, -1, 1, -1, 1, -1, 1, -1, -1, -1, 1, -1, 1, 1, 1, -1, -1, 1, 1, 1, 1, -1, 1, 1, 1, 1, -1, 1, 1, -1, -1, -1, 1, 1, 1, 1, 1, 1, 1, 1, 1, 1, 1, 1, -1, -1, 1, 1, 1, 1, 1, -1, -1, -1, -1, -1, -1, -1, 1, 1, 1, -1, -1, 1, -1, -1, 1, 1, -1, 1, 1, 1, -1, 1, 1, 1, 1, 1, 1, -1, 1, 1, -1, 1, -1, -1, -1]\n"
          ]
        }
      ],
      "source": [
        "Y = data[:, 0]\n",
        "Y = [1 if i == b'democrat' else -1 for i in Y]\n",
        "print(Y)"
      ]
    },
    {
      "cell_type": "code",
      "execution_count": 28,
      "metadata": {
        "colab": {
          "base_uri": "https://localhost:8080/"
        },
        "id": "__R2VZyE7UFv",
        "outputId": "bb434adb-5e66-43a2-9dc8-81bd9bea3bbe"
      },
      "outputs": [
        {
          "name": "stdout",
          "output_type": "stream",
          "text": [
            "[[-1 1 -1 ... 1 -1 1]\n",
            " [-1 1 -1 ... 1 -1 0]\n",
            " [0 1 1 ... 1 -1 -1]\n",
            " ...\n",
            " [-1 0 -1 ... 1 -1 1]\n",
            " [-1 -1 -1 ... 1 -1 1]\n",
            " [-1 1 -1 ... 1 0 -1]]\n"
          ]
        }
      ],
      "source": [
        "X = data[:, 1:]\n",
        "for index, column in enumerate(X): \n",
        "    new_column = []\n",
        "    for i in column:\n",
        "        encoded_val = 0\n",
        "        if i == b'y':\n",
        "            encoded_val = 1\n",
        "        elif i == b'n':\n",
        "            encoded_val = -1\n",
        "        new_column.append(encoded_val)\n",
        "    X[index] = new_column\n",
        "print(X)"
      ]
    },
    {
      "cell_type": "code",
      "execution_count": 29,
      "metadata": {
        "colab": {
          "base_uri": "https://localhost:8080/",
          "height": 287
        },
        "id": "f3bIcjJ27UFw",
        "outputId": "3b789b2d-514e-4caa-8a59-9d5ef4d4906c"
      },
      "outputs": [],
      "source": [
        "# compute the weight matrix W for the vertices of our graph \n",
        "def eta(tt, rr):\n",
        "\n",
        " val = np.exp( - (tt**2)/(2*rr**2) ) \n",
        "  \n",
        " return val\n",
        "  \n",
        "\n",
        "\n",
        "dist = scipy.spatial.distance_matrix(X, X, p = 2)\n",
        "\n",
        "def spectral_clustering(r):\n",
        "    W = eta(dist, r)\n",
        "    # compute Laplacian matrices \n",
        "    d = np.sum(W, axis=1) # degree vector\n",
        "\n",
        "    D = np.diag(d)\n",
        "    Ds = np.diag(1/np.sqrt(d))\n",
        "\n",
        "    Ln = np.dot(Ds, np.dot((D - W),Ds)) # normalized\n",
        "    # compute eigendecompositions \n",
        "\n",
        "    # we need to sort the eigenvalues and vectors \n",
        "\n",
        "    lln, VVn = np.linalg.eigh(Ln)\n",
        "\n",
        "    idxn = lln.argsort()\n",
        "    Vn = VVn[:, idxn]\n",
        "\n",
        "    q1 = Vn[:, 1]\n",
        "    q1 = np.sign(q1)\n",
        "    num_incorrect = np.sum(q1 != Y)\n",
        "    clustering_accuracy = 1 - (1/435) * num_incorrect\n",
        "    return clustering_accuracy"
      ]
    },
    {
      "cell_type": "code",
      "execution_count": 30,
      "metadata": {},
      "outputs": [
        {
          "name": "stderr",
          "output_type": "stream",
          "text": [
            "/tmp/ipykernel_1636/3817873046.py:4: RuntimeWarning: divide by zero encountered in true_divide\n",
            "  val = np.exp( - (tt**2)/(2*rr**2) )\n",
            "/tmp/ipykernel_1636/3817873046.py:4: RuntimeWarning: invalid value encountered in true_divide\n",
            "  val = np.exp( - (tt**2)/(2*rr**2) )\n",
            "100%|██████████| 1000/1000 [02:12<00:00,  7.56it/s]\n"
          ]
        },
        {
          "data": {
            "text/plain": [
              "<matplotlib.collections.PathCollection at 0x7fab577badc0>"
            ]
          },
          "execution_count": 30,
          "metadata": {},
          "output_type": "execute_result"
        },
        {
          "data": {
            "image/png": "[encoded data removed]",
            "text/plain": [
              "<Figure size 432x288 with 1 Axes>"
            ]
          },
          "metadata": {
            "needs_background": "light"
          },
          "output_type": "display_data"
        }
      ],
      "source": [
        "inputs = np.linspace(0, 4, 1000)\n",
        "results = p_map(spectral_clustering, inputs)\n",
        "fig, ax = plt.subplots()\n",
        "ax.scatter(inputs, results)"
      ]
    },
    {
      "cell_type": "code",
      "execution_count": null,
      "metadata": {},
      "outputs": [],
      "source": []
    }
  ],
  "metadata": {
    "accelerator": "GPU",
    "colab": {
      "name": "HW4.ipynb",
      "provenance": []
    },
    "interpreter": {
      "hash": "aee8b7b246df8f9039afb4144a1f6fd8d2ca17a180786b69acc140d282b71a49"
    },
    "kernelspec": {
      "display_name": "Python 3.10.0 64-bit",
      "language": "python",
      "name": "python3"
    },
    "language_info": {
      "codemirror_mode": {
        "name": "ipython",
        "version": 3
      },
      "file_extension": ".py",
      "mimetype": "text/x-python",
      "name": "python",
      "nbconvert_exporter": "python",
      "pygments_lexer": "ipython3",
      "version": "3.8.10"
    },
    "orig_nbformat": 4
  },
  "nbformat": 4,
  "nbformat_minor": 0
}
