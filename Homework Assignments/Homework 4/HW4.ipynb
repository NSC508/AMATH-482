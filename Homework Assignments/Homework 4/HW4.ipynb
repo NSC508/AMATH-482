{
  "cells": [
    {
      "cell_type": "code",
      "execution_count": 1,
      "metadata": {
        "id": "BbPWGQqn7UFr"
      },
      "outputs": [],
      "source": [
        "import numpy as np\n",
        "import matplotlib.pyplot as plt\n",
        "import tensorflow as tf"
      ]
    },
    {
      "cell_type": "code",
      "execution_count": 2,
      "metadata": {
        "id": "95vB6m257UFt",
        "outputId": "2a9b8c65-b254-4682-9df5-cc626e273584",
        "colab": {
          "base_uri": "https://localhost:8080/"
        }
      },
      "outputs": [
        {
          "output_type": "stream",
          "name": "stdout",
          "text": [
            "/job:localhost/replica:0/task:0/device:GPU:0\n"
          ]
        }
      ],
      "source": [
        "path_to_dataset = '/content/house-votes-84.data'\n",
        "\n",
        "data = (np.genfromtxt(path_to_dataset, delimiter=',', dtype=object, unpack=True)).T\n",
        "tf_data = tf.convert_to_tensor(data)\n",
        "print(tf_data.device)"
      ]
    },
    {
      "cell_type": "code",
      "execution_count": 3,
      "metadata": {
        "id": "7J7KrkJI7UFu",
        "outputId": "2fa926f2-776b-4c90-bb9b-c9de9540f051",
        "colab": {
          "base_uri": "https://localhost:8080/"
        }
      },
      "outputs": [
        {
          "output_type": "stream",
          "name": "stdout",
          "text": [
            "/job:localhost/replica:0/task:0/device:GPU:0\n"
          ]
        }
      ],
      "source": [
        "Y = tf_data[:, 0]\n",
        "Y = tf.convert_to_tensor([1 if i == b'democrat' else -1 for i in Y])\n",
        "print(Y.device)"
      ]
    },
    {
      "cell_type": "code",
      "execution_count": 5,
      "metadata": {
        "id": "__R2VZyE7UFv",
        "outputId": "bb434adb-5e66-43a2-9dc8-81bd9bea3bbe",
        "colab": {
          "base_uri": "https://localhost:8080/"
        }
      },
      "outputs": [
        {
          "output_type": "stream",
          "name": "stdout",
          "text": [
            "/job:localhost/replica:0/task:0/device:GPU:0\n"
          ]
        }
      ],
      "source": [
        "X = data[:, 1:]\n",
        "for index, column in enumerate(X): \n",
        "    new_column = []\n",
        "    for i in column:\n",
        "        encoded_val = 0\n",
        "        if i == b'y':\n",
        "            encoded_val = 1\n",
        "        elif i == b'n':\n",
        "            encoded_val = -1\n",
        "        new_column.append(encoded_val)\n",
        "    X[index] = new_column\n",
        "X = tf.convert_to_tensor(X.astype('int8'))\n",
        "print(X.device)"
      ]
    },
    {
      "cell_type": "code",
      "execution_count": 6,
      "metadata": {
        "id": "f3bIcjJ27UFw",
        "outputId": "3b789b2d-514e-4caa-8a59-9d5ef4d4906c",
        "colab": {
          "base_uri": "https://localhost:8080/",
          "height": 287
        }
      },
      "outputs": [
        {
          "output_type": "execute_result",
          "data": {
            "text/plain": [
              "<matplotlib.image.AxesImage at 0x7fabb0125c50>"
            ]
          },
          "metadata": {},
          "execution_count": 6
        },
        {
          "output_type": "display_data",
          "data": {
            "image/png": "[encoded data removed]",
            "text/plain": [
              "<Figure size 432x288 with 1 Axes>"
            ]
          },
          "metadata": {
            "needs_background": "light"
          }
        }
      ],
      "source": [
        "tf.debugging.set_log_device_placement(True)\n",
        "# compute the weight matrix W for the vertices of our graph \n",
        "def eta(tt, rr):\n",
        "\n",
        " val = tf.math.exp( - (tt**2)/(2*rr**2) ) \n",
        "  \n",
        " return val\n",
        "  \n",
        "import scipy.spatial \n",
        "\n",
        "dist = scipy.spatial.distance_matrix(X, X, p = 2)\n",
        "\n",
        "r = 0.2\n",
        "\n",
        "W = eta(dist, r)\n",
        "\n",
        "plt.spy(W>=0.01)"
      ]
    },
    {
      "cell_type": "code",
      "execution_count": 7,
      "metadata": {
        "id": "kWfb0CzW7UFx",
        "outputId": "507b89c0-7098-4fb7-819c-d213cbd176bf",
        "colab": {
          "base_uri": "https://localhost:8080/"
        }
      },
      "outputs": [
        {
          "output_type": "stream",
          "name": "stdout",
          "text": [
            "/job:localhost/replica:0/task:0/device:GPU:0\n"
          ]
        }
      ],
      "source": [
        "# compute Laplacian matrices \n",
        "\n",
        "d = tf.math.reduce_sum(W, axis=1) # degree vector\n",
        "\n",
        "D = tf.linalg.diag(d)\n",
        "Ds = tf.linalg.diag(1/np.sqrt(d))\n",
        "Di = tf.linalg.diag(1/d)\n",
        "\n",
        "\n",
        "L = D - W # unnormalized\n",
        "\n",
        "Ln = tf.linalg.matmul(Ds, tf.linalg.matmul((D - W),Ds)) # normalized\n",
        "\n",
        "\n",
        "print(Ln.device)"
      ]
    },
    {
      "cell_type": "code",
      "execution_count": null,
      "metadata": {
        "id": "C6xBYjoX7UFy"
      },
      "outputs": [],
      "source": [
        "# compute eigendecompositions \n",
        "\n",
        "ll, VV = tf.linalg.eigh(L)\n",
        "\n",
        "# we need to sort the eigenvalues and vectors \n",
        "\n",
        "idx = tf.argsort(ll)\n",
        "l = ll[idx]\n",
        "V = VV[:, idx]\n",
        "\n",
        "lln, VVn = tf.linalg.eigh(Ln)\n",
        "\n",
        "idxn = lln.argsort()\n",
        "ln = lln[idxn]\n",
        "Vn = VVn[:, idxn]\n",
        "\n",
        "q1 = tf.math.sign(V[:,1])\n",
        "print(q1)"
      ]
    },
    {
      "cell_type": "code",
      "execution_count": null,
      "metadata": {
        "id": "U5PP16l57UFz"
      },
      "outputs": [],
      "source": [
        "fig, ax = plt.subplots(1,2, figsize=(16,8))\n",
        "\n",
        "ax[0].scatter(X[:,0], X[:,1], c=Y, s= 30, cmap='brg')\n",
        "ax[0].set_aspect('equal')\n",
        "ax[0].set_xlabel('$x_1$')\n",
        "ax[0].set_ylabel('$x_2$')\n",
        "ax[0].set_title('True (Unseen) Labels')\n",
        "\n",
        "ax[1].scatter(X[:,0], X[:,1], color='b')\n",
        "ax[1].set_aspect('equal')\n",
        "ax[1].set_xlabel('$x_1$')\n",
        "ax[1].set_ylabel('$x_2$')\n",
        "ax[1].set_title('Input (Unlabelled) data')"
      ]
    },
    {
      "cell_type": "code",
      "execution_count": null,
      "metadata": {
        "id": "9x0eDwS67UF0"
      },
      "outputs": [],
      "source": [
        "# visualize the graph using NetworkX\n",
        "\n",
        "import networkx as nx\n",
        "\n",
        "G = nx.Graph()\n",
        "N = len(X)\n",
        "for i in range(N):\n",
        "  for j in range(N):\n",
        "    if i != j and W[i,j] != 0 :\n",
        "      G.add_edge(i, j, weight=W[i,j])\n",
        "\n",
        "fig, ax = plt.subplots(1,2, figsize=(16,8))\n",
        "\n",
        "ax[0].scatter(X[:,0], X[:,1], color='b')\n",
        "ax[0].set_aspect('equal')\n",
        "ax[0].set_xlabel('$x_1$')\n",
        "ax[0].set_ylabel('$x_2$')\n",
        "ax[0].set_title('Input (Unlabelled) data')\n",
        "\n",
        "\n",
        "nx.draw_networkx_nodes(G, X, node_size=100, ax = ax[1])\n",
        "nx.draw_networkx_edges(G, X, ax = ax[1])\n",
        "ax[1].set_aspect('equal')\n",
        "ax[1].set_title('Proximity Graph')"
      ]
    }
  ],
  "metadata": {
    "interpreter": {
      "hash": "aee8b7b246df8f9039afb4144a1f6fd8d2ca17a180786b69acc140d282b71a49"
    },
    "kernelspec": {
      "display_name": "Python 3.10.0 64-bit",
      "language": "python",
      "name": "python3"
    },
    "language_info": {
      "codemirror_mode": {
        "name": "ipython",
        "version": 3
      },
      "file_extension": ".py",
      "mimetype": "text/x-python",
      "name": "python",
      "nbconvert_exporter": "python",
      "pygments_lexer": "ipython3",
      "version": "3.10.0"
    },
    "orig_nbformat": 4,
    "colab": {
      "name": "HW4.ipynb",
      "provenance": []
    },
    "accelerator": "GPU"
  },
  "nbformat": 4,
  "nbformat_minor": 0
}