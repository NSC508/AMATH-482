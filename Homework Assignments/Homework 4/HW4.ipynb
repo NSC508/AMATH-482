{
 "cells": [
  {
   "cell_type": "code",
   "execution_count": 28,
   "metadata": {},
   "outputs": [
    {
     "name": "stdout",
     "output_type": "stream",
     "text": [
      "Requirement already satisfied: networkx in /Library/Frameworks/Python.framework/Versions/3.10/lib/python3.10/site-packages (2.6.3)\n"
     ]
    }
   ],
   "source": [
    "import numpy as np\n",
    "import matplotlib.pyplot as plt\n",
    "!pip install networkx"
   ]
  },
  {
   "cell_type": "code",
   "execution_count": 29,
   "metadata": {},
   "outputs": [
    {
     "name": "stdout",
     "output_type": "stream",
     "text": [
      "[[b'republican' b'n' b'y' ... b'y' b'n' b'y']\n",
      " [b'republican' b'n' b'y' ... b'y' b'n' b'?']\n",
      " [b'democrat' b'?' b'y' ... b'y' b'n' b'n']\n",
      " ...\n",
      " [b'republican' b'n' b'?' ... b'y' b'n' b'y']\n",
      " [b'republican' b'n' b'n' ... b'y' b'n' b'y']\n",
      " [b'republican' b'n' b'y' ... b'y' b'?' b'n']]\n"
     ]
    }
   ],
   "source": [
    "path_to_dataset = '/Users/sachinta/GitProjects/AMATH-482/Homework Assignments/Homework 4/house-votes-84.data'\n",
    "\n",
    "data = (np.genfromtxt(path_to_dataset, delimiter=',', dtype=object, unpack=True)).T\n",
    "\n",
    "print(data)"
   ]
  },
  {
   "cell_type": "code",
   "execution_count": 30,
   "metadata": {},
   "outputs": [
    {
     "name": "stdout",
     "output_type": "stream",
     "text": [
      "[-1 -1  1  1  1  1  1 -1 -1  1 -1 -1  1  1 -1 -1  1  1 -1  1  1  1  1  1\n",
      "  1  1  1  1 -1  1 -1  1  1 -1  1 -1 -1 -1 -1  1  1  1  1  1  1  1  1  1\n",
      "  1 -1  1 -1  1 -1  1 -1 -1 -1 -1 -1  1 -1  1  1  1 -1 -1 -1  1  1  1 -1\n",
      "  1 -1  1  1  1  1  1 -1  1  1 -1 -1 -1  1 -1 -1  1 -1  1  1  1  1  1  1\n",
      "  1  1  1 -1  1  1  1  1  1  1 -1 -1  1  1  1 -1  1 -1  1  1  1 -1  1 -1\n",
      " -1 -1 -1 -1  1 -1 -1  1  1  1  1  1 -1 -1 -1 -1 -1  1  1  1 -1 -1 -1  1\n",
      "  1  1 -1  1 -1  1 -1  1  1  1 -1 -1 -1  1 -1  1  1  1  1 -1  1  1 -1 -1\n",
      "  1  1  1 -1  1  1  1  1 -1  1  1  1  1  1  1  1  1  1  1  1 -1  1 -1 -1\n",
      "  1  1  1 -1  1 -1  1  1  1  1  1  1 -1  1 -1 -1  1  1  1 -1  1  1 -1  1\n",
      "  1 -1  1  1  1  1  1 -1 -1 -1  1  1 -1 -1 -1 -1  1 -1  1 -1  1  1  1 -1\n",
      " -1  1 -1  1  1  1  1 -1 -1  1 -1 -1  1 -1  1  1 -1 -1  1  1  1  1  1  1\n",
      "  1  1 -1 -1  1  1  1  1  1 -1 -1  1 -1 -1 -1 -1  1 -1 -1 -1  1  1  1  1\n",
      "  1  1  1  1  1  1  1 -1 -1  1  1  1 -1  1 -1 -1 -1 -1 -1  1 -1  1 -1  1\n",
      "  1 -1 -1 -1  1  1  1  1  1  1  1  1 -1  1  1 -1  1  1 -1  1  1  1  1 -1\n",
      "  1  1  1 -1 -1  1  1 -1  1 -1 -1 -1  1 -1  1 -1  1 -1  1 -1 -1 -1  1 -1\n",
      "  1  1  1 -1 -1  1  1  1  1 -1  1  1  1  1 -1  1  1 -1 -1 -1  1  1  1  1\n",
      "  1  1  1  1  1  1  1  1 -1 -1  1  1  1  1  1 -1 -1 -1 -1 -1 -1 -1  1  1\n",
      "  1 -1 -1  1 -1 -1  1  1 -1  1  1  1 -1  1  1  1  1  1  1 -1  1  1 -1  1\n",
      " -1 -1 -1]\n"
     ]
    }
   ],
   "source": [
    "Y = data[:, 0]\n",
    "Y = np.asarray([1 if i == b'democrat' else -1 for i in Y])\n",
    "print(Y)"
   ]
  },
  {
   "cell_type": "code",
   "execution_count": 31,
   "metadata": {},
   "outputs": [
    {
     "name": "stdout",
     "output_type": "stream",
     "text": [
      "[[-1 1 -1 ... 1 -1 1]\n",
      " [-1 1 -1 ... 1 -1 0]\n",
      " [0 1 1 ... 1 -1 -1]\n",
      " ...\n",
      " [-1 0 -1 ... 1 -1 1]\n",
      " [-1 -1 -1 ... 1 -1 1]\n",
      " [-1 1 -1 ... 1 0 -1]]\n"
     ]
    }
   ],
   "source": [
    "X = data[:, 1:]\n",
    "for index, column in enumerate(X): \n",
    "    new_column = []\n",
    "    for i in column:\n",
    "        encoded_val = 0\n",
    "        if i == b'y':\n",
    "            encoded_val = 1\n",
    "        elif i == b'n':\n",
    "            encoded_val = -1\n",
    "        new_column.append(encoded_val)\n",
    "    X[index] = new_column\n",
    "print(X)"
   ]
  },
  {
   "cell_type": "code",
   "execution_count": 32,
   "metadata": {},
   "outputs": [
    {
     "data": {
      "text/plain": [
       "<matplotlib.image.AxesImage at 0x123796020>"
      ]
     },
     "execution_count": 32,
     "metadata": {},
     "output_type": "execute_result"
    },
    {
     "data": {
      "image/png": "[encoded data removed]",
      "text/plain": [
       "<Figure size 432x288 with 1 Axes>"
      ]
     },
     "metadata": {
      "needs_background": "light"
     },
     "output_type": "display_data"
    }
   ],
   "source": [
    "# compute the weight matrix W for the vertices of our graph \n",
    "\n",
    "def eta(tt, rr):\n",
    "\n",
    " val = np.exp( - (tt**2)/(2*rr**2) ) \n",
    "  \n",
    " return val.astype(float)\n",
    "  \n",
    "import scipy.spatial \n",
    "\n",
    "dist = scipy.spatial.distance_matrix(X, X, p = 2)\n",
    "\n",
    "r = 0.2\n",
    "\n",
    "W = eta(dist, r)\n",
    "\n",
    "plt.spy(W>=0.01)"
   ]
  },
  {
   "cell_type": "code",
   "execution_count": 33,
   "metadata": {},
   "outputs": [],
   "source": [
    "# compute Laplacian matrices \n",
    "\n",
    "d = np.sum(W, axis=1) # degree vector\n",
    "\n",
    "D = np.diag(d)\n",
    "Ds = np.diag(1/np.sqrt(d))\n",
    "Di = np.diag(1/d)\n",
    "\n",
    "\n",
    "L = D - W # unnormalized\n",
    "\n",
    "Ln = np.dot(Ds, np.dot((D - W),Ds)) # normalized"
   ]
  },
  {
   "cell_type": "code",
   "execution_count": 34,
   "metadata": {},
   "outputs": [
    {
     "name": "stdout",
     "output_type": "stream",
     "text": [
      "[ 0. -1. -1. -1.  1.  1.  1.  1. -1.  1. -1.  1.  1.  1. -1. -1.  1. -1.\n",
      " -1.  1.  1.  1.  1.  1.  1.  1.  1.  1. -1.  1. -1.  1.  1. -1.  1. -1.\n",
      " -1. -1.  1.  1.  1.  1.  1.  1.  1.  1.  1.  1.  1. -1.  1. -1.  1.  1.\n",
      " -1. -1.  1. -1. -1. -1. -1. -1.  1.  1.  1. -1.  1.  1. -1.  1. -1.  1.\n",
      "  1.  1. -1. -1. -1.  1.  1.  1. -1.  1. -1. -1.  1.  1.  1. -1. -1.  1.\n",
      "  1.  1.  1.  1. -1.  1.  1.  1.  1.  1.  1. -1. -1.  1.  1. -1. -1.  1.\n",
      "  1.  1. -1. -1.  1.  1.  1. -1.  1. -1. -1. -1. -1. -1. -1. -1.  1. -1.\n",
      " -1.  1.  1. -1.  1.  1.  1. -1. -1.  1. -1.  1.  1. -1. -1. -1. -1.  1.\n",
      "  1.  1. -1.  1.  1. -1. -1.  1.  1. -1. -1.  1. -1. -1.  1.  1.  1.  1.\n",
      "  1.  1.  1.  1.  1. -1.  1. -1.  1. -1. -1.  1.  1. -1.  1.  1.  1.  1.\n",
      "  1.  1.  1.  1.  1.  1. -1.  1. -1.  1. -1. -1.  1.  1.  1. -1.  1.  1.\n",
      "  1.  1. -1.  1.  1.  1. -1. -1. -1. -1.  1.  1. -1. -1. -1. -1. -1.  1.\n",
      "  1.  1.  1.  1.  1. -1.  1. -1.  1. -1.  1.  1. -1.  1. -1.  1.  1. -1.\n",
      "  1. -1.  1. -1. -1. -1.  1.  1. -1. -1.  1.  1.  1. -1.  1.  1. -1. -1.\n",
      "  1. -1. -1.  1.  1.  1. -1.  1. -1.  1.  1.  1.  1. -1. -1.  1.  1.  1.\n",
      "  1. -1.  1. -1. -1. -1. -1.  1. -1.  1.  1.  1.  1. -1.  1.  1.  1.  1.\n",
      "  1. -1.  1. -1.  1. -1.  1.  1.  1. -1. -1.  1. -1. -1.  1. -1. -1.  1.\n",
      " -1.  1.  1.  1.  1.  1. -1.  1.  1.  1. -1.  1.  1.  1.  1. -1. -1.  1.\n",
      " -1. -1.  1. -1.  1. -1.  1.  1.  1.  1.  1. -1. -1.  1.  1.  1. -1. -1.\n",
      "  1. -1.  1. -1. -1.  1.  1. -1.  1. -1. -1.  1.  1. -1. -1. -1.  1. -1.\n",
      " -1. -1. -1.  1.  1. -1.  1. -1.  1.  1.  1. -1.  1.  1. -1.  1.  1. -1.\n",
      " -1. -1.  1.  1.  1. -1. -1.  1. -1.  1. -1.  1.  1. -1.  1. -1. -1.  1.\n",
      " -1.  1.  1.  1. -1. -1.  1. -1. -1. -1.  1. -1. -1. -1. -1. -1. -1.  1.\n",
      "  1. -1. -1.  1. -1.  1. -1. -1. -1. -1. -1.  1.  1. -1. -1.  1.  1.  1.\n",
      " -1.  1.  1.]\n"
     ]
    }
   ],
   "source": [
    "# compute eigendecompositions \n",
    "\n",
    "ll, VV = np.linalg.eigh(L)\n",
    "\n",
    "# we need to sort the eigenvalues and vectors \n",
    "\n",
    "idx = ll.argsort()\n",
    "l = ll[idx]\n",
    "V = VV[:, idx]\n",
    "\n",
    "lln, VVn = np.linalg.eigh(Ln)\n",
    "\n",
    "idxn = lln.argsort()\n",
    "ln = lln[idxn]\n",
    "Vn = VVn[:, idxn]\n",
    "\n",
    "q1 = np.sign(V[:,1])\n",
    "print(q1)"
   ]
  },
  {
   "cell_type": "code",
   "execution_count": 35,
   "metadata": {},
   "outputs": [
    {
     "data": {
      "text/plain": [
       "Text(0.5, 1.0, 'Input (Unlabelled) data')"
      ]
     },
     "execution_count": 35,
     "metadata": {},
     "output_type": "execute_result"
    },
    {
     "data": {
      "image/png": "[encoded data removed]",
      "text/plain": [
       "<Figure size 1152x576 with 2 Axes>"
      ]
     },
     "metadata": {
      "needs_background": "light"
     },
     "output_type": "display_data"
    }
   ],
   "source": [
    "fig, ax = plt.subplots(1,2, figsize=(16,8))\n",
    "\n",
    "ax[0].scatter(X[:,0], X[:,1], c=Y, s= 30, cmap='brg')\n",
    "ax[0].set_aspect('equal')\n",
    "ax[0].set_xlabel('$x_1$')\n",
    "ax[0].set_ylabel('$x_2$')\n",
    "ax[0].set_title('True (Unseen) Labels')\n",
    "\n",
    "ax[1].scatter(X[:,0], X[:,1], color='b')\n",
    "ax[1].set_aspect('equal')\n",
    "ax[1].set_xlabel('$x_1$')\n",
    "ax[1].set_ylabel('$x_2$')\n",
    "ax[1].set_title('Input (Unlabelled) data')"
   ]
  },
  {
   "cell_type": "code",
   "execution_count": 36,
   "metadata": {},
   "outputs": [
    {
     "ename": "ValueError",
     "evalue": "'vertices' must be 2D with shape (M, 2). Your input has shape (2, 16).",
     "output_type": "error",
     "traceback": [
      "\u001b[0;31m---------------------------------------------------------------------------\u001b[0m",
      "\u001b[0;31mValueError\u001b[0m                                Traceback (most recent call last)",
      "Input \u001b[0;32mIn [36]\u001b[0m, in \u001b[0;36m<module>\u001b[0;34m\u001b[0m\n\u001b[1;32m     18\u001b[0m ax[\u001b[38;5;241m0\u001b[39m]\u001b[38;5;241m.\u001b[39mset_title(\u001b[38;5;124m'\u001b[39m\u001b[38;5;124mInput (Unlabelled) data\u001b[39m\u001b[38;5;124m'\u001b[39m)\n\u001b[1;32m     21\u001b[0m nx\u001b[38;5;241m.\u001b[39mdraw_networkx_nodes(G, X, node_size\u001b[38;5;241m=\u001b[39m\u001b[38;5;241m100\u001b[39m, ax \u001b[38;5;241m=\u001b[39m ax[\u001b[38;5;241m1\u001b[39m])\n\u001b[0;32m---> 22\u001b[0m \u001b[43mnx\u001b[49m\u001b[38;5;241;43m.\u001b[39;49m\u001b[43mdraw_networkx_edges\u001b[49m\u001b[43m(\u001b[49m\u001b[43mG\u001b[49m\u001b[43m,\u001b[49m\u001b[43m \u001b[49m\u001b[43mX\u001b[49m\u001b[43m,\u001b[49m\u001b[43m \u001b[49m\u001b[43max\u001b[49m\u001b[43m \u001b[49m\u001b[38;5;241;43m=\u001b[39;49m\u001b[43m \u001b[49m\u001b[43max\u001b[49m\u001b[43m[\u001b[49m\u001b[38;5;241;43m1\u001b[39;49m\u001b[43m]\u001b[49m\u001b[43m)\u001b[49m\n\u001b[1;32m     23\u001b[0m ax[\u001b[38;5;241m1\u001b[39m]\u001b[38;5;241m.\u001b[39mset_aspect(\u001b[38;5;124m'\u001b[39m\u001b[38;5;124mequal\u001b[39m\u001b[38;5;124m'\u001b[39m)\n\u001b[1;32m     24\u001b[0m ax[\u001b[38;5;241m1\u001b[39m]\u001b[38;5;241m.\u001b[39mset_title(\u001b[38;5;124m'\u001b[39m\u001b[38;5;124mProximity Graph\u001b[39m\u001b[38;5;124m'\u001b[39m)\n",
      "File \u001b[0;32m/Library/Frameworks/Python.framework/Versions/3.10/lib/python3.10/site-packages/networkx/drawing/nx_pylab.py:854\u001b[0m, in \u001b[0;36mdraw_networkx_edges\u001b[0;34m(G, pos, edgelist, width, edge_color, style, alpha, arrowstyle, arrowsize, edge_cmap, edge_vmin, edge_vmax, ax, arrows, label, node_size, nodelist, node_shape, connectionstyle, min_source_margin, min_target_margin)\u001b[0m\n\u001b[1;32m    852\u001b[0m \u001b[38;5;66;03m# Draw the edges\u001b[39;00m\n\u001b[1;32m    853\u001b[0m \u001b[38;5;28;01mif\u001b[39;00m use_linecollection:\n\u001b[0;32m--> 854\u001b[0m     edge_viz_obj \u001b[38;5;241m=\u001b[39m \u001b[43m_draw_networkx_edges_line_collection\u001b[49m\u001b[43m(\u001b[49m\u001b[43m)\u001b[49m\n\u001b[1;32m    855\u001b[0m     \u001b[38;5;66;03m# Make sure selfloop edges are also drawn.\u001b[39;00m\n\u001b[1;32m    856\u001b[0m     edgelist \u001b[38;5;241m=\u001b[39m \u001b[38;5;28mlist\u001b[39m(nx\u001b[38;5;241m.\u001b[39mselfloop_edges(G))\n",
      "File \u001b[0;32m/Library/Frameworks/Python.framework/Versions/3.10/lib/python3.10/site-packages/networkx/drawing/nx_pylab.py:717\u001b[0m, in \u001b[0;36mdraw_networkx_edges.<locals>._draw_networkx_edges_line_collection\u001b[0;34m()\u001b[0m\n\u001b[1;32m    716\u001b[0m \u001b[38;5;28;01mdef\u001b[39;00m \u001b[38;5;21m_draw_networkx_edges_line_collection\u001b[39m():\n\u001b[0;32m--> 717\u001b[0m     edge_collection \u001b[38;5;241m=\u001b[39m \u001b[43mmpl\u001b[49m\u001b[38;5;241;43m.\u001b[39;49m\u001b[43mcollections\u001b[49m\u001b[38;5;241;43m.\u001b[39;49m\u001b[43mLineCollection\u001b[49m\u001b[43m(\u001b[49m\n\u001b[1;32m    718\u001b[0m \u001b[43m        \u001b[49m\u001b[43medge_pos\u001b[49m\u001b[43m,\u001b[49m\n\u001b[1;32m    719\u001b[0m \u001b[43m        \u001b[49m\u001b[43mcolors\u001b[49m\u001b[38;5;241;43m=\u001b[39;49m\u001b[43medge_color\u001b[49m\u001b[43m,\u001b[49m\n\u001b[1;32m    720\u001b[0m \u001b[43m        \u001b[49m\u001b[43mlinewidths\u001b[49m\u001b[38;5;241;43m=\u001b[39;49m\u001b[43mwidth\u001b[49m\u001b[43m,\u001b[49m\n\u001b[1;32m    721\u001b[0m \u001b[43m        \u001b[49m\u001b[43mantialiaseds\u001b[49m\u001b[38;5;241;43m=\u001b[39;49m\u001b[43m(\u001b[49m\u001b[38;5;241;43m1\u001b[39;49m\u001b[43m,\u001b[49m\u001b[43m)\u001b[49m\u001b[43m,\u001b[49m\n\u001b[1;32m    722\u001b[0m \u001b[43m        \u001b[49m\u001b[43mlinestyle\u001b[49m\u001b[38;5;241;43m=\u001b[39;49m\u001b[43mstyle\u001b[49m\u001b[43m,\u001b[49m\n\u001b[1;32m    723\u001b[0m \u001b[43m        \u001b[49m\u001b[43mtransOffset\u001b[49m\u001b[38;5;241;43m=\u001b[39;49m\u001b[43max\u001b[49m\u001b[38;5;241;43m.\u001b[39;49m\u001b[43mtransData\u001b[49m\u001b[43m,\u001b[49m\n\u001b[1;32m    724\u001b[0m \u001b[43m        \u001b[49m\u001b[43malpha\u001b[49m\u001b[38;5;241;43m=\u001b[39;49m\u001b[43malpha\u001b[49m\u001b[43m,\u001b[49m\n\u001b[1;32m    725\u001b[0m \u001b[43m    \u001b[49m\u001b[43m)\u001b[49m\n\u001b[1;32m    726\u001b[0m     edge_collection\u001b[38;5;241m.\u001b[39mset_cmap(edge_cmap)\n\u001b[1;32m    727\u001b[0m     edge_collection\u001b[38;5;241m.\u001b[39mset_clim(edge_vmin, edge_vmax)\n",
      "File \u001b[0;32m/Library/Frameworks/Python.framework/Versions/3.10/lib/python3.10/site-packages/matplotlib/collections.py:1446\u001b[0m, in \u001b[0;36mLineCollection.__init__\u001b[0;34m(self, segments, zorder, *args, **kwargs)\u001b[0m\n\u001b[1;32m   1442\u001b[0m kwargs\u001b[38;5;241m.\u001b[39msetdefault(\u001b[38;5;124m'\u001b[39m\u001b[38;5;124mfacecolors\u001b[39m\u001b[38;5;124m'\u001b[39m, \u001b[38;5;124m'\u001b[39m\u001b[38;5;124mnone\u001b[39m\u001b[38;5;124m'\u001b[39m)\n\u001b[1;32m   1443\u001b[0m \u001b[38;5;28msuper\u001b[39m()\u001b[38;5;241m.\u001b[39m\u001b[38;5;21m__init__\u001b[39m(\n\u001b[1;32m   1444\u001b[0m     zorder\u001b[38;5;241m=\u001b[39mzorder,\n\u001b[1;32m   1445\u001b[0m     \u001b[38;5;241m*\u001b[39m\u001b[38;5;241m*\u001b[39mkwargs)\n\u001b[0;32m-> 1446\u001b[0m \u001b[38;5;28;43mself\u001b[39;49m\u001b[38;5;241;43m.\u001b[39;49m\u001b[43mset_segments\u001b[49m\u001b[43m(\u001b[49m\u001b[43msegments\u001b[49m\u001b[43m)\u001b[49m\n",
      "File \u001b[0;32m/Library/Frameworks/Python.framework/Versions/3.10/lib/python3.10/site-packages/matplotlib/collections.py:1458\u001b[0m, in \u001b[0;36mLineCollection.set_segments\u001b[0;34m(self, segments)\u001b[0m\n\u001b[1;32m   1455\u001b[0m         seg \u001b[38;5;241m=\u001b[39m np\u001b[38;5;241m.\u001b[39masarray(seg, \u001b[38;5;28mfloat\u001b[39m)\n\u001b[1;32m   1456\u001b[0m     _segments\u001b[38;5;241m.\u001b[39mappend(seg)\n\u001b[0;32m-> 1458\u001b[0m \u001b[38;5;28mself\u001b[39m\u001b[38;5;241m.\u001b[39m_paths \u001b[38;5;241m=\u001b[39m [mpath\u001b[38;5;241m.\u001b[39mPath(_seg) \u001b[38;5;28;01mfor\u001b[39;00m _seg \u001b[38;5;129;01min\u001b[39;00m _segments]\n\u001b[1;32m   1459\u001b[0m \u001b[38;5;28mself\u001b[39m\u001b[38;5;241m.\u001b[39mstale \u001b[38;5;241m=\u001b[39m \u001b[38;5;28;01mTrue\u001b[39;00m\n",
      "File \u001b[0;32m/Library/Frameworks/Python.framework/Versions/3.10/lib/python3.10/site-packages/matplotlib/collections.py:1458\u001b[0m, in \u001b[0;36m<listcomp>\u001b[0;34m(.0)\u001b[0m\n\u001b[1;32m   1455\u001b[0m         seg \u001b[38;5;241m=\u001b[39m np\u001b[38;5;241m.\u001b[39masarray(seg, \u001b[38;5;28mfloat\u001b[39m)\n\u001b[1;32m   1456\u001b[0m     _segments\u001b[38;5;241m.\u001b[39mappend(seg)\n\u001b[0;32m-> 1458\u001b[0m \u001b[38;5;28mself\u001b[39m\u001b[38;5;241m.\u001b[39m_paths \u001b[38;5;241m=\u001b[39m [\u001b[43mmpath\u001b[49m\u001b[38;5;241;43m.\u001b[39;49m\u001b[43mPath\u001b[49m\u001b[43m(\u001b[49m\u001b[43m_seg\u001b[49m\u001b[43m)\u001b[49m \u001b[38;5;28;01mfor\u001b[39;00m _seg \u001b[38;5;129;01min\u001b[39;00m _segments]\n\u001b[1;32m   1459\u001b[0m \u001b[38;5;28mself\u001b[39m\u001b[38;5;241m.\u001b[39mstale \u001b[38;5;241m=\u001b[39m \u001b[38;5;28;01mTrue\u001b[39;00m\n",
      "File \u001b[0;32m/Library/Frameworks/Python.framework/Versions/3.10/lib/python3.10/site-packages/matplotlib/path.py:130\u001b[0m, in \u001b[0;36mPath.__init__\u001b[0;34m(self, vertices, codes, _interpolation_steps, closed, readonly)\u001b[0m\n\u001b[1;32m    101\u001b[0m \u001b[38;5;124;03m\"\"\"\u001b[39;00m\n\u001b[1;32m    102\u001b[0m \u001b[38;5;124;03mCreate a new path with the given vertices and codes.\u001b[39;00m\n\u001b[1;32m    103\u001b[0m \n\u001b[0;32m   (...)\u001b[0m\n\u001b[1;32m    127\u001b[0m \u001b[38;5;124;03m    and codes as read-only arrays.\u001b[39;00m\n\u001b[1;32m    128\u001b[0m \u001b[38;5;124;03m\"\"\"\u001b[39;00m\n\u001b[1;32m    129\u001b[0m vertices \u001b[38;5;241m=\u001b[39m _to_unmasked_float_array(vertices)\n\u001b[0;32m--> 130\u001b[0m \u001b[43m_api\u001b[49m\u001b[38;5;241;43m.\u001b[39;49m\u001b[43mcheck_shape\u001b[49m\u001b[43m(\u001b[49m\u001b[43m(\u001b[49m\u001b[38;5;28;43;01mNone\u001b[39;49;00m\u001b[43m,\u001b[49m\u001b[43m \u001b[49m\u001b[38;5;241;43m2\u001b[39;49m\u001b[43m)\u001b[49m\u001b[43m,\u001b[49m\u001b[43m \u001b[49m\u001b[43mvertices\u001b[49m\u001b[38;5;241;43m=\u001b[39;49m\u001b[43mvertices\u001b[49m\u001b[43m)\u001b[49m\n\u001b[1;32m    132\u001b[0m \u001b[38;5;28;01mif\u001b[39;00m codes \u001b[38;5;129;01mis\u001b[39;00m \u001b[38;5;129;01mnot\u001b[39;00m \u001b[38;5;28;01mNone\u001b[39;00m:\n\u001b[1;32m    133\u001b[0m     codes \u001b[38;5;241m=\u001b[39m np\u001b[38;5;241m.\u001b[39masarray(codes, \u001b[38;5;28mself\u001b[39m\u001b[38;5;241m.\u001b[39mcode_type)\n",
      "File \u001b[0;32m/Library/Frameworks/Python.framework/Versions/3.10/lib/python3.10/site-packages/matplotlib/_api/__init__.py:164\u001b[0m, in \u001b[0;36mcheck_shape\u001b[0;34m(_shape, **kwargs)\u001b[0m\n\u001b[1;32m    156\u001b[0m dim_labels \u001b[38;5;241m=\u001b[39m \u001b[38;5;28miter\u001b[39m(itertools\u001b[38;5;241m.\u001b[39mchain(\n\u001b[1;32m    157\u001b[0m     \u001b[38;5;124m'\u001b[39m\u001b[38;5;124mMNLIJKLH\u001b[39m\u001b[38;5;124m'\u001b[39m,\n\u001b[1;32m    158\u001b[0m     (\u001b[38;5;124mf\u001b[39m\u001b[38;5;124m\"\u001b[39m\u001b[38;5;124mD\u001b[39m\u001b[38;5;132;01m{\u001b[39;00mi\u001b[38;5;132;01m}\u001b[39;00m\u001b[38;5;124m\"\u001b[39m \u001b[38;5;28;01mfor\u001b[39;00m i \u001b[38;5;129;01min\u001b[39;00m itertools\u001b[38;5;241m.\u001b[39mcount())))\n\u001b[1;32m    159\u001b[0m text_shape \u001b[38;5;241m=\u001b[39m \u001b[38;5;124m\"\u001b[39m\u001b[38;5;124m, \u001b[39m\u001b[38;5;124m\"\u001b[39m\u001b[38;5;241m.\u001b[39mjoin((\u001b[38;5;28mstr\u001b[39m(n)\n\u001b[1;32m    160\u001b[0m                         \u001b[38;5;28;01mif\u001b[39;00m n \u001b[38;5;129;01mis\u001b[39;00m \u001b[38;5;129;01mnot\u001b[39;00m \u001b[38;5;28;01mNone\u001b[39;00m\n\u001b[1;32m    161\u001b[0m                         \u001b[38;5;28;01melse\u001b[39;00m \u001b[38;5;28mnext\u001b[39m(dim_labels)\n\u001b[1;32m    162\u001b[0m                         \u001b[38;5;28;01mfor\u001b[39;00m n \u001b[38;5;129;01min\u001b[39;00m target_shape))\n\u001b[0;32m--> 164\u001b[0m \u001b[38;5;28;01mraise\u001b[39;00m \u001b[38;5;167;01mValueError\u001b[39;00m(\n\u001b[1;32m    165\u001b[0m     \u001b[38;5;124mf\u001b[39m\u001b[38;5;124m\"\u001b[39m\u001b[38;5;132;01m{\u001b[39;00mk\u001b[38;5;132;01m!r}\u001b[39;00m\u001b[38;5;124m must be \u001b[39m\u001b[38;5;132;01m{\u001b[39;00m\u001b[38;5;28mlen\u001b[39m(target_shape)\u001b[38;5;132;01m}\u001b[39;00m\u001b[38;5;124mD \u001b[39m\u001b[38;5;124m\"\u001b[39m\n\u001b[1;32m    166\u001b[0m     \u001b[38;5;124mf\u001b[39m\u001b[38;5;124m\"\u001b[39m\u001b[38;5;124mwith shape (\u001b[39m\u001b[38;5;132;01m{\u001b[39;00mtext_shape\u001b[38;5;132;01m}\u001b[39;00m\u001b[38;5;124m). \u001b[39m\u001b[38;5;124m\"\u001b[39m\n\u001b[1;32m    167\u001b[0m     \u001b[38;5;124mf\u001b[39m\u001b[38;5;124m\"\u001b[39m\u001b[38;5;124mYour input has shape \u001b[39m\u001b[38;5;132;01m{\u001b[39;00mv\u001b[38;5;241m.\u001b[39mshape\u001b[38;5;132;01m}\u001b[39;00m\u001b[38;5;124m.\u001b[39m\u001b[38;5;124m\"\u001b[39m\n\u001b[1;32m    168\u001b[0m )\n",
      "\u001b[0;31mValueError\u001b[0m: 'vertices' must be 2D with shape (M, 2). Your input has shape (2, 16)."
     ]
    },
    {
     "data": {
      "image/png": "[encoded data removed]",
      "text/plain": [
       "<Figure size 1152x576 with 2 Axes>"
      ]
     },
     "metadata": {
      "needs_background": "light"
     },
     "output_type": "display_data"
    }
   ],
   "source": [
    "# visualize the graph using NetworkX\n",
    "\n",
    "import networkx as nx\n",
    "\n",
    "G = nx.Graph()\n",
    "N = len(X)\n",
    "for i in range(N):\n",
    "  for j in range(N):\n",
    "    if i != j and W[i,j] != 0 :\n",
    "      G.add_edge(i, j, weight=W[i,j])\n",
    "\n",
    "fig, ax = plt.subplots(1,2, figsize=(16,8))\n",
    "\n",
    "ax[0].scatter(X[:,0], X[:,1], color='b')\n",
    "ax[0].set_aspect('equal')\n",
    "ax[0].set_xlabel('$x_1$')\n",
    "ax[0].set_ylabel('$x_2$')\n",
    "ax[0].set_title('Input (Unlabelled) data')\n",
    "\n",
    "\n",
    "nx.draw_networkx_nodes(G, X, node_size=100, ax = ax[1])\n",
    "nx.draw_networkx_edges(G, X, ax = ax[1])\n",
    "ax[1].set_aspect('equal')\n",
    "ax[1].set_title('Proximity Graph')"
   ]
  }
 ],
 "metadata": {
  "interpreter": {
   "hash": "aee8b7b246df8f9039afb4144a1f6fd8d2ca17a180786b69acc140d282b71a49"
  },
  "kernelspec": {
   "display_name": "Python 3.10.0 64-bit",
   "language": "python",
   "name": "python3"
  },
  "language_info": {
   "codemirror_mode": {
    "name": "ipython",
    "version": 3
   },
   "file_extension": ".py",
   "mimetype": "text/x-python",
   "name": "python",
   "nbconvert_exporter": "python",
   "pygments_lexer": "ipython3",
   "version": "3.10.0"
  },
  "orig_nbformat": 4
 },
 "nbformat": 4,
 "nbformat_minor": 2
}
