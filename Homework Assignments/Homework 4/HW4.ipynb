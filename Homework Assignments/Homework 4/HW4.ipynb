{
  "cells": [
    {
      "cell_type": "code",
      "execution_count": 1,
      "metadata": {
        "colab": {
          "base_uri": "https://localhost:8080/"
        },
        "id": "4hPCPvQMFbCT",
        "outputId": "2dd7690c-efb7-470a-fcee-38a569ea4c5e"
      },
      "outputs": [
        {
          "name": "stdout",
          "output_type": "stream",
          "text": [
            "Requirement already satisfied: p_tqdm in /home/sathvikc/anaconda3/lib/python3.9/site-packages (1.3.3)\n",
            "Requirement already satisfied: six in /home/sathvikc/anaconda3/lib/python3.9/site-packages (from p_tqdm) (1.16.0)\n",
            "Requirement already satisfied: tqdm in /home/sathvikc/anaconda3/lib/python3.9/site-packages (from p_tqdm) (4.62.3)\n",
            "Requirement already satisfied: pathos in /home/sathvikc/anaconda3/lib/python3.9/site-packages (from p_tqdm) (0.2.8)\n",
            "Requirement already satisfied: ppft>=1.6.6.4 in /home/sathvikc/anaconda3/lib/python3.9/site-packages (from pathos->p_tqdm) (1.6.6.4)\n",
            "Requirement already satisfied: pox>=0.3.0 in /home/sathvikc/anaconda3/lib/python3.9/site-packages (from pathos->p_tqdm) (0.3.0)\n",
            "Requirement already satisfied: multiprocess>=0.70.12 in /home/sathvikc/anaconda3/lib/python3.9/site-packages (from pathos->p_tqdm) (0.70.12.2)\n",
            "Requirement already satisfied: dill>=0.3.4 in /home/sathvikc/anaconda3/lib/python3.9/site-packages (from pathos->p_tqdm) (0.3.4)\n"
          ]
        }
      ],
      "source": [
        "!pip install p_tqdm"
      ]
    },
    {
      "cell_type": "code",
      "execution_count": 2,
      "metadata": {
        "id": "BbPWGQqn7UFr"
      },
      "outputs": [],
      "source": [
        "import numpy as np\n",
        "import matplotlib.pyplot as plt\n",
        "import scipy.spatial \n",
        "from p_tqdm import p_map\n",
        "from sklearn import linear_model"
      ]
    },
    {
      "cell_type": "code",
      "execution_count": 3,
      "metadata": {
        "colab": {
          "base_uri": "https://localhost:8080/"
        },
        "id": "95vB6m257UFt",
        "outputId": "a6098e55-ff6e-42cf-fd3a-0bfb685c0bc8"
      },
      "outputs": [
        {
          "name": "stdout",
          "output_type": "stream",
          "text": [
            "[[b'republican' b'n' b'y' ... b'y' b'n' b'y']\n",
            " [b'republican' b'n' b'y' ... b'y' b'n' b'?']\n",
            " [b'democrat' b'?' b'y' ... b'y' b'n' b'n']\n",
            " ...\n",
            " [b'republican' b'n' b'?' ... b'y' b'n' b'y']\n",
            " [b'republican' b'n' b'n' ... b'y' b'n' b'y']\n",
            " [b'republican' b'n' b'y' ... b'y' b'?' b'n']]\n"
          ]
        }
      ],
      "source": [
        "path_to_dataset = '/home/sathvikc/AMATH-482-2/AMATH-482/Homework Assignments/Homework 4/house-votes-84.data'\n",
        "\n",
        "data = (np.genfromtxt(path_to_dataset, delimiter=',', dtype=object, unpack=True)).T\n",
        "print(data)"
      ]
    },
    {
      "cell_type": "code",
      "execution_count": 4,
      "metadata": {
        "colab": {
          "base_uri": "https://localhost:8080/"
        },
        "id": "7J7KrkJI7UFu",
        "outputId": "a82619b0-1736-46ec-a9b3-93a7313f0305"
      },
      "outputs": [
        {
          "name": "stdout",
          "output_type": "stream",
          "text": [
            "[-1, -1, 1, 1, 1, 1, 1, -1, -1, 1, -1, -1, 1, 1, -1, -1, 1, 1, -1, 1, 1, 1, 1, 1, 1, 1, 1, 1, -1, 1, -1, 1, 1, -1, 1, -1, -1, -1, -1, 1, 1, 1, 1, 1, 1, 1, 1, 1, 1, -1, 1, -1, 1, -1, 1, -1, -1, -1, -1, -1, 1, -1, 1, 1, 1, -1, -1, -1, 1, 1, 1, -1, 1, -1, 1, 1, 1, 1, 1, -1, 1, 1, -1, -1, -1, 1, -1, -1, 1, -1, 1, 1, 1, 1, 1, 1, 1, 1, 1, -1, 1, 1, 1, 1, 1, 1, -1, -1, 1, 1, 1, -1, 1, -1, 1, 1, 1, -1, 1, -1, -1, -1, -1, -1, 1, -1, -1, 1, 1, 1, 1, 1, -1, -1, -1, -1, -1, 1, 1, 1, -1, -1, -1, 1, 1, 1, -1, 1, -1, 1, -1, 1, 1, 1, -1, -1, -1, 1, -1, 1, 1, 1, 1, -1, 1, 1, -1, -1, 1, 1, 1, -1, 1, 1, 1, 1, -1, 1, 1, 1, 1, 1, 1, 1, 1, 1, 1, 1, -1, 1, -1, -1, 1, 1, 1, -1, 1, -1, 1, 1, 1, 1, 1, 1, -1, 1, -1, -1, 1, 1, 1, -1, 1, 1, -1, 1, 1, -1, 1, 1, 1, 1, 1, -1, -1, -1, 1, 1, -1, -1, -1, -1, 1, -1, 1, -1, 1, 1, 1, -1, -1, 1, -1, 1, 1, 1, 1, -1, -1, 1, -1, -1, 1, -1, 1, 1, -1, -1, 1, 1, 1, 1, 1, 1, 1, 1, -1, -1, 1, 1, 1, 1, 1, -1, -1, 1, -1, -1, -1, -1, 1, -1, -1, -1, 1, 1, 1, 1, 1, 1, 1, 1, 1, 1, 1, -1, -1, 1, 1, 1, -1, 1, -1, -1, -1, -1, -1, 1, -1, 1, -1, 1, 1, -1, -1, -1, 1, 1, 1, 1, 1, 1, 1, 1, -1, 1, 1, -1, 1, 1, -1, 1, 1, 1, 1, -1, 1, 1, 1, -1, -1, 1, 1, -1, 1, -1, -1, -1, 1, -1, 1, -1, 1, -1, 1, -1, -1, -1, 1, -1, 1, 1, 1, -1, -1, 1, 1, 1, 1, -1, 1, 1, 1, 1, -1, 1, 1, -1, -1, -1, 1, 1, 1, 1, 1, 1, 1, 1, 1, 1, 1, 1, -1, -1, 1, 1, 1, 1, 1, -1, -1, -1, -1, -1, -1, -1, 1, 1, 1, -1, -1, 1, -1, -1, 1, 1, -1, 1, 1, 1, -1, 1, 1, 1, 1, 1, 1, -1, 1, 1, -1, 1, -1, -1, -1]\n"
          ]
        }
      ],
      "source": [
        "Y = data[:, 0]\n",
        "Y = [1 if i == b'democrat' else -1 for i in Y]\n",
        "print(Y)"
      ]
    },
    {
      "cell_type": "code",
      "execution_count": 5,
      "metadata": {
        "colab": {
          "base_uri": "https://localhost:8080/"
        },
        "id": "__R2VZyE7UFv",
        "outputId": "2c6b6823-bfc4-47f2-ad92-a4bdfc53f03a"
      },
      "outputs": [
        {
          "name": "stdout",
          "output_type": "stream",
          "text": [
            "[[-1 1 -1 ... 1 -1 1]\n",
            " [-1 1 -1 ... 1 -1 0]\n",
            " [0 1 1 ... 1 -1 -1]\n",
            " ...\n",
            " [-1 0 -1 ... 1 -1 1]\n",
            " [-1 -1 -1 ... 1 -1 1]\n",
            " [-1 1 -1 ... 1 0 -1]]\n"
          ]
        }
      ],
      "source": [
        "X = data[:, 1:]\n",
        "for index, column in enumerate(X): \n",
        "    new_column = []\n",
        "    for i in column:\n",
        "        encoded_val = 0\n",
        "        if i == b'y':\n",
        "            encoded_val = 1\n",
        "        elif i == b'n':\n",
        "            encoded_val = -1\n",
        "        new_column.append(encoded_val)\n",
        "    X[index] = new_column\n",
        "print(X)"
      ]
    },
    {
      "cell_type": "code",
      "execution_count": 6,
      "metadata": {
        "id": "f3bIcjJ27UFw"
      },
      "outputs": [],
      "source": [
        "# compute the weight matrix W for the vertices of our graph \n",
        "def eta(tt, rr):\n",
        "\n",
        " val = np.exp( - (tt**2)/(2*rr**2) ) \n",
        "  \n",
        " return val\n",
        "  \n",
        "\n",
        "\n",
        "dist = scipy.spatial.distance_matrix(X, X, p = 2)\n",
        "\n",
        "def spectral_clustering(r):\n",
        "    W = eta(dist, r)\n",
        "    # compute Laplacian matrices \n",
        "    d = np.sum(W, axis=1) # degree vector\n",
        "\n",
        "    D = np.diag(d)\n",
        "    Ds = np.diag(1/np.sqrt(d))\n",
        "\n",
        "    Ln = np.dot(Ds, np.dot((D - W),Ds)) # normalized\n",
        "    # compute eigendecompositions \n",
        "\n",
        "    # we need to sort the eigenvalues and vectors \n",
        "\n",
        "    lln, VVn = np.linalg.eigh(Ln)\n",
        "\n",
        "    idxn = lln.argsort()\n",
        "    Vn = VVn[:, idxn]\n",
        "\n",
        "    q1 = Vn[:, 1]\n",
        "    q1 = np.sign(q1)\n",
        "    num_incorrect = np.sum(q1 != Y)\n",
        "    clustering_accuracy = 1 - (1/435) * num_incorrect\n",
        "    return clustering_accuracy"
      ]
    },
    {
      "cell_type": "code",
      "execution_count": 7,
      "metadata": {
        "colab": {
          "base_uri": "https://localhost:8080/",
          "height": 387,
          "referenced_widgets": [
            "f2783152477a4ebe9ee94d24553a7c11",
            "0134556dba234e3d9e9f723d3a069d7a",
            "059c06f70d804f35a1b77d189c980030",
            "9fea5403de984faa80c57f20b8214324",
            "85eb79881dd14b27a4122c548ea4b104",
            "a47c297951e24db4867070160196fc66",
            "c11ddb86bbff4a59ad3467ee190163b3",
            "9879ad9ac992430ca5935bd34b70b899",
            "9e47b642351f48d28a8b70cdd36fa17d",
            "30cc093c070b40c98f3d0a005d44c430",
            "1cfd9baa4e924901862d027a8ad3c941"
          ]
        },
        "id": "GxZgtulpFWYD",
        "outputId": "e00f1e24-3af0-43be-ada7-135d010d1771"
      },
      "outputs": [
        {
          "name": "stderr",
          "output_type": "stream",
          "text": [
            "/tmp/ipykernel_22638/2121998657.py:4: RuntimeWarning: divide by zero encountered in true_divide\n",
            "  val = np.exp( - (tt**2)/(2*rr**2) )\n",
            "/tmp/ipykernel_22638/2121998657.py:4: RuntimeWarning: invalid value encountered in true_divide\n",
            "  val = np.exp( - (tt**2)/(2*rr**2) )\n"
          ]
        },
        {
          "data": {
            "application/vnd.jupyter.widget-view+json": {
              "model_id": "e765fab711cd4ec2a00e5391c4a1b05b",
              "version_major": 2,
              "version_minor": 0
            },
            "text/plain": [
              "  0%|          | 0/1000 [00:00<?, ?it/s]"
            ]
          },
          "metadata": {},
          "output_type": "display_data"
        },
        {
          "data": {
            "image/png": "[encoded data removed]",
            "text/plain": [
              "<Figure size 432x288 with 1 Axes>"
            ]
          },
          "metadata": {
            "needs_background": "light"
          },
          "output_type": "display_data"
        }
      ],
      "source": [
        "inputs = np.linspace(0, 4, 1000)\n",
        "results = p_map(spectral_clustering, inputs)\n",
        "fig, ax = plt.subplots()\n",
        "ax.set_xlabel('$\\sigma$')\n",
        "ax.set_ylabel('accuracy')\n",
        "ax.scatter(inputs, results)\n",
        "fig.savefig('sigma_accuracy.png')"
      ]
    },
    {
      "cell_type": "code",
      "execution_count": 8,
      "metadata": {
        "colab": {
          "base_uri": "https://localhost:8080/"
        },
        "id": "bAltrR_bGVmt",
        "outputId": "3aceb06c-5685-4354-c05b-a259532b25cf"
      },
      "outputs": [
        {
          "name": "stdout",
          "output_type": "stream",
          "text": [
            "Best Sigma is 1.053053053053053 with best accuracy 0.8873563218390804\n"
          ]
        }
      ],
      "source": [
        "sigma_star = inputs[np.argmax(results)]\n",
        "accuracy = spectral_clustering(sigma_star)\n",
        "print(f'Best Sigma is {sigma_star} with best accuracy {accuracy}')"
      ]
    },
    {
      "cell_type": "code",
      "execution_count": 9,
      "metadata": {
        "id": "gjznb528FWYE"
      },
      "outputs": [],
      "source": [
        "W = eta(dist, sigma_star)\n",
        "    # compute Laplacian matrices \n",
        "d = np.sum(W, axis=1) # degree vector\n",
        "\n",
        "D = np.diag(d)\n",
        "Ds = np.diag(1/np.sqrt(d))\n",
        "\n",
        "Ln = np.dot(Ds, np.dot((D - W),Ds)) # normalized\n",
        "    # compute eigendecompositions \n",
        "\n",
        "    # we need to sort the eigenvalues and vectors \n",
        "\n",
        "lln, VVn = np.linalg.eigh(Ln)\n",
        "\n",
        "idxn = lln.argsort()\n",
        "Vn = VVn[:, idxn]"
      ]
    },
    {
      "cell_type": "code",
      "execution_count": 10,
      "metadata": {
        "colab": {
          "base_uri": "https://localhost:8080/"
        },
        "id": "cleVsTtKI09F",
        "outputId": "16c3b437-5b57-41c4-a19c-ffbae41e0ed3"
      },
      "outputs": [
        {
          "name": "stdout",
          "output_type": "stream",
          "text": [
            "accuracy with M = 1 and J = 1: 0.38620689655172413\n",
            "accuracy with M = 1 and J = 2: 0.38620689655172413\n",
            "accuracy with M = 1 and J = 3: 0.38620689655172413\n",
            "accuracy with M = 1 and J = 4: 0.38620689655172413\n",
            "accuracy with M = 1 and J = 5: 0.38620689655172413\n",
            "accuracy with M = 1 and J = 6: 0.38620689655172413\n",
            "accuracy with M = 1 and J = 7: 0.38620689655172413\n",
            "accuracy with M = 1 and J = 8: 0.38620689655172413\n",
            "accuracy with M = 1 and J = 9: 0.38620689655172413\n",
            "accuracy with M = 1 and J = 10: 0.38620689655172413\n",
            "accuracy with M = 1 and J = 11: 0.38620689655172413\n",
            "accuracy with M = 1 and J = 12: 0.38620689655172413\n",
            "accuracy with M = 1 and J = 13: 0.38620689655172413\n",
            "accuracy with M = 1 and J = 14: 0.38620689655172413\n",
            "accuracy with M = 1 and J = 15: 0.38620689655172413\n",
            "accuracy with M = 1 and J = 16: 0.38620689655172413\n",
            "accuracy with M = 1 and J = 17: 0.38620689655172413\n",
            "accuracy with M = 1 and J = 18: 0.38620689655172413\n",
            "accuracy with M = 1 and J = 19: 0.38620689655172413\n",
            "accuracy with M = 1 and J = 20: 0.38620689655172413\n",
            "accuracy with M = 1 and J = 21: 0.38620689655172413\n",
            "accuracy with M = 1 and J = 22: 0.38620689655172413\n",
            "accuracy with M = 1 and J = 23: 0.38620689655172413\n",
            "accuracy with M = 1 and J = 24: 0.6137931034482759\n",
            "accuracy with M = 1 and J = 25: 0.6137931034482759\n",
            "accuracy with M = 1 and J = 26: 0.6137931034482759\n",
            "accuracy with M = 1 and J = 27: 0.6137931034482759\n",
            "accuracy with M = 1 and J = 28: 0.6137931034482759\n",
            "accuracy with M = 1 and J = 29: 0.6137931034482759\n",
            "accuracy with M = 1 and J = 30: 0.6137931034482759\n",
            "accuracy with M = 1 and J = 31: 0.6137931034482759\n",
            "accuracy with M = 1 and J = 32: 0.6137931034482759\n",
            "accuracy with M = 1 and J = 33: 0.6137931034482759\n",
            "accuracy with M = 1 and J = 34: 0.6137931034482759\n",
            "accuracy with M = 1 and J = 35: 0.6137931034482759\n",
            "accuracy with M = 1 and J = 36: 0.6137931034482759\n",
            "accuracy with M = 1 and J = 37: 0.6137931034482759\n",
            "accuracy with M = 1 and J = 38: 0.6137931034482759\n",
            "accuracy with M = 1 and J = 39: 0.6137931034482759\n",
            "accuracy with M = 1 and J = 40: 0.6137931034482759\n",
            "accuracy with M = 2 and J = 1: 0.7218390804597701\n",
            "accuracy with M = 2 and J = 2: 0.38620689655172413\n",
            "accuracy with M = 2 and J = 3: 0.8873563218390804\n",
            "accuracy with M = 2 and J = 4: 0.8827586206896552\n",
            "accuracy with M = 2 and J = 5: 0.8827586206896552\n",
            "accuracy with M = 2 and J = 6: 0.8896551724137931\n",
            "accuracy with M = 2 and J = 7: 0.8873563218390804\n",
            "accuracy with M = 2 and J = 8: 0.8896551724137931\n",
            "accuracy with M = 2 and J = 9: 0.8896551724137931\n",
            "accuracy with M = 2 and J = 10: 0.8781609195402299\n",
            "accuracy with M = 2 and J = 11: 0.8827586206896552\n",
            "accuracy with M = 2 and J = 12: 0.8827586206896552\n",
            "accuracy with M = 2 and J = 13: 0.8827586206896552\n",
            "accuracy with M = 2 and J = 14: 0.8781609195402299\n",
            "accuracy with M = 2 and J = 15: 0.8827586206896552\n",
            "accuracy with M = 2 and J = 16: 0.8827586206896552\n",
            "accuracy with M = 2 and J = 17: 0.8781609195402299\n",
            "accuracy with M = 2 and J = 18: 0.8827586206896552\n",
            "accuracy with M = 2 and J = 19: 0.8827586206896552\n",
            "accuracy with M = 2 and J = 20: 0.8850574712643678\n",
            "accuracy with M = 2 and J = 21: 0.8850574712643678\n",
            "accuracy with M = 2 and J = 22: 0.8850574712643678\n",
            "accuracy with M = 2 and J = 23: 0.8804597701149426\n",
            "accuracy with M = 2 and J = 24: 0.8804597701149426\n",
            "accuracy with M = 2 and J = 25: 0.8850574712643678\n",
            "accuracy with M = 2 and J = 26: 0.8850574712643678\n",
            "accuracy with M = 2 and J = 27: 0.8850574712643678\n",
            "accuracy with M = 2 and J = 28: 0.8850574712643678\n",
            "accuracy with M = 2 and J = 29: 0.8850574712643678\n",
            "accuracy with M = 2 and J = 30: 0.8850574712643678\n",
            "accuracy with M = 2 and J = 31: 0.8850574712643678\n",
            "accuracy with M = 2 and J = 32: 0.8850574712643678\n",
            "accuracy with M = 2 and J = 33: 0.8850574712643678\n",
            "accuracy with M = 2 and J = 34: 0.8850574712643678\n",
            "accuracy with M = 2 and J = 35: 0.8850574712643678\n",
            "accuracy with M = 2 and J = 36: 0.8850574712643678\n",
            "accuracy with M = 2 and J = 37: 0.8850574712643678\n",
            "accuracy with M = 2 and J = 38: 0.8873563218390804\n",
            "accuracy with M = 2 and J = 39: 0.8873563218390804\n",
            "accuracy with M = 2 and J = 40: 0.8850574712643678\n",
            "accuracy with M = 3 and J = 1: 0.7218390804597701\n",
            "accuracy with M = 3 and J = 2: 0.3885057471264368\n",
            "accuracy with M = 3 and J = 3: 0.8873563218390804\n",
            "accuracy with M = 3 and J = 4: 0.4850574712643678\n",
            "accuracy with M = 3 and J = 5: 0.8827586206896552\n",
            "accuracy with M = 3 and J = 6: 0.8896551724137931\n",
            "accuracy with M = 3 and J = 7: 0.5379310344827586\n",
            "accuracy with M = 3 and J = 8: 0.6413793103448275\n",
            "accuracy with M = 3 and J = 9: 0.6298850574712644\n",
            "accuracy with M = 3 and J = 10: 0.8919540229885058\n",
            "accuracy with M = 3 and J = 11: 0.8919540229885058\n",
            "accuracy with M = 3 and J = 12: 0.8919540229885058\n",
            "accuracy with M = 3 and J = 13: 0.8919540229885058\n",
            "accuracy with M = 3 and J = 14: 0.8919540229885058\n",
            "accuracy with M = 3 and J = 15: 0.8942528735632184\n",
            "accuracy with M = 3 and J = 16: 0.8942528735632184\n",
            "accuracy with M = 3 and J = 17: 0.8873563218390804\n",
            "accuracy with M = 3 and J = 18: 0.8873563218390804\n",
            "accuracy with M = 3 and J = 19: 0.8873563218390804\n",
            "accuracy with M = 3 and J = 20: 0.8873563218390804\n",
            "accuracy with M = 3 and J = 21: 0.8873563218390804\n",
            "accuracy with M = 3 and J = 22: 0.8873563218390804\n",
            "accuracy with M = 3 and J = 23: 0.8873563218390804\n",
            "accuracy with M = 3 and J = 24: 0.8873563218390804\n",
            "accuracy with M = 3 and J = 25: 0.8873563218390804\n",
            "accuracy with M = 3 and J = 26: 0.8873563218390804\n",
            "accuracy with M = 3 and J = 27: 0.8873563218390804\n",
            "accuracy with M = 3 and J = 28: 0.8873563218390804\n",
            "accuracy with M = 3 and J = 29: 0.8942528735632184\n",
            "accuracy with M = 3 and J = 30: 0.8942528735632184\n",
            "accuracy with M = 3 and J = 31: 0.8942528735632184\n",
            "accuracy with M = 3 and J = 32: 0.8942528735632184\n",
            "accuracy with M = 3 and J = 33: 0.8942528735632184\n",
            "accuracy with M = 3 and J = 34: 0.8919540229885058\n",
            "accuracy with M = 3 and J = 35: 0.8919540229885058\n",
            "accuracy with M = 3 and J = 36: 0.8896551724137931\n",
            "accuracy with M = 3 and J = 37: 0.8942528735632184\n",
            "accuracy with M = 3 and J = 38: 0.8942528735632184\n",
            "accuracy with M = 3 and J = 39: 0.8942528735632184\n",
            "accuracy with M = 3 and J = 40: 0.8942528735632184\n",
            "accuracy with M = 4 and J = 1: 0.7310344827586207\n",
            "accuracy with M = 4 and J = 2: 0.3885057471264368\n",
            "accuracy with M = 4 and J = 3: 0.4413793103448276\n",
            "accuracy with M = 4 and J = 4: 0.8689655172413793\n",
            "accuracy with M = 4 and J = 5: 0.8620689655172413\n",
            "accuracy with M = 4 and J = 6: 0.8597701149425288\n",
            "accuracy with M = 4 and J = 7: 0.864367816091954\n",
            "accuracy with M = 4 and J = 8: 0.8620689655172413\n",
            "accuracy with M = 4 and J = 9: 0.8597701149425288\n",
            "accuracy with M = 4 and J = 10: 0.8873563218390804\n",
            "accuracy with M = 4 and J = 11: 0.8919540229885058\n",
            "accuracy with M = 4 and J = 12: 0.8942528735632184\n",
            "accuracy with M = 4 and J = 13: 0.8919540229885058\n",
            "accuracy with M = 4 and J = 14: 0.8919540229885058\n",
            "accuracy with M = 4 and J = 15: 0.8896551724137931\n",
            "accuracy with M = 4 and J = 16: 0.8896551724137931\n",
            "accuracy with M = 4 and J = 17: 0.896551724137931\n",
            "accuracy with M = 4 and J = 18: 0.8988505747126436\n",
            "accuracy with M = 4 and J = 19: 0.8988505747126436\n",
            "accuracy with M = 4 and J = 20: 0.8988505747126436\n",
            "accuracy with M = 4 and J = 21: 0.8988505747126436\n",
            "accuracy with M = 4 and J = 22: 0.8988505747126436\n",
            "accuracy with M = 4 and J = 23: 0.896551724137931\n",
            "accuracy with M = 4 and J = 24: 0.8942528735632184\n",
            "accuracy with M = 4 and J = 25: 0.8942528735632184\n",
            "accuracy with M = 4 and J = 26: 0.8942528735632184\n",
            "accuracy with M = 4 and J = 27: 0.8942528735632184\n",
            "accuracy with M = 4 and J = 28: 0.8942528735632184\n",
            "accuracy with M = 4 and J = 29: 0.9011494252873563\n",
            "accuracy with M = 4 and J = 30: 0.9011494252873563\n",
            "accuracy with M = 4 and J = 31: 0.9011494252873563\n",
            "accuracy with M = 4 and J = 32: 0.9011494252873563\n",
            "accuracy with M = 4 and J = 33: 0.9011494252873563\n",
            "accuracy with M = 4 and J = 34: 0.9011494252873563\n",
            "accuracy with M = 4 and J = 35: 0.9011494252873563\n",
            "accuracy with M = 4 and J = 36: 0.9011494252873563\n",
            "accuracy with M = 4 and J = 37: 0.9011494252873563\n",
            "accuracy with M = 4 and J = 38: 0.9011494252873563\n",
            "accuracy with M = 4 and J = 39: 0.9011494252873563\n",
            "accuracy with M = 4 and J = 40: 0.9011494252873563\n",
            "accuracy with M = 5 and J = 1: 0.7218390804597701\n",
            "accuracy with M = 5 and J = 2: 0.39540229885057476\n",
            "accuracy with M = 5 and J = 3: 0.8344827586206897\n",
            "accuracy with M = 5 and J = 4: 0.8666666666666667\n",
            "accuracy with M = 5 and J = 5: 0.8827586206896552\n",
            "accuracy with M = 5 and J = 6: 0.8620689655172413\n",
            "accuracy with M = 5 and J = 7: 0.8919540229885058\n",
            "accuracy with M = 5 and J = 8: 0.8781609195402299\n",
            "accuracy with M = 5 and J = 9: 0.8781609195402299\n",
            "accuracy with M = 5 and J = 10: 0.8873563218390804\n",
            "accuracy with M = 5 and J = 11: 0.8735632183908046\n",
            "accuracy with M = 5 and J = 12: 0.7103448275862069\n",
            "accuracy with M = 5 and J = 13: 0.8827586206896552\n",
            "accuracy with M = 5 and J = 14: 0.8827586206896552\n",
            "accuracy with M = 5 and J = 15: 0.8827586206896552\n",
            "accuracy with M = 5 and J = 16: 0.8827586206896552\n",
            "accuracy with M = 5 and J = 17: 0.8735632183908046\n",
            "accuracy with M = 5 and J = 18: 0.8735632183908046\n",
            "accuracy with M = 5 and J = 19: 0.8735632183908046\n",
            "accuracy with M = 5 and J = 20: 0.8735632183908046\n",
            "accuracy with M = 5 and J = 21: 0.8735632183908046\n",
            "accuracy with M = 5 and J = 22: 0.8735632183908046\n",
            "accuracy with M = 5 and J = 23: 0.8735632183908046\n",
            "accuracy with M = 5 and J = 24: 0.8735632183908046\n",
            "accuracy with M = 5 and J = 25: 0.8735632183908046\n",
            "accuracy with M = 5 and J = 26: 0.8735632183908046\n",
            "accuracy with M = 5 and J = 27: 0.8735632183908046\n",
            "accuracy with M = 5 and J = 28: 0.8735632183908046\n",
            "accuracy with M = 5 and J = 29: 0.9287356321839081\n",
            "accuracy with M = 5 and J = 30: 0.9287356321839081\n",
            "accuracy with M = 5 and J = 31: 0.9287356321839081\n",
            "accuracy with M = 5 and J = 32: 0.9287356321839081\n",
            "accuracy with M = 5 and J = 33: 0.9287356321839081\n",
            "accuracy with M = 5 and J = 34: 0.9287356321839081\n",
            "accuracy with M = 5 and J = 35: 0.9287356321839081\n",
            "accuracy with M = 5 and J = 36: 0.9287356321839081\n",
            "accuracy with M = 5 and J = 37: 0.9287356321839081\n",
            "accuracy with M = 5 and J = 38: 0.9264367816091954\n",
            "accuracy with M = 5 and J = 39: 0.9264367816091954\n",
            "accuracy with M = 5 and J = 40: 0.9264367816091954\n",
            "accuracy with M = 6 and J = 1: 0.7241379310344828\n",
            "accuracy with M = 6 and J = 2: 0.39770114942528734\n",
            "accuracy with M = 6 and J = 3: 0.832183908045977\n",
            "accuracy with M = 6 and J = 4: 0.8436781609195403\n",
            "accuracy with M = 6 and J = 5: 0.8827586206896552\n",
            "accuracy with M = 6 and J = 6: 0.3425287356321839\n",
            "accuracy with M = 6 and J = 7: 0.33333333333333337\n",
            "accuracy with M = 6 and J = 8: 0.33333333333333337\n",
            "accuracy with M = 6 and J = 9: 0.33333333333333337\n",
            "accuracy with M = 6 and J = 10: 0.8160919540229885\n",
            "accuracy with M = 6 and J = 11: 0.7816091954022988\n",
            "accuracy with M = 6 and J = 12: 0.7195402298850575\n",
            "accuracy with M = 6 and J = 13: 0.8137931034482759\n",
            "accuracy with M = 6 and J = 14: 0.7885057471264367\n",
            "accuracy with M = 6 and J = 15: 0.7862068965517242\n",
            "accuracy with M = 6 and J = 16: 0.7862068965517242\n",
            "accuracy with M = 6 and J = 17: 0.7816091954022988\n",
            "accuracy with M = 6 and J = 18: 0.7839080459770115\n",
            "accuracy with M = 6 and J = 19: 0.7839080459770115\n",
            "accuracy with M = 6 and J = 20: 0.7816091954022988\n",
            "accuracy with M = 6 and J = 21: 0.7839080459770115\n",
            "accuracy with M = 6 and J = 22: 0.7839080459770115\n",
            "accuracy with M = 6 and J = 23: 0.7839080459770115\n",
            "accuracy with M = 6 and J = 24: 0.7839080459770115\n",
            "accuracy with M = 6 and J = 25: 0.7816091954022988\n",
            "accuracy with M = 6 and J = 26: 0.7816091954022988\n",
            "accuracy with M = 6 and J = 27: 0.7839080459770115\n",
            "accuracy with M = 6 and J = 28: 0.7839080459770115\n",
            "accuracy with M = 6 and J = 29: 0.9333333333333333\n",
            "accuracy with M = 6 and J = 30: 0.9333333333333333\n",
            "accuracy with M = 6 and J = 31: 0.9333333333333333\n",
            "accuracy with M = 6 and J = 32: 0.9333333333333333\n",
            "accuracy with M = 6 and J = 33: 0.9333333333333333\n",
            "accuracy with M = 6 and J = 34: 0.9333333333333333\n",
            "accuracy with M = 6 and J = 35: 0.9333333333333333\n",
            "accuracy with M = 6 and J = 36: 0.9333333333333333\n",
            "accuracy with M = 6 and J = 37: 0.9333333333333333\n",
            "accuracy with M = 6 and J = 38: 0.9310344827586207\n",
            "accuracy with M = 6 and J = 39: 0.9310344827586207\n",
            "accuracy with M = 6 and J = 40: 0.9310344827586207\n"
          ]
        }
      ],
      "source": [
        "M = np.arange(1, 7, 1) #[2, 3, 4, 5, 6]\n",
        "J = np.arange(1, 41, 1)#[5, 10, 20, 40]\n",
        "results = []\n",
        "def get_semi_supervised_accuracy(M, J):\n",
        "  F = Vn[:, 0:M]\n",
        "  A = F[0:J, 0:M]\n",
        "  b = Y[0:J]\n",
        "  SSLRidge = linear_model.Ridge(alpha = 1e-8, fit_intercept=False)\n",
        "  SSLRidge.fit(A, b)\n",
        "\n",
        "  coefficients = SSLRidge.coef_\n",
        "  Y_pred = np.sign(np.dot(F, coefficients))\n",
        "\n",
        "  accuracy = 1 - (1/435) * np.sum(Y_pred != Y)\n",
        "  print(f'accuracy with M = {M} and J = {J}: {accuracy}')\n",
        "  return accuracy\n",
        "\n",
        "for i in M:\n",
        "  temp_arr = []\n",
        "  for j in J:\n",
        "    temp_arr.append(get_semi_supervised_accuracy(i, j))\n",
        "  results.append(temp_arr)"
      ]
    },
    {
      "cell_type": "code",
      "execution_count": 11,
      "metadata": {
        "colab": {
          "base_uri": "https://localhost:8080/",
          "height": 248
        },
        "id": "x5dMXyva5kRX",
        "outputId": "96fc9723-7e65-4b52-a587-a5f063250356"
      },
      "outputs": [
        {
          "data": {
            "image/png": "[encoded data removed]",
            "text/plain": [
              "<Figure size 432x288 with 1 Axes>"
            ]
          },
          "metadata": {
            "needs_background": "light"
          },
          "output_type": "display_data"
        }
      ],
      "source": [
        "j, m = np.meshgrid(J, M)\n",
        "fig = plt.figure()\n",
        "ax = fig.add_subplot(111, projection='3d')\n",
        "ax.scatter3D(m, j, np.array(results), c=np.array(results))\n",
        "ax.set_xlabel('M')\n",
        "ax.set_ylabel('J')\n",
        "ax.set_zlabel('accuracy')\n",
        "fig.savefig('M_J_accuracyLotPoints.png')"
      ]
    },
    {
      "cell_type": "code",
      "execution_count": 12,
      "metadata": {
        "colab": {
          "base_uri": "https://localhost:8080/"
        },
        "id": "-jLFDSfH904V",
        "outputId": "66e55f6b-902a-47d7-d70e-718b992eab3a"
      },
      "outputs": [
        {
          "name": "stdout",
          "output_type": "stream",
          "text": [
            "J = 29\n",
            "M = 6\n",
            "accuracy is 0.9333333333333333\n"
          ]
        }
      ],
      "source": [
        "test = np.argmax(np.array(results))\n",
        "J_star = test % len(J) + 1\n",
        "M_star =  int(test / len(J)) + 1\n",
        "print(f'J = {test % len(J) + 1}')\n",
        "print(f'M = {int(test / len(J)) + 1}')\n",
        "print(f'accuracy is {np.array(results)[M_star - 1][J_star - 1]}')"
      ]
    }
  ],
  "metadata": {
    "accelerator": "GPU",
    "colab": {
      "name": "HW4.ipynb",
      "provenance": []
    },
    "interpreter": {
      "hash": "aee8b7b246df8f9039afb4144a1f6fd8d2ca17a180786b69acc140d282b71a49"
    },
    "kernelspec": {
      "display_name": "Python 3.10.0 64-bit",
      "language": "python",
      "name": "python3"
    },
    "language_info": {
      "codemirror_mode": {
        "name": "ipython",
        "version": 3
      },
      "file_extension": ".py",
      "mimetype": "text/x-python",
      "name": "python",
      "nbconvert_exporter": "python",
      "pygments_lexer": "ipython3",
      "version": "3.9.7"
    },
    "orig_nbformat": 4,
    "widgets": {
      "application/vnd.jupyter.widget-state+json": {
        "0134556dba234e3d9e9f723d3a069d7a": {
          "model_module": "@jupyter-widgets/base",
          "model_module_version": "1.2.0",
          "model_name": "LayoutModel",
          "state": {
            "_model_module": "@jupyter-widgets/base",
            "_model_module_version": "1.2.0",
            "_model_name": "LayoutModel",
            "_view_count": null,
            "_view_module": "@jupyter-widgets/base",
            "_view_module_version": "1.2.0",
            "_view_name": "LayoutView",
            "align_content": null,
            "align_items": null,
            "align_self": null,
            "border": null,
            "bottom": null,
            "display": null,
            "flex": null,
            "flex_flow": null,
            "grid_area": null,
            "grid_auto_columns": null,
            "grid_auto_flow": null,
            "grid_auto_rows": null,
            "grid_column": null,
            "grid_gap": null,
            "grid_row": null,
            "grid_template_areas": null,
            "grid_template_columns": null,
            "grid_template_rows": null,
            "height": null,
            "justify_content": null,
            "justify_items": null,
            "left": null,
            "margin": null,
            "max_height": null,
            "max_width": null,
            "min_height": null,
            "min_width": null,
            "object_fit": null,
            "object_position": null,
            "order": null,
            "overflow": null,
            "overflow_x": null,
            "overflow_y": null,
            "padding": null,
            "right": null,
            "top": null,
            "visibility": null,
            "width": null
          }
        },
        "059c06f70d804f35a1b77d189c980030": {
          "model_module": "@jupyter-widgets/controls",
          "model_module_version": "1.5.0",
          "model_name": "HTMLModel",
          "state": {
            "_dom_classes": [],
            "_model_module": "@jupyter-widgets/controls",
            "_model_module_version": "1.5.0",
            "_model_name": "HTMLModel",
            "_view_count": null,
            "_view_module": "@jupyter-widgets/controls",
            "_view_module_version": "1.5.0",
            "_view_name": "HTMLView",
            "description": "",
            "description_tooltip": null,
            "layout": "IPY_MODEL_c11ddb86bbff4a59ad3467ee190163b3",
            "placeholder": "​",
            "style": "IPY_MODEL_a47c297951e24db4867070160196fc66",
            "value": "100%"
          }
        },
        "1cfd9baa4e924901862d027a8ad3c941": {
          "model_module": "@jupyter-widgets/base",
          "model_module_version": "1.2.0",
          "model_name": "LayoutModel",
          "state": {
            "_model_module": "@jupyter-widgets/base",
            "_model_module_version": "1.2.0",
            "_model_name": "LayoutModel",
            "_view_count": null,
            "_view_module": "@jupyter-widgets/base",
            "_view_module_version": "1.2.0",
            "_view_name": "LayoutView",
            "align_content": null,
            "align_items": null,
            "align_self": null,
            "border": null,
            "bottom": null,
            "display": null,
            "flex": null,
            "flex_flow": null,
            "grid_area": null,
            "grid_auto_columns": null,
            "grid_auto_flow": null,
            "grid_auto_rows": null,
            "grid_column": null,
            "grid_gap": null,
            "grid_row": null,
            "grid_template_areas": null,
            "grid_template_columns": null,
            "grid_template_rows": null,
            "height": null,
            "justify_content": null,
            "justify_items": null,
            "left": null,
            "margin": null,
            "max_height": null,
            "max_width": null,
            "min_height": null,
            "min_width": null,
            "object_fit": null,
            "object_position": null,
            "order": null,
            "overflow": null,
            "overflow_x": null,
            "overflow_y": null,
            "padding": null,
            "right": null,
            "top": null,
            "visibility": null,
            "width": null
          }
        },
        "30cc093c070b40c98f3d0a005d44c430": {
          "model_module": "@jupyter-widgets/controls",
          "model_module_version": "1.5.0",
          "model_name": "DescriptionStyleModel",
          "state": {
            "_model_module": "@jupyter-widgets/controls",
            "_model_module_version": "1.5.0",
            "_model_name": "DescriptionStyleModel",
            "_view_count": null,
            "_view_module": "@jupyter-widgets/base",
            "_view_module_version": "1.2.0",
            "_view_name": "StyleView",
            "description_width": ""
          }
        },
        "85eb79881dd14b27a4122c548ea4b104": {
          "model_module": "@jupyter-widgets/controls",
          "model_module_version": "1.5.0",
          "model_name": "HTMLModel",
          "state": {
            "_dom_classes": [],
            "_model_module": "@jupyter-widgets/controls",
            "_model_module_version": "1.5.0",
            "_model_name": "HTMLModel",
            "_view_count": null,
            "_view_module": "@jupyter-widgets/controls",
            "_view_module_version": "1.5.0",
            "_view_name": "HTMLView",
            "description": "",
            "description_tooltip": null,
            "layout": "IPY_MODEL_1cfd9baa4e924901862d027a8ad3c941",
            "placeholder": "​",
            "style": "IPY_MODEL_30cc093c070b40c98f3d0a005d44c430",
            "value": " 1000/1000 [00:47&lt;00:00, 20.54it/s]"
          }
        },
        "9879ad9ac992430ca5935bd34b70b899": {
          "model_module": "@jupyter-widgets/controls",
          "model_module_version": "1.5.0",
          "model_name": "ProgressStyleModel",
          "state": {
            "_model_module": "@jupyter-widgets/controls",
            "_model_module_version": "1.5.0",
            "_model_name": "ProgressStyleModel",
            "_view_count": null,
            "_view_module": "@jupyter-widgets/base",
            "_view_module_version": "1.2.0",
            "_view_name": "StyleView",
            "bar_color": null,
            "description_width": ""
          }
        },
        "9e47b642351f48d28a8b70cdd36fa17d": {
          "model_module": "@jupyter-widgets/base",
          "model_module_version": "1.2.0",
          "model_name": "LayoutModel",
          "state": {
            "_model_module": "@jupyter-widgets/base",
            "_model_module_version": "1.2.0",
            "_model_name": "LayoutModel",
            "_view_count": null,
            "_view_module": "@jupyter-widgets/base",
            "_view_module_version": "1.2.0",
            "_view_name": "LayoutView",
            "align_content": null,
            "align_items": null,
            "align_self": null,
            "border": null,
            "bottom": null,
            "display": null,
            "flex": null,
            "flex_flow": null,
            "grid_area": null,
            "grid_auto_columns": null,
            "grid_auto_flow": null,
            "grid_auto_rows": null,
            "grid_column": null,
            "grid_gap": null,
            "grid_row": null,
            "grid_template_areas": null,
            "grid_template_columns": null,
            "grid_template_rows": null,
            "height": null,
            "justify_content": null,
            "justify_items": null,
            "left": null,
            "margin": null,
            "max_height": null,
            "max_width": null,
            "min_height": null,
            "min_width": null,
            "object_fit": null,
            "object_position": null,
            "order": null,
            "overflow": null,
            "overflow_x": null,
            "overflow_y": null,
            "padding": null,
            "right": null,
            "top": null,
            "visibility": null,
            "width": null
          }
        },
        "9fea5403de984faa80c57f20b8214324": {
          "model_module": "@jupyter-widgets/controls",
          "model_module_version": "1.5.0",
          "model_name": "FloatProgressModel",
          "state": {
            "_dom_classes": [],
            "_model_module": "@jupyter-widgets/controls",
            "_model_module_version": "1.5.0",
            "_model_name": "FloatProgressModel",
            "_view_count": null,
            "_view_module": "@jupyter-widgets/controls",
            "_view_module_version": "1.5.0",
            "_view_name": "ProgressView",
            "bar_style": "success",
            "description": "",
            "description_tooltip": null,
            "layout": "IPY_MODEL_9e47b642351f48d28a8b70cdd36fa17d",
            "max": 1000,
            "min": 0,
            "orientation": "horizontal",
            "style": "IPY_MODEL_9879ad9ac992430ca5935bd34b70b899",
            "value": 1000
          }
        },
        "a47c297951e24db4867070160196fc66": {
          "model_module": "@jupyter-widgets/controls",
          "model_module_version": "1.5.0",
          "model_name": "DescriptionStyleModel",
          "state": {
            "_model_module": "@jupyter-widgets/controls",
            "_model_module_version": "1.5.0",
            "_model_name": "DescriptionStyleModel",
            "_view_count": null,
            "_view_module": "@jupyter-widgets/base",
            "_view_module_version": "1.2.0",
            "_view_name": "StyleView",
            "description_width": ""
          }
        },
        "c11ddb86bbff4a59ad3467ee190163b3": {
          "model_module": "@jupyter-widgets/base",
          "model_module_version": "1.2.0",
          "model_name": "LayoutModel",
          "state": {
            "_model_module": "@jupyter-widgets/base",
            "_model_module_version": "1.2.0",
            "_model_name": "LayoutModel",
            "_view_count": null,
            "_view_module": "@jupyter-widgets/base",
            "_view_module_version": "1.2.0",
            "_view_name": "LayoutView",
            "align_content": null,
            "align_items": null,
            "align_self": null,
            "border": null,
            "bottom": null,
            "display": null,
            "flex": null,
            "flex_flow": null,
            "grid_area": null,
            "grid_auto_columns": null,
            "grid_auto_flow": null,
            "grid_auto_rows": null,
            "grid_column": null,
            "grid_gap": null,
            "grid_row": null,
            "grid_template_areas": null,
            "grid_template_columns": null,
            "grid_template_rows": null,
            "height": null,
            "justify_content": null,
            "justify_items": null,
            "left": null,
            "margin": null,
            "max_height": null,
            "max_width": null,
            "min_height": null,
            "min_width": null,
            "object_fit": null,
            "object_position": null,
            "order": null,
            "overflow": null,
            "overflow_x": null,
            "overflow_y": null,
            "padding": null,
            "right": null,
            "top": null,
            "visibility": null,
            "width": null
          }
        },
        "f2783152477a4ebe9ee94d24553a7c11": {
          "model_module": "@jupyter-widgets/controls",
          "model_module_version": "1.5.0",
          "model_name": "HBoxModel",
          "state": {
            "_dom_classes": [],
            "_model_module": "@jupyter-widgets/controls",
            "_model_module_version": "1.5.0",
            "_model_name": "HBoxModel",
            "_view_count": null,
            "_view_module": "@jupyter-widgets/controls",
            "_view_module_version": "1.5.0",
            "_view_name": "HBoxView",
            "box_style": "",
            "children": [
              "IPY_MODEL_059c06f70d804f35a1b77d189c980030",
              "IPY_MODEL_9fea5403de984faa80c57f20b8214324",
              "IPY_MODEL_85eb79881dd14b27a4122c548ea4b104"
            ],
            "layout": "IPY_MODEL_0134556dba234e3d9e9f723d3a069d7a"
          }
        }
      }
    }
  },
  "nbformat": 4,
  "nbformat_minor": 0
}
