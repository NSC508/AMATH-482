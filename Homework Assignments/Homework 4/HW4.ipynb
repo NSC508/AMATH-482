{
  "cells": [
    {
      "cell_type": "code",
      "source": [
        "!pip install p_tqdm"
      ],
      "metadata": {
        "colab": {
          "base_uri": "https://localhost:8080/"
        },
        "id": "4hPCPvQMFbCT",
        "outputId": "fc006cad-4ab9-4012-9ee1-d0c819952141"
      },
      "execution_count": 1,
      "outputs": [
        {
          "output_type": "stream",
          "name": "stdout",
          "text": [
            "Collecting p_tqdm\n",
            "  Downloading p_tqdm-1.3.3.tar.gz (4.3 kB)\n",
            "Requirement already satisfied: tqdm in /usr/local/lib/python3.7/dist-packages (from p_tqdm) (4.63.0)\n",
            "Collecting pathos\n",
            "  Downloading pathos-0.2.8-py2.py3-none-any.whl (81 kB)\n",
            "\u001b[K     |████████████████████████████████| 81 kB 4.0 MB/s \n",
            "\u001b[?25hRequirement already satisfied: six in /usr/local/lib/python3.7/dist-packages (from p_tqdm) (1.15.0)\n",
            "Collecting pox>=0.3.0\n",
            "  Downloading pox-0.3.0-py2.py3-none-any.whl (30 kB)\n",
            "Requirement already satisfied: dill>=0.3.4 in /usr/local/lib/python3.7/dist-packages (from pathos->p_tqdm) (0.3.4)\n",
            "Requirement already satisfied: multiprocess>=0.70.12 in /usr/local/lib/python3.7/dist-packages (from pathos->p_tqdm) (0.70.12.2)\n",
            "Collecting ppft>=1.6.6.4\n",
            "  Downloading ppft-1.6.6.4-py3-none-any.whl (65 kB)\n",
            "\u001b[K     |████████████████████████████████| 65 kB 2.1 MB/s \n",
            "\u001b[?25hBuilding wheels for collected packages: p-tqdm\n",
            "  Building wheel for p-tqdm (setup.py) ... \u001b[?25l\u001b[?25hdone\n",
            "  Created wheel for p-tqdm: filename=p_tqdm-1.3.3-py3-none-any.whl size=3987 sha256=1fdeb9e239744374a9adbbf25a58c2aaa06a4e568bb8e1b28ed72a66ac31a3a5\n",
            "  Stored in directory: /root/.cache/pip/wheels/57/6c/d6/8c4cc7d253ecfdfe0fb49f5a754d33e9c2ce1664935325b1b6\n",
            "Successfully built p-tqdm\n",
            "Installing collected packages: ppft, pox, pathos, p-tqdm\n",
            "Successfully installed p-tqdm-1.3.3 pathos-0.2.8 pox-0.3.0 ppft-1.6.6.4\n"
          ]
        }
      ]
    },
    {
      "cell_type": "code",
      "execution_count": 2,
      "metadata": {
        "id": "BbPWGQqn7UFr"
      },
      "outputs": [],
      "source": [
        "import numpy as np\n",
        "import matplotlib.pyplot as plt\n",
        "import scipy.spatial \n",
        "from p_tqdm import p_map\n",
        "from sklearn import linear_model"
      ]
    },
    {
      "cell_type": "code",
      "execution_count": 3,
      "metadata": {
        "colab": {
          "base_uri": "https://localhost:8080/"
        },
        "id": "95vB6m257UFt",
        "outputId": "6966cb7e-945e-419a-b24b-2def2d8115a6"
      },
      "outputs": [
        {
          "output_type": "stream",
          "name": "stdout",
          "text": [
            "[[b'republican' b'n' b'y' ... b'y' b'n' b'y']\n",
            " [b'republican' b'n' b'y' ... b'y' b'n' b'?']\n",
            " [b'democrat' b'?' b'y' ... b'y' b'n' b'n']\n",
            " ...\n",
            " [b'republican' b'n' b'?' ... b'y' b'n' b'y']\n",
            " [b'republican' b'n' b'n' ... b'y' b'n' b'y']\n",
            " [b'republican' b'n' b'y' ... b'y' b'?' b'n']]\n"
          ]
        }
      ],
      "source": [
        "path_to_dataset = '/content/house-votes-84.data'\n",
        "\n",
        "data = (np.genfromtxt(path_to_dataset, delimiter=',', dtype=object, unpack=True)).T\n",
        "print(data)"
      ]
    },
    {
      "cell_type": "code",
      "execution_count": 4,
      "metadata": {
        "colab": {
          "base_uri": "https://localhost:8080/"
        },
        "id": "7J7KrkJI7UFu",
        "outputId": "b4e44de2-02ac-4140-cf27-274cbdd22986"
      },
      "outputs": [
        {
          "output_type": "stream",
          "name": "stdout",
          "text": [
            "[-1, -1, 1, 1, 1, 1, 1, -1, -1, 1, -1, -1, 1, 1, -1, -1, 1, 1, -1, 1, 1, 1, 1, 1, 1, 1, 1, 1, -1, 1, -1, 1, 1, -1, 1, -1, -1, -1, -1, 1, 1, 1, 1, 1, 1, 1, 1, 1, 1, -1, 1, -1, 1, -1, 1, -1, -1, -1, -1, -1, 1, -1, 1, 1, 1, -1, -1, -1, 1, 1, 1, -1, 1, -1, 1, 1, 1, 1, 1, -1, 1, 1, -1, -1, -1, 1, -1, -1, 1, -1, 1, 1, 1, 1, 1, 1, 1, 1, 1, -1, 1, 1, 1, 1, 1, 1, -1, -1, 1, 1, 1, -1, 1, -1, 1, 1, 1, -1, 1, -1, -1, -1, -1, -1, 1, -1, -1, 1, 1, 1, 1, 1, -1, -1, -1, -1, -1, 1, 1, 1, -1, -1, -1, 1, 1, 1, -1, 1, -1, 1, -1, 1, 1, 1, -1, -1, -1, 1, -1, 1, 1, 1, 1, -1, 1, 1, -1, -1, 1, 1, 1, -1, 1, 1, 1, 1, -1, 1, 1, 1, 1, 1, 1, 1, 1, 1, 1, 1, -1, 1, -1, -1, 1, 1, 1, -1, 1, -1, 1, 1, 1, 1, 1, 1, -1, 1, -1, -1, 1, 1, 1, -1, 1, 1, -1, 1, 1, -1, 1, 1, 1, 1, 1, -1, -1, -1, 1, 1, -1, -1, -1, -1, 1, -1, 1, -1, 1, 1, 1, -1, -1, 1, -1, 1, 1, 1, 1, -1, -1, 1, -1, -1, 1, -1, 1, 1, -1, -1, 1, 1, 1, 1, 1, 1, 1, 1, -1, -1, 1, 1, 1, 1, 1, -1, -1, 1, -1, -1, -1, -1, 1, -1, -1, -1, 1, 1, 1, 1, 1, 1, 1, 1, 1, 1, 1, -1, -1, 1, 1, 1, -1, 1, -1, -1, -1, -1, -1, 1, -1, 1, -1, 1, 1, -1, -1, -1, 1, 1, 1, 1, 1, 1, 1, 1, -1, 1, 1, -1, 1, 1, -1, 1, 1, 1, 1, -1, 1, 1, 1, -1, -1, 1, 1, -1, 1, -1, -1, -1, 1, -1, 1, -1, 1, -1, 1, -1, -1, -1, 1, -1, 1, 1, 1, -1, -1, 1, 1, 1, 1, -1, 1, 1, 1, 1, -1, 1, 1, -1, -1, -1, 1, 1, 1, 1, 1, 1, 1, 1, 1, 1, 1, 1, -1, -1, 1, 1, 1, 1, 1, -1, -1, -1, -1, -1, -1, -1, 1, 1, 1, -1, -1, 1, -1, -1, 1, 1, -1, 1, 1, 1, -1, 1, 1, 1, 1, 1, 1, -1, 1, 1, -1, 1, -1, -1, -1]\n"
          ]
        }
      ],
      "source": [
        "Y = data[:, 0]\n",
        "Y = [1 if i == b'democrat' else -1 for i in Y]\n",
        "print(Y)"
      ]
    },
    {
      "cell_type": "code",
      "execution_count": 5,
      "metadata": {
        "colab": {
          "base_uri": "https://localhost:8080/"
        },
        "id": "__R2VZyE7UFv",
        "outputId": "8e390213-f925-412c-ae14-b61249c32677"
      },
      "outputs": [
        {
          "output_type": "stream",
          "name": "stdout",
          "text": [
            "[[-1 1 -1 ... 1 -1 1]\n",
            " [-1 1 -1 ... 1 -1 0]\n",
            " [0 1 1 ... 1 -1 -1]\n",
            " ...\n",
            " [-1 0 -1 ... 1 -1 1]\n",
            " [-1 -1 -1 ... 1 -1 1]\n",
            " [-1 1 -1 ... 1 0 -1]]\n"
          ]
        }
      ],
      "source": [
        "X = data[:, 1:]\n",
        "for index, column in enumerate(X): \n",
        "    new_column = []\n",
        "    for i in column:\n",
        "        encoded_val = 0\n",
        "        if i == b'y':\n",
        "            encoded_val = 1\n",
        "        elif i == b'n':\n",
        "            encoded_val = -1\n",
        "        new_column.append(encoded_val)\n",
        "    X[index] = new_column\n",
        "print(X)"
      ]
    },
    {
      "cell_type": "code",
      "execution_count": 6,
      "metadata": {
        "id": "f3bIcjJ27UFw"
      },
      "outputs": [],
      "source": [
        "# compute the weight matrix W for the vertices of our graph \n",
        "def eta(tt, rr):\n",
        "\n",
        " val = np.exp( - (tt**2)/(2*rr**2) ) \n",
        "  \n",
        " return val\n",
        "  \n",
        "\n",
        "\n",
        "dist = scipy.spatial.distance_matrix(X, X, p = 2)\n",
        "\n",
        "def spectral_clustering(r):\n",
        "    W = eta(dist, r)\n",
        "    # compute Laplacian matrices \n",
        "    d = np.sum(W, axis=1) # degree vector\n",
        "\n",
        "    D = np.diag(d)\n",
        "    Ds = np.diag(1/np.sqrt(d))\n",
        "\n",
        "    Ln = np.dot(Ds, np.dot((D - W),Ds)) # normalized\n",
        "    # compute eigendecompositions \n",
        "\n",
        "    # we need to sort the eigenvalues and vectors \n",
        "\n",
        "    lln, VVn = np.linalg.eigh(Ln)\n",
        "\n",
        "    idxn = lln.argsort()\n",
        "    Vn = VVn[:, idxn]\n",
        "\n",
        "    q1 = Vn[:, 1]\n",
        "    q1 = np.sign(q1)\n",
        "    num_incorrect = np.sum(q1 != Y)\n",
        "    clustering_accuracy = 1 - (1/435) * num_incorrect\n",
        "    return clustering_accuracy"
      ]
    },
    {
      "cell_type": "code",
      "execution_count": 7,
      "metadata": {
        "colab": {
          "base_uri": "https://localhost:8080/",
          "height": 387,
          "referenced_widgets": [
            "789c00240fd94268bae2f010fcd9a5fe",
            "116a835ba01945fab9c295aed88f5cb6",
            "17562cd2d38c40709a1017b71c4f4190",
            "66bfd7ab0f1949aab9888d2db6580252",
            "95e363df2252492ba4baff34e3633061",
            "445882ef85644459a6796332174045c5",
            "68a38dd0501544f9acd6cad7cf76a48b",
            "49a718a15ca646a2942c4ab9664a3a2a",
            "4de43a9eb0a547ef967e43fe1c0403ec",
            "9599b6f92ff0404ba527c413d7894207",
            "53d1bfd7f7eb45e08d8159388b3c25ba"
          ]
        },
        "id": "GxZgtulpFWYD",
        "outputId": "7b9ccb64-35dd-49a6-e801-7d10251e41fe"
      },
      "outputs": [
        {
          "output_type": "stream",
          "name": "stderr",
          "text": [
            "/usr/local/lib/python3.7/dist-packages/ipykernel_launcher.py:4: RuntimeWarning: divide by zero encountered in true_divide\n",
            "  after removing the cwd from sys.path.\n",
            "/usr/local/lib/python3.7/dist-packages/ipykernel_launcher.py:4: RuntimeWarning: invalid value encountered in true_divide\n",
            "  after removing the cwd from sys.path.\n"
          ]
        },
        {
          "output_type": "display_data",
          "data": {
            "application/vnd.jupyter.widget-view+json": {
              "model_id": "789c00240fd94268bae2f010fcd9a5fe",
              "version_minor": 0,
              "version_major": 2
            },
            "text/plain": [
              "  0%|          | 0/1000 [00:00<?, ?it/s]"
            ]
          },
          "metadata": {}
        },
        {
          "output_type": "execute_result",
          "data": {
            "text/plain": [
              "<matplotlib.collections.PathCollection at 0x7f02abc32210>"
            ]
          },
          "metadata": {},
          "execution_count": 7
        },
        {
          "output_type": "display_data",
          "data": {
            "image/png": "[encoded data removed]",
            "text/plain": [
              "<Figure size 432x288 with 1 Axes>"
            ]
          },
          "metadata": {
            "needs_background": "light"
          }
        }
      ],
      "source": [
        "inputs = np.linspace(0, 4, 1000)\n",
        "results = p_map(spectral_clustering, inputs)\n",
        "fig, ax = plt.subplots()\n",
        "ax.scatter(inputs, results)"
      ]
    },
    {
      "cell_type": "code",
      "source": [
        "sigma_star = inputs[np.argmax(results)]\n",
        "accuracy = spectral_clustering(sigma_star)\n",
        "print(f'Best Sigma is {sigma_star} with best accuracy {accuracy}')"
      ],
      "metadata": {
        "colab": {
          "base_uri": "https://localhost:8080/"
        },
        "id": "bAltrR_bGVmt",
        "outputId": "00d4ee1f-132b-49e6-a8bb-dbcc33f6fab8"
      },
      "execution_count": 8,
      "outputs": [
        {
          "output_type": "stream",
          "name": "stdout",
          "text": [
            "Best Sigma is 1.053053053053053 with best accuracy 0.8873563218390804\n"
          ]
        }
      ]
    },
    {
      "cell_type": "code",
      "execution_count": 9,
      "metadata": {
        "id": "gjznb528FWYE"
      },
      "outputs": [],
      "source": [
        "W = eta(dist, sigma_star)\n",
        "    # compute Laplacian matrices \n",
        "d = np.sum(W, axis=1) # degree vector\n",
        "\n",
        "D = np.diag(d)\n",
        "Ds = np.diag(1/np.sqrt(d))\n",
        "\n",
        "Ln = np.dot(Ds, np.dot((D - W),Ds)) # normalized\n",
        "    # compute eigendecompositions \n",
        "\n",
        "    # we need to sort the eigenvalues and vectors \n",
        "\n",
        "lln, VVn = np.linalg.eigh(Ln)\n",
        "\n",
        "idxn = lln.argsort()\n",
        "Vn = VVn[:, idxn]"
      ]
    },
    {
      "cell_type": "code",
      "source": [
        "M = [2, 3, 4, 5, 6]\n",
        "J = [5, 10, 20, 40]\n",
        "def get_semi_supervised_accuracy(M, J):\n",
        "  F = Vn[:, 0:M]\n",
        "  A = F[0:J, 0:M]\n",
        "  b = Y[0:J]\n",
        "  SSLRidge = linear_model.Ridge(alpha = 1e-8, fit_intercept=False)\n",
        "  SSLRidge.fit(A, b)\n",
        "\n",
        "  coefficients = SSLRidge.coef_\n",
        "  Y_pred = np.sign(np.dot(F, coefficients))\n",
        "\n",
        "  accuracy = 1 - (1/435) * np.sum(Y_pred != Y)\n",
        "  print(f'accuracy with M = {M} and J = {J}: {accuracy}')\n",
        "\n",
        "for i in M:\n",
        "  for j in J:\n",
        "    get_semi_supervised_accuracy(i, j)"
      ],
      "metadata": {
        "colab": {
          "base_uri": "https://localhost:8080/"
        },
        "id": "cleVsTtKI09F",
        "outputId": "85320061-f2c9-41a9-b58a-8b909a34d0d7"
      },
      "execution_count": 14,
      "outputs": [
        {
          "output_type": "stream",
          "name": "stdout",
          "text": [
            "accuracy with M = 2 and J = 5: 0.8827586206896552\n",
            "accuracy with M = 2 and J = 10: 0.8781609195402299\n",
            "accuracy with M = 2 and J = 20: 0.8850574712643678\n",
            "accuracy with M = 2 and J = 40: 0.8850574712643678\n",
            "accuracy with M = 3 and J = 5: 0.8827586206896552\n",
            "accuracy with M = 3 and J = 10: 0.8919540229885058\n",
            "accuracy with M = 3 and J = 20: 0.8873563218390804\n",
            "accuracy with M = 3 and J = 40: 0.8942528735632184\n",
            "accuracy with M = 4 and J = 5: 0.8620689655172413\n",
            "accuracy with M = 4 and J = 10: 0.8873563218390804\n",
            "accuracy with M = 4 and J = 20: 0.8988505747126436\n",
            "accuracy with M = 4 and J = 40: 0.9011494252873563\n",
            "accuracy with M = 5 and J = 5: 0.8827586206896552\n",
            "accuracy with M = 5 and J = 10: 0.8873563218390804\n",
            "accuracy with M = 5 and J = 20: 0.8735632183908046\n",
            "accuracy with M = 5 and J = 40: 0.9264367816091954\n",
            "accuracy with M = 6 and J = 5: 0.8827586206896552\n",
            "accuracy with M = 6 and J = 10: 0.8160919540229885\n",
            "accuracy with M = 6 and J = 20: 0.7816091954022988\n",
            "accuracy with M = 6 and J = 40: 0.9310344827586207\n"
          ]
        }
      ]
    }
  ],
  "metadata": {
    "accelerator": "GPU",
    "colab": {
      "name": "HW4.ipynb",
      "provenance": []
    },
    "interpreter": {
      "hash": "aee8b7b246df8f9039afb4144a1f6fd8d2ca17a180786b69acc140d282b71a49"
    },
    "kernelspec": {
      "display_name": "Python 3.10.0 64-bit",
      "language": "python",
      "name": "python3"
    },
    "language_info": {
      "codemirror_mode": {
        "name": "ipython",
        "version": 3
      },
      "file_extension": ".py",
      "mimetype": "text/x-python",
      "name": "python",
      "nbconvert_exporter": "python",
      "pygments_lexer": "ipython3",
      "version": "3.8.10"
    },
    "orig_nbformat": 4,
    "widgets": {
      "application/vnd.jupyter.widget-state+json": {
        "789c00240fd94268bae2f010fcd9a5fe": {
          "model_module": "@jupyter-widgets/controls",
          "model_name": "HBoxModel",
          "model_module_version": "1.5.0",
          "state": {
            "_view_name": "HBoxView",
            "_dom_classes": [],
            "_model_name": "HBoxModel",
            "_view_module": "@jupyter-widgets/controls",
            "_model_module_version": "1.5.0",
            "_view_count": null,
            "_view_module_version": "1.5.0",
            "box_style": "",
            "layout": "IPY_MODEL_116a835ba01945fab9c295aed88f5cb6",
            "_model_module": "@jupyter-widgets/controls",
            "children": [
              "IPY_MODEL_17562cd2d38c40709a1017b71c4f4190",
              "IPY_MODEL_66bfd7ab0f1949aab9888d2db6580252",
              "IPY_MODEL_95e363df2252492ba4baff34e3633061"
            ]
          }
        },
        "116a835ba01945fab9c295aed88f5cb6": {
          "model_module": "@jupyter-widgets/base",
          "model_name": "LayoutModel",
          "model_module_version": "1.2.0",
          "state": {
            "_view_name": "LayoutView",
            "grid_template_rows": null,
            "right": null,
            "justify_content": null,
            "_view_module": "@jupyter-widgets/base",
            "overflow": null,
            "_model_module_version": "1.2.0",
            "_view_count": null,
            "flex_flow": null,
            "width": null,
            "min_width": null,
            "border": null,
            "align_items": null,
            "bottom": null,
            "_model_module": "@jupyter-widgets/base",
            "top": null,
            "grid_column": null,
            "overflow_y": null,
            "overflow_x": null,
            "grid_auto_flow": null,
            "grid_area": null,
            "grid_template_columns": null,
            "flex": null,
            "_model_name": "LayoutModel",
            "justify_items": null,
            "grid_row": null,
            "max_height": null,
            "align_content": null,
            "visibility": null,
            "align_self": null,
            "height": null,
            "min_height": null,
            "padding": null,
            "grid_auto_rows": null,
            "grid_gap": null,
            "max_width": null,
            "order": null,
            "_view_module_version": "1.2.0",
            "grid_template_areas": null,
            "object_position": null,
            "object_fit": null,
            "grid_auto_columns": null,
            "margin": null,
            "display": null,
            "left": null
          }
        },
        "17562cd2d38c40709a1017b71c4f4190": {
          "model_module": "@jupyter-widgets/controls",
          "model_name": "HTMLModel",
          "model_module_version": "1.5.0",
          "state": {
            "_view_name": "HTMLView",
            "style": "IPY_MODEL_445882ef85644459a6796332174045c5",
            "_dom_classes": [],
            "description": "",
            "_model_name": "HTMLModel",
            "placeholder": "​",
            "_view_module": "@jupyter-widgets/controls",
            "_model_module_version": "1.5.0",
            "value": "100%",
            "_view_count": null,
            "_view_module_version": "1.5.0",
            "description_tooltip": null,
            "_model_module": "@jupyter-widgets/controls",
            "layout": "IPY_MODEL_68a38dd0501544f9acd6cad7cf76a48b"
          }
        },
        "66bfd7ab0f1949aab9888d2db6580252": {
          "model_module": "@jupyter-widgets/controls",
          "model_name": "FloatProgressModel",
          "model_module_version": "1.5.0",
          "state": {
            "_view_name": "ProgressView",
            "style": "IPY_MODEL_49a718a15ca646a2942c4ab9664a3a2a",
            "_dom_classes": [],
            "description": "",
            "_model_name": "FloatProgressModel",
            "bar_style": "success",
            "max": 1000,
            "_view_module": "@jupyter-widgets/controls",
            "_model_module_version": "1.5.0",
            "value": 1000,
            "_view_count": null,
            "_view_module_version": "1.5.0",
            "orientation": "horizontal",
            "min": 0,
            "description_tooltip": null,
            "_model_module": "@jupyter-widgets/controls",
            "layout": "IPY_MODEL_4de43a9eb0a547ef967e43fe1c0403ec"
          }
        },
        "95e363df2252492ba4baff34e3633061": {
          "model_module": "@jupyter-widgets/controls",
          "model_name": "HTMLModel",
          "model_module_version": "1.5.0",
          "state": {
            "_view_name": "HTMLView",
            "style": "IPY_MODEL_9599b6f92ff0404ba527c413d7894207",
            "_dom_classes": [],
            "description": "",
            "_model_name": "HTMLModel",
            "placeholder": "​",
            "_view_module": "@jupyter-widgets/controls",
            "_model_module_version": "1.5.0",
            "value": " 1000/1000 [01:52&lt;00:00, 12.26it/s]",
            "_view_count": null,
            "_view_module_version": "1.5.0",
            "description_tooltip": null,
            "_model_module": "@jupyter-widgets/controls",
            "layout": "IPY_MODEL_53d1bfd7f7eb45e08d8159388b3c25ba"
          }
        },
        "445882ef85644459a6796332174045c5": {
          "model_module": "@jupyter-widgets/controls",
          "model_name": "DescriptionStyleModel",
          "model_module_version": "1.5.0",
          "state": {
            "_view_name": "StyleView",
            "_model_name": "DescriptionStyleModel",
            "description_width": "",
            "_view_module": "@jupyter-widgets/base",
            "_model_module_version": "1.5.0",
            "_view_count": null,
            "_view_module_version": "1.2.0",
            "_model_module": "@jupyter-widgets/controls"
          }
        },
        "68a38dd0501544f9acd6cad7cf76a48b": {
          "model_module": "@jupyter-widgets/base",
          "model_name": "LayoutModel",
          "model_module_version": "1.2.0",
          "state": {
            "_view_name": "LayoutView",
            "grid_template_rows": null,
            "right": null,
            "justify_content": null,
            "_view_module": "@jupyter-widgets/base",
            "overflow": null,
            "_model_module_version": "1.2.0",
            "_view_count": null,
            "flex_flow": null,
            "width": null,
            "min_width": null,
            "border": null,
            "align_items": null,
            "bottom": null,
            "_model_module": "@jupyter-widgets/base",
            "top": null,
            "grid_column": null,
            "overflow_y": null,
            "overflow_x": null,
            "grid_auto_flow": null,
            "grid_area": null,
            "grid_template_columns": null,
            "flex": null,
            "_model_name": "LayoutModel",
            "justify_items": null,
            "grid_row": null,
            "max_height": null,
            "align_content": null,
            "visibility": null,
            "align_self": null,
            "height": null,
            "min_height": null,
            "padding": null,
            "grid_auto_rows": null,
            "grid_gap": null,
            "max_width": null,
            "order": null,
            "_view_module_version": "1.2.0",
            "grid_template_areas": null,
            "object_position": null,
            "object_fit": null,
            "grid_auto_columns": null,
            "margin": null,
            "display": null,
            "left": null
          }
        },
        "49a718a15ca646a2942c4ab9664a3a2a": {
          "model_module": "@jupyter-widgets/controls",
          "model_name": "ProgressStyleModel",
          "model_module_version": "1.5.0",
          "state": {
            "_view_name": "StyleView",
            "_model_name": "ProgressStyleModel",
            "description_width": "",
            "_view_module": "@jupyter-widgets/base",
            "_model_module_version": "1.5.0",
            "_view_count": null,
            "_view_module_version": "1.2.0",
            "bar_color": null,
            "_model_module": "@jupyter-widgets/controls"
          }
        },
        "4de43a9eb0a547ef967e43fe1c0403ec": {
          "model_module": "@jupyter-widgets/base",
          "model_name": "LayoutModel",
          "model_module_version": "1.2.0",
          "state": {
            "_view_name": "LayoutView",
            "grid_template_rows": null,
            "right": null,
            "justify_content": null,
            "_view_module": "@jupyter-widgets/base",
            "overflow": null,
            "_model_module_version": "1.2.0",
            "_view_count": null,
            "flex_flow": null,
            "width": null,
            "min_width": null,
            "border": null,
            "align_items": null,
            "bottom": null,
            "_model_module": "@jupyter-widgets/base",
            "top": null,
            "grid_column": null,
            "overflow_y": null,
            "overflow_x": null,
            "grid_auto_flow": null,
            "grid_area": null,
            "grid_template_columns": null,
            "flex": null,
            "_model_name": "LayoutModel",
            "justify_items": null,
            "grid_row": null,
            "max_height": null,
            "align_content": null,
            "visibility": null,
            "align_self": null,
            "height": null,
            "min_height": null,
            "padding": null,
            "grid_auto_rows": null,
            "grid_gap": null,
            "max_width": null,
            "order": null,
            "_view_module_version": "1.2.0",
            "grid_template_areas": null,
            "object_position": null,
            "object_fit": null,
            "grid_auto_columns": null,
            "margin": null,
            "display": null,
            "left": null
          }
        },
        "9599b6f92ff0404ba527c413d7894207": {
          "model_module": "@jupyter-widgets/controls",
          "model_name": "DescriptionStyleModel",
          "model_module_version": "1.5.0",
          "state": {
            "_view_name": "StyleView",
            "_model_name": "DescriptionStyleModel",
            "description_width": "",
            "_view_module": "@jupyter-widgets/base",
            "_model_module_version": "1.5.0",
            "_view_count": null,
            "_view_module_version": "1.2.0",
            "_model_module": "@jupyter-widgets/controls"
          }
        },
        "53d1bfd7f7eb45e08d8159388b3c25ba": {
          "model_module": "@jupyter-widgets/base",
          "model_name": "LayoutModel",
          "model_module_version": "1.2.0",
          "state": {
            "_view_name": "LayoutView",
            "grid_template_rows": null,
            "right": null,
            "justify_content": null,
            "_view_module": "@jupyter-widgets/base",
            "overflow": null,
            "_model_module_version": "1.2.0",
            "_view_count": null,
            "flex_flow": null,
            "width": null,
            "min_width": null,
            "border": null,
            "align_items": null,
            "bottom": null,
            "_model_module": "@jupyter-widgets/base",
            "top": null,
            "grid_column": null,
            "overflow_y": null,
            "overflow_x": null,
            "grid_auto_flow": null,
            "grid_area": null,
            "grid_template_columns": null,
            "flex": null,
            "_model_name": "LayoutModel",
            "justify_items": null,
            "grid_row": null,
            "max_height": null,
            "align_content": null,
            "visibility": null,
            "align_self": null,
            "height": null,
            "min_height": null,
            "padding": null,
            "grid_auto_rows": null,
            "grid_gap": null,
            "max_width": null,
            "order": null,
            "_view_module_version": "1.2.0",
            "grid_template_areas": null,
            "object_position": null,
            "object_fit": null,
            "grid_auto_columns": null,
            "margin": null,
            "display": null,
            "left": null
          }
        }
      }
    }
  },
  "nbformat": 4,
  "nbformat_minor": 0
}