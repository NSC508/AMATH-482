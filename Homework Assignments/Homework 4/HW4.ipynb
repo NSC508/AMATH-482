{
 "cells": [
  {
   "cell_type": "code",
   "execution_count": 1,
   "metadata": {},
   "outputs": [],
   "source": [
    "import numpy as np\n",
    "import matplotlib.pyplot as plt"
   ]
  },
  {
   "cell_type": "code",
   "execution_count": 30,
   "metadata": {},
   "outputs": [
    {
     "name": "stdout",
     "output_type": "stream",
     "text": [
      "[[b'republican' b'republican' b'democrat' ... b'republican' b'republican'\n",
      "  b'republican']\n",
      " [b'n' b'n' b'?' ... b'n' b'n' b'n']\n",
      " [b'y' b'y' b'y' ... b'?' b'n' b'y']\n",
      " ...\n",
      " [b'y' b'y' b'y' ... b'y' b'y' b'y']\n",
      " [b'n' b'n' b'n' ... b'n' b'n' b'?']\n",
      " [b'y' b'?' b'n' ... b'y' b'y' b'n']]\n"
     ]
    }
   ],
   "source": [
    "path_to_dataset = '/Users/sachinta/GitProjects/AMATH-482/Homework Assignments/Homework 4/house-votes-84.data'\n",
    "\n",
    "data = np.genfromtxt(path_to_dataset, delimiter=',', dtype=object, unpack=True)\n",
    "\n",
    "print(data)"
   ]
  },
  {
   "cell_type": "code",
   "execution_count": 31,
   "metadata": {},
   "outputs": [
    {
     "name": "stdout",
     "output_type": "stream",
     "text": [
      "[-1 -1  1  1  1  1  1 -1 -1  1 -1 -1  1  1 -1 -1  1  1 -1  1  1  1  1  1\n",
      "  1  1  1  1 -1  1 -1  1  1 -1  1 -1 -1 -1 -1  1  1  1  1  1  1  1  1  1\n",
      "  1 -1  1 -1  1 -1  1 -1 -1 -1 -1 -1  1 -1  1  1  1 -1 -1 -1  1  1  1 -1\n",
      "  1 -1  1  1  1  1  1 -1  1  1 -1 -1 -1  1 -1 -1  1 -1  1  1  1  1  1  1\n",
      "  1  1  1 -1  1  1  1  1  1  1 -1 -1  1  1  1 -1  1 -1  1  1  1 -1  1 -1\n",
      " -1 -1 -1 -1  1 -1 -1  1  1  1  1  1 -1 -1 -1 -1 -1  1  1  1 -1 -1 -1  1\n",
      "  1  1 -1  1 -1  1 -1  1  1  1 -1 -1 -1  1 -1  1  1  1  1 -1  1  1 -1 -1\n",
      "  1  1  1 -1  1  1  1  1 -1  1  1  1  1  1  1  1  1  1  1  1 -1  1 -1 -1\n",
      "  1  1  1 -1  1 -1  1  1  1  1  1  1 -1  1 -1 -1  1  1  1 -1  1  1 -1  1\n",
      "  1 -1  1  1  1  1  1 -1 -1 -1  1  1 -1 -1 -1 -1  1 -1  1 -1  1  1  1 -1\n",
      " -1  1 -1  1  1  1  1 -1 -1  1 -1 -1  1 -1  1  1 -1 -1  1  1  1  1  1  1\n",
      "  1  1 -1 -1  1  1  1  1  1 -1 -1  1 -1 -1 -1 -1  1 -1 -1 -1  1  1  1  1\n",
      "  1  1  1  1  1  1  1 -1 -1  1  1  1 -1  1 -1 -1 -1 -1 -1  1 -1  1 -1  1\n",
      "  1 -1 -1 -1  1  1  1  1  1  1  1  1 -1  1  1 -1  1  1 -1  1  1  1  1 -1\n",
      "  1  1  1 -1 -1  1  1 -1  1 -1 -1 -1  1 -1  1 -1  1 -1  1 -1 -1 -1  1 -1\n",
      "  1  1  1 -1 -1  1  1  1  1 -1  1  1  1  1 -1  1  1 -1 -1 -1  1  1  1  1\n",
      "  1  1  1  1  1  1  1  1 -1 -1  1  1  1  1  1 -1 -1 -1 -1 -1 -1 -1  1  1\n",
      "  1 -1 -1  1 -1 -1  1  1 -1  1  1  1 -1  1  1  1  1  1  1 -1  1  1 -1  1\n",
      " -1 -1 -1]\n"
     ]
    }
   ],
   "source": [
    "Y = data[0]\n",
    "Y = np.asarray([1 if i == b'democrat' else -1 for i in Y])\n",
    "print(Y)"
   ]
  },
  {
   "cell_type": "code",
   "execution_count": 32,
   "metadata": {},
   "outputs": [
    {
     "name": "stdout",
     "output_type": "stream",
     "text": [
      "[[-1 1 -1 ... 1 -1 1]\n",
      " [-1 1 -1 ... 1 -1 0]\n",
      " [0 1 1 ... 1 -1 -1]\n",
      " ...\n",
      " [-1 0 -1 ... 1 -1 1]\n",
      " [-1 -1 -1 ... 1 -1 1]\n",
      " [-1 1 -1 ... 1 0 -1]]\n"
     ]
    }
   ],
   "source": [
    "X = data[1:]\n",
    "for index, column in enumerate(X): \n",
    "    new_column = []\n",
    "    for i in column:\n",
    "        encoded_val = 0\n",
    "        if i == b'y':\n",
    "            encoded_val = 1\n",
    "        elif i == b'n':\n",
    "            encoded_val = -1\n",
    "        new_column.append(encoded_val)\n",
    "    X[index] = new_column\n",
    "X = X.T\n",
    "print(X)"
   ]
  },
  {
   "cell_type": "code",
   "execution_count": 33,
   "metadata": {},
   "outputs": [
    {
     "data": {
      "text/plain": [
       "<matplotlib.image.AxesImage at 0x123d38b20>"
      ]
     },
     "execution_count": 33,
     "metadata": {},
     "output_type": "execute_result"
    },
    {
     "data": {
      "image/png": "[encoded data removed]",
      "text/plain": [
       "<Figure size 432x288 with 1 Axes>"
      ]
     },
     "metadata": {
      "needs_background": "light"
     },
     "output_type": "display_data"
    }
   ],
   "source": [
    "# compute the weight matrix W for the vertices of our graph \n",
    "\n",
    "def eta(tt, rr):\n",
    "\n",
    "  val = tt <= rr \n",
    "\n",
    "  return val.astype(float)\n",
    "  \n",
    "import scipy.spatial \n",
    "\n",
    "dist = scipy.spatial.distance_matrix(X, X, p = 2)\n",
    "\n",
    "r = 0.2\n",
    "\n",
    "W = eta(dist, r)\n",
    "\n",
    "plt.spy(W>=0.01)"
   ]
  },
  {
   "cell_type": "code",
   "execution_count": 34,
   "metadata": {},
   "outputs": [],
   "source": [
    "# compute Laplacian matrices \n",
    "\n",
    "d = np.sum(W, axis=1) # degree vector\n",
    "\n",
    "D = np.diag(d)\n",
    "Ds = np.diag(1/np.sqrt(d))\n",
    "Di = np.diag(1/d)\n",
    "\n",
    "\n",
    "L = D - W # unnormalized\n",
    "\n",
    "Ln = np.dot(Ds, np.dot((D - W),Ds)) # normalized"
   ]
  },
  {
   "cell_type": "code",
   "execution_count": 37,
   "metadata": {},
   "outputs": [
    {
     "name": "stdout",
     "output_type": "stream",
     "text": [
      "[ 0.  0.  0.  0.  0.  0.  0.  0.  0.  1. -1.  1.  1.  1. -1.  1.  1. -1.\n",
      " -1.  0. -1.  0.  0.  0.  0.  0.  0. -1.  0. -1.  0.  0.  0.  1.  0.  0.\n",
      "  0.  0.  0.  0.  0.  0.  0.  0.  0.  0.  0.  0.  0.  0. -1.  0.  1.  0.\n",
      "  0.  0.  0.  0.  0.  0.  0.  0.  0.  0.  0.  0.  0.  0. -1.  0.  0.  0.\n",
      "  0.  0.  0.  0.  0.  0.  0.  0.  0.  0.  0.  0.  0.  0.  0.  0.  0.  0.\n",
      "  0.  0.  0.  0.  0.  0.  0.  0.  0.  0.  0.  0.  0.  0.  0.  0. -1.  0.\n",
      "  0.  0.  0.  0.  0.  0.  0.  0.  0.  0.  0.  0.  0.  0.  0.  0.  0.  0.\n",
      "  0.  0.  0.  0.  0.  0.  0.  0.  0.  0.  0.  0.  0.  0.  0.  0.  0.  0.\n",
      "  0.  0. -1.  0.  0.  0.  0.  0.  0.  0.  0.  0.  0.  0.  0.  0.  0.  0.\n",
      "  0.  0.  0.  0.  0.  0.  0.  0.  0.  0.  0.  0.  0.  0.  0.  0.  0.  0.\n",
      "  0.  0.  0.  0.  0.  0.  0.  0.  0.  0.  0.  0.  0.  0.  0.  0.  0.  0.\n",
      "  0.  0.  0.  0.  0.  0.  0.  0.  0.  0.  0.  0.  0.  0.  0.  0.  0.  0.\n",
      "  0.  0.  0.  0.  0.  0.  0.  0.  0.  0.  0.  0.  0.  0.  1.  0.  0.  0.\n",
      "  0.  0.  0.  0.  0.  0.  0.  0.  0.  0.  0.  0.  0.  0.  0.  0.  0.  0.\n",
      "  0. -1.  0.  0.  0.  0.  0.  0.  0.  0.  0.  0.  0.  0.  0.  0.  0.  0.\n",
      "  0.  0.  0.  0.  0.  0.  0.  0.  0.  0.  0.  0.  0.  0.  0.  0.  0.  0.\n",
      "  0.  0.  0.  0.  0.  0.  0.  0.  0.  0.  0.  0.  0.  0.  0.  0.  0.  0.\n",
      "  0.  0.  0.  0.  0.  0.  0.  0.  0.  0.  0.  0.  0.  0.  0.  0.  0.  0.\n",
      "  0.  0.  0. -1.  0.  0.  0.  0.  0.  0.  0.  0.  0.  0.  0.  0.  0.  0.\n",
      "  0.  0.  0.  0.  0.  0.  0.  0.  0.  0.  0.  0.  0.  0.  0.  0.  0.  0.\n",
      "  0.  0.  0.  0.  0.  0.  0.  0.  0.  0.  0.  0.  0.  0.  1.  0.  0.  0.\n",
      "  0.  0.  0.  0.  0.  0.  0.  0.  0.  0.  0.  0.  0.  0.  0.  0.  0.  0.\n",
      "  0.  0.  0.  0.  0.  0.  0.  0.  0.  0.  0.  0.  0.  0.  0.  0.  0.  0.\n",
      "  0.  0.  0.  0.  0.  0.  0.  0.  0.  0.  0.  0.  0.  0.  0.  0.  0.  0.\n",
      "  0.  0.  0.]\n"
     ]
    }
   ],
   "source": [
    "# compute eigendecompositions \n",
    "\n",
    "ll, VV = np.linalg.eigh(L)\n",
    "\n",
    "# we need to sort the eigenvalues and vectors \n",
    "\n",
    "idx = ll.argsort()\n",
    "l = ll[idx]\n",
    "V = VV[:, idx]\n",
    "\n",
    "lln, VVn = np.linalg.eigh(Ln)\n",
    "\n",
    "idxn = lln.argsort()\n",
    "ln = lln[idxn]\n",
    "Vn = VVn[:, idxn]\n",
    "\n",
    "q1 = np.sign(V[:,1])\n",
    "print(q1)"
   ]
  },
  {
   "cell_type": "code",
   "execution_count": null,
   "metadata": {},
   "outputs": [],
   "source": []
  }
 ],
 "metadata": {
  "interpreter": {
   "hash": "aee8b7b246df8f9039afb4144a1f6fd8d2ca17a180786b69acc140d282b71a49"
  },
  "kernelspec": {
   "display_name": "Python 3.10.0 64-bit",
   "language": "python",
   "name": "python3"
  },
  "language_info": {
   "codemirror_mode": {
    "name": "ipython",
    "version": 3
   },
   "file_extension": ".py",
   "mimetype": "text/x-python",
   "name": "python",
   "nbconvert_exporter": "python",
   "pygments_lexer": "ipython3",
   "version": "3.10.0"
  },
  "orig_nbformat": 4
 },
 "nbformat": 4,
 "nbformat_minor": 2
}
