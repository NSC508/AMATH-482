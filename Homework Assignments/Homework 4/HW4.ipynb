{
  "cells": [
    {
      "cell_type": "code",
      "source": [
        "!pip install p_tqdm"
      ],
      "metadata": {
        "id": "4hPCPvQMFbCT",
        "outputId": "98483537-fd90-4e56-92fb-b0fb58aeeeed",
        "colab": {
          "base_uri": "https://localhost:8080/"
        }
      },
      "execution_count": 2,
      "outputs": [
        {
          "output_type": "stream",
          "name": "stdout",
          "text": [
            "Collecting p_tqdm\n",
            "  Downloading p_tqdm-1.3.3.tar.gz (4.3 kB)\n",
            "Requirement already satisfied: tqdm in /usr/local/lib/python3.7/dist-packages (from p_tqdm) (4.63.0)\n",
            "Collecting pathos\n",
            "  Downloading pathos-0.2.8-py2.py3-none-any.whl (81 kB)\n",
            "\u001b[K     |████████████████████████████████| 81 kB 4.1 MB/s \n",
            "\u001b[?25hRequirement already satisfied: six in /usr/local/lib/python3.7/dist-packages (from p_tqdm) (1.15.0)\n",
            "Collecting ppft>=1.6.6.4\n",
            "  Downloading ppft-1.6.6.4-py3-none-any.whl (65 kB)\n",
            "\u001b[K     |████████████████████████████████| 65 kB 3.4 MB/s \n",
            "\u001b[?25hRequirement already satisfied: multiprocess>=0.70.12 in /usr/local/lib/python3.7/dist-packages (from pathos->p_tqdm) (0.70.12.2)\n",
            "Requirement already satisfied: dill>=0.3.4 in /usr/local/lib/python3.7/dist-packages (from pathos->p_tqdm) (0.3.4)\n",
            "Collecting pox>=0.3.0\n",
            "  Downloading pox-0.3.0-py2.py3-none-any.whl (30 kB)\n",
            "Building wheels for collected packages: p-tqdm\n",
            "  Building wheel for p-tqdm (setup.py) ... \u001b[?25l\u001b[?25hdone\n",
            "  Created wheel for p-tqdm: filename=p_tqdm-1.3.3-py3-none-any.whl size=3987 sha256=f64f6d373964247cd5810fd7508fce3720a487424e04436d8f705078bc93a6db\n",
            "  Stored in directory: /root/.cache/pip/wheels/57/6c/d6/8c4cc7d253ecfdfe0fb49f5a754d33e9c2ce1664935325b1b6\n",
            "Successfully built p-tqdm\n",
            "Installing collected packages: ppft, pox, pathos, p-tqdm\n",
            "Successfully installed p-tqdm-1.3.3 pathos-0.2.8 pox-0.3.0 ppft-1.6.6.4\n"
          ]
        }
      ]
    },
    {
      "cell_type": "code",
      "execution_count": 43,
      "metadata": {
        "id": "BbPWGQqn7UFr"
      },
      "outputs": [],
      "source": [
        "import numpy as np\n",
        "import matplotlib.pyplot as plt\n",
        "import scipy.spatial \n",
        "from p_tqdm import p_map\n",
        "from sklearn import linear_model"
      ]
    },
    {
      "cell_type": "code",
      "execution_count": 5,
      "metadata": {
        "colab": {
          "base_uri": "https://localhost:8080/"
        },
        "id": "95vB6m257UFt",
        "outputId": "969bc924-cca5-40de-accd-e967155a95ea"
      },
      "outputs": [
        {
          "output_type": "stream",
          "name": "stdout",
          "text": [
            "[[b'republican' b'n' b'y' ... b'y' b'n' b'y']\n",
            " [b'republican' b'n' b'y' ... b'y' b'n' b'?']\n",
            " [b'democrat' b'?' b'y' ... b'y' b'n' b'n']\n",
            " ...\n",
            " [b'republican' b'n' b'?' ... b'y' b'n' b'y']\n",
            " [b'republican' b'n' b'n' ... b'y' b'n' b'y']\n",
            " [b'republican' b'n' b'y' ... b'y' b'?' b'n']]\n"
          ]
        }
      ],
      "source": [
        "path_to_dataset = '/content/house-votes-84.data'\n",
        "\n",
        "data = (np.genfromtxt(path_to_dataset, delimiter=',', dtype=object, unpack=True)).T\n",
        "print(data)"
      ]
    },
    {
      "cell_type": "code",
      "execution_count": 6,
      "metadata": {
        "colab": {
          "base_uri": "https://localhost:8080/"
        },
        "id": "7J7KrkJI7UFu",
        "outputId": "636129a4-771d-4084-fa1c-1f4975dc18d5"
      },
      "outputs": [
        {
          "output_type": "stream",
          "name": "stdout",
          "text": [
            "[-1, -1, 1, 1, 1, 1, 1, -1, -1, 1, -1, -1, 1, 1, -1, -1, 1, 1, -1, 1, 1, 1, 1, 1, 1, 1, 1, 1, -1, 1, -1, 1, 1, -1, 1, -1, -1, -1, -1, 1, 1, 1, 1, 1, 1, 1, 1, 1, 1, -1, 1, -1, 1, -1, 1, -1, -1, -1, -1, -1, 1, -1, 1, 1, 1, -1, -1, -1, 1, 1, 1, -1, 1, -1, 1, 1, 1, 1, 1, -1, 1, 1, -1, -1, -1, 1, -1, -1, 1, -1, 1, 1, 1, 1, 1, 1, 1, 1, 1, -1, 1, 1, 1, 1, 1, 1, -1, -1, 1, 1, 1, -1, 1, -1, 1, 1, 1, -1, 1, -1, -1, -1, -1, -1, 1, -1, -1, 1, 1, 1, 1, 1, -1, -1, -1, -1, -1, 1, 1, 1, -1, -1, -1, 1, 1, 1, -1, 1, -1, 1, -1, 1, 1, 1, -1, -1, -1, 1, -1, 1, 1, 1, 1, -1, 1, 1, -1, -1, 1, 1, 1, -1, 1, 1, 1, 1, -1, 1, 1, 1, 1, 1, 1, 1, 1, 1, 1, 1, -1, 1, -1, -1, 1, 1, 1, -1, 1, -1, 1, 1, 1, 1, 1, 1, -1, 1, -1, -1, 1, 1, 1, -1, 1, 1, -1, 1, 1, -1, 1, 1, 1, 1, 1, -1, -1, -1, 1, 1, -1, -1, -1, -1, 1, -1, 1, -1, 1, 1, 1, -1, -1, 1, -1, 1, 1, 1, 1, -1, -1, 1, -1, -1, 1, -1, 1, 1, -1, -1, 1, 1, 1, 1, 1, 1, 1, 1, -1, -1, 1, 1, 1, 1, 1, -1, -1, 1, -1, -1, -1, -1, 1, -1, -1, -1, 1, 1, 1, 1, 1, 1, 1, 1, 1, 1, 1, -1, -1, 1, 1, 1, -1, 1, -1, -1, -1, -1, -1, 1, -1, 1, -1, 1, 1, -1, -1, -1, 1, 1, 1, 1, 1, 1, 1, 1, -1, 1, 1, -1, 1, 1, -1, 1, 1, 1, 1, -1, 1, 1, 1, -1, -1, 1, 1, -1, 1, -1, -1, -1, 1, -1, 1, -1, 1, -1, 1, -1, -1, -1, 1, -1, 1, 1, 1, -1, -1, 1, 1, 1, 1, -1, 1, 1, 1, 1, -1, 1, 1, -1, -1, -1, 1, 1, 1, 1, 1, 1, 1, 1, 1, 1, 1, 1, -1, -1, 1, 1, 1, 1, 1, -1, -1, -1, -1, -1, -1, -1, 1, 1, 1, -1, -1, 1, -1, -1, 1, 1, -1, 1, 1, 1, -1, 1, 1, 1, 1, 1, 1, -1, 1, 1, -1, 1, -1, -1, -1]\n"
          ]
        }
      ],
      "source": [
        "Y = data[:, 0]\n",
        "Y = [1 if i == b'democrat' else -1 for i in Y]\n",
        "print(Y)"
      ]
    },
    {
      "cell_type": "code",
      "execution_count": 7,
      "metadata": {
        "colab": {
          "base_uri": "https://localhost:8080/"
        },
        "id": "__R2VZyE7UFv",
        "outputId": "c00d4450-6b65-41f0-af7c-3cc83d01ac45"
      },
      "outputs": [
        {
          "output_type": "stream",
          "name": "stdout",
          "text": [
            "[[-1 1 -1 ... 1 -1 1]\n",
            " [-1 1 -1 ... 1 -1 0]\n",
            " [0 1 1 ... 1 -1 -1]\n",
            " ...\n",
            " [-1 0 -1 ... 1 -1 1]\n",
            " [-1 -1 -1 ... 1 -1 1]\n",
            " [-1 1 -1 ... 1 0 -1]]\n"
          ]
        }
      ],
      "source": [
        "X = data[:, 1:]\n",
        "for index, column in enumerate(X): \n",
        "    new_column = []\n",
        "    for i in column:\n",
        "        encoded_val = 0\n",
        "        if i == b'y':\n",
        "            encoded_val = 1\n",
        "        elif i == b'n':\n",
        "            encoded_val = -1\n",
        "        new_column.append(encoded_val)\n",
        "    X[index] = new_column\n",
        "print(X)"
      ]
    },
    {
      "cell_type": "code",
      "execution_count": 8,
      "metadata": {
        "id": "f3bIcjJ27UFw"
      },
      "outputs": [],
      "source": [
        "# compute the weight matrix W for the vertices of our graph \n",
        "def eta(tt, rr):\n",
        "\n",
        " val = np.exp( - (tt**2)/(2*rr**2) ) \n",
        "  \n",
        " return val\n",
        "  \n",
        "\n",
        "\n",
        "dist = scipy.spatial.distance_matrix(X, X, p = 2)\n",
        "\n",
        "def spectral_clustering(r):\n",
        "    W = eta(dist, r)\n",
        "    # compute Laplacian matrices \n",
        "    d = np.sum(W, axis=1) # degree vector\n",
        "\n",
        "    D = np.diag(d)\n",
        "    Ds = np.diag(1/np.sqrt(d))\n",
        "\n",
        "    Ln = np.dot(Ds, np.dot((D - W),Ds)) # normalized\n",
        "    # compute eigendecompositions \n",
        "\n",
        "    # we need to sort the eigenvalues and vectors \n",
        "\n",
        "    lln, VVn = np.linalg.eigh(Ln)\n",
        "\n",
        "    idxn = lln.argsort()\n",
        "    Vn = VVn[:, idxn]\n",
        "\n",
        "    q1 = Vn[:, 1]\n",
        "    q1 = np.sign(q1)\n",
        "    num_incorrect = np.sum(q1 != Y)\n",
        "    clustering_accuracy = 1 - (1/435) * num_incorrect\n",
        "    return clustering_accuracy"
      ]
    },
    {
      "cell_type": "code",
      "execution_count": 9,
      "metadata": {
        "id": "GxZgtulpFWYD",
        "outputId": "a35129b0-7273-4a2f-a15d-4e80932f24fa",
        "colab": {
          "base_uri": "https://localhost:8080/",
          "height": 387,
          "referenced_widgets": [
            "8f3bac8c832c4dcf9e452516288dc5ee",
            "0ff693873be24f059a3556f8ed965f31",
            "f6076a07b7974e3f91eb347d0daf01ab",
            "bfc20f7467284671a1a0292033db0727",
            "9df00d120f4143c18f5fc356b885e0df",
            "3f26902d82d84db0b5adcb0d0311c51f",
            "2ac768086fce40b4a83259f3d12f9ec6",
            "8446af9807034fe0bbd6e44c12414bc8",
            "2409c5d3a7814aa6ac9e49c7ca95eb6b",
            "2f64f08dc30c441c8a52ed33c313d0c2",
            "4aedad186ca844d890af43e9d7a4bcad"
          ]
        }
      },
      "outputs": [
        {
          "output_type": "stream",
          "name": "stderr",
          "text": [
            "/usr/local/lib/python3.7/dist-packages/ipykernel_launcher.py:4: RuntimeWarning: divide by zero encountered in true_divide\n",
            "  after removing the cwd from sys.path.\n",
            "/usr/local/lib/python3.7/dist-packages/ipykernel_launcher.py:4: RuntimeWarning: invalid value encountered in true_divide\n",
            "  after removing the cwd from sys.path.\n"
          ]
        },
        {
          "output_type": "display_data",
          "data": {
            "application/vnd.jupyter.widget-view+json": {
              "model_id": "8f3bac8c832c4dcf9e452516288dc5ee",
              "version_minor": 0,
              "version_major": 2
            },
            "text/plain": [
              "  0%|          | 0/1000 [00:00<?, ?it/s]"
            ]
          },
          "metadata": {}
        },
        {
          "output_type": "execute_result",
          "data": {
            "text/plain": [
              "<matplotlib.collections.PathCollection at 0x7fe8bc2e2250>"
            ]
          },
          "metadata": {},
          "execution_count": 9
        },
        {
          "output_type": "display_data",
          "data": {
            "image/png": "[encoded data removed]",
            "text/plain": [
              "<Figure size 432x288 with 1 Axes>"
            ]
          },
          "metadata": {
            "needs_background": "light"
          }
        }
      ],
      "source": [
        "inputs = np.linspace(0, 4, 1000)\n",
        "results = p_map(spectral_clustering, inputs)\n",
        "fig, ax = plt.subplots()\n",
        "ax.scatter(inputs, results)"
      ]
    },
    {
      "cell_type": "code",
      "source": [
        "sigma_star = inputs[np.argmax(results)]\n",
        "accuracy = spectral_clustering(sigma_star)\n",
        "print(f'Best Sigma is {sigma_star} with best accuracy {accuracy}')"
      ],
      "metadata": {
        "id": "bAltrR_bGVmt",
        "outputId": "bc15439a-d673-44b0-b108-09a2304bb89c",
        "colab": {
          "base_uri": "https://localhost:8080/"
        }
      },
      "execution_count": 12,
      "outputs": [
        {
          "output_type": "stream",
          "name": "stdout",
          "text": [
            "Best Sigma is 1.053053053053053 with best accuracy 0.8873563218390804\n"
          ]
        }
      ]
    },
    {
      "cell_type": "code",
      "execution_count": 37,
      "metadata": {
        "id": "gjznb528FWYE"
      },
      "outputs": [],
      "source": [
        "W = eta(dist, sigma_star)\n",
        "    # compute Laplacian matrices \n",
        "d = np.sum(W, axis=1) # degree vector\n",
        "\n",
        "D = np.diag(d)\n",
        "Ds = np.diag(1/np.sqrt(d))\n",
        "\n",
        "Ln = np.dot(Ds, np.dot((D - W),Ds)) # normalized\n",
        "    # compute eigendecompositions \n",
        "\n",
        "    # we need to sort the eigenvalues and vectors \n",
        "\n",
        "lln, VVn = np.linalg.eigh(Ln)\n",
        "\n",
        "idxn = lln.argsort()\n",
        "Vn = VVn[:, idxn]"
      ]
    },
    {
      "cell_type": "code",
      "source": [
        "M = 1\n",
        "J = 1\n",
        "F = Vn[:, 0:M]\n",
        "A = F[0:J, 0:M]\n",
        "b = Y[0:J]\n",
        "SSLRidge = linear_model.Ridge()\n",
        "SSLRidge.fit(A, b)\n",
        "\n",
        "coefficients = SSLRidge.coef_\n",
        "Y_pred = np.sign(np.dot(F, coefficients))\n",
        "\n",
        "accuracy = 1 - (1/435) * np.sum(Y_pred != Y)\n",
        "print(accuracy)"
      ],
      "metadata": {
        "id": "cleVsTtKI09F",
        "outputId": "65a1aa04-04a9-490b-bebf-b1e808c2c1a1",
        "colab": {
          "base_uri": "https://localhost:8080/"
        }
      },
      "execution_count": 46,
      "outputs": [
        {
          "output_type": "stream",
          "name": "stdout",
          "text": [
            "0.0\n"
          ]
        }
      ]
    }
  ],
  "metadata": {
    "accelerator": "GPU",
    "colab": {
      "name": "HW4.ipynb",
      "provenance": []
    },
    "interpreter": {
      "hash": "aee8b7b246df8f9039afb4144a1f6fd8d2ca17a180786b69acc140d282b71a49"
    },
    "kernelspec": {
      "display_name": "Python 3.10.0 64-bit",
      "language": "python",
      "name": "python3"
    },
    "language_info": {
      "codemirror_mode": {
        "name": "ipython",
        "version": 3
      },
      "file_extension": ".py",
      "mimetype": "text/x-python",
      "name": "python",
      "nbconvert_exporter": "python",
      "pygments_lexer": "ipython3",
      "version": "3.8.10"
    },
    "orig_nbformat": 4,
    "widgets": {
      "application/vnd.jupyter.widget-state+json": {
        "8f3bac8c832c4dcf9e452516288dc5ee": {
          "model_module": "@jupyter-widgets/controls",
          "model_name": "HBoxModel",
          "model_module_version": "1.5.0",
          "state": {
            "_view_name": "HBoxView",
            "_dom_classes": [],
            "_model_name": "HBoxModel",
            "_view_module": "@jupyter-widgets/controls",
            "_model_module_version": "1.5.0",
            "_view_count": null,
            "_view_module_version": "1.5.0",
            "box_style": "",
            "layout": "IPY_MODEL_0ff693873be24f059a3556f8ed965f31",
            "_model_module": "@jupyter-widgets/controls",
            "children": [
              "IPY_MODEL_f6076a07b7974e3f91eb347d0daf01ab",
              "IPY_MODEL_bfc20f7467284671a1a0292033db0727",
              "IPY_MODEL_9df00d120f4143c18f5fc356b885e0df"
            ]
          }
        },
        "0ff693873be24f059a3556f8ed965f31": {
          "model_module": "@jupyter-widgets/base",
          "model_name": "LayoutModel",
          "model_module_version": "1.2.0",
          "state": {
            "_view_name": "LayoutView",
            "grid_template_rows": null,
            "right": null,
            "justify_content": null,
            "_view_module": "@jupyter-widgets/base",
            "overflow": null,
            "_model_module_version": "1.2.0",
            "_view_count": null,
            "flex_flow": null,
            "width": null,
            "min_width": null,
            "border": null,
            "align_items": null,
            "bottom": null,
            "_model_module": "@jupyter-widgets/base",
            "top": null,
            "grid_column": null,
            "overflow_y": null,
            "overflow_x": null,
            "grid_auto_flow": null,
            "grid_area": null,
            "grid_template_columns": null,
            "flex": null,
            "_model_name": "LayoutModel",
            "justify_items": null,
            "grid_row": null,
            "max_height": null,
            "align_content": null,
            "visibility": null,
            "align_self": null,
            "height": null,
            "min_height": null,
            "padding": null,
            "grid_auto_rows": null,
            "grid_gap": null,
            "max_width": null,
            "order": null,
            "_view_module_version": "1.2.0",
            "grid_template_areas": null,
            "object_position": null,
            "object_fit": null,
            "grid_auto_columns": null,
            "margin": null,
            "display": null,
            "left": null
          }
        },
        "f6076a07b7974e3f91eb347d0daf01ab": {
          "model_module": "@jupyter-widgets/controls",
          "model_name": "HTMLModel",
          "model_module_version": "1.5.0",
          "state": {
            "_view_name": "HTMLView",
            "style": "IPY_MODEL_3f26902d82d84db0b5adcb0d0311c51f",
            "_dom_classes": [],
            "description": "",
            "_model_name": "HTMLModel",
            "placeholder": "​",
            "_view_module": "@jupyter-widgets/controls",
            "_model_module_version": "1.5.0",
            "value": "100%",
            "_view_count": null,
            "_view_module_version": "1.5.0",
            "description_tooltip": null,
            "_model_module": "@jupyter-widgets/controls",
            "layout": "IPY_MODEL_2ac768086fce40b4a83259f3d12f9ec6"
          }
        },
        "bfc20f7467284671a1a0292033db0727": {
          "model_module": "@jupyter-widgets/controls",
          "model_name": "FloatProgressModel",
          "model_module_version": "1.5.0",
          "state": {
            "_view_name": "ProgressView",
            "style": "IPY_MODEL_8446af9807034fe0bbd6e44c12414bc8",
            "_dom_classes": [],
            "description": "",
            "_model_name": "FloatProgressModel",
            "bar_style": "success",
            "max": 1000,
            "_view_module": "@jupyter-widgets/controls",
            "_model_module_version": "1.5.0",
            "value": 1000,
            "_view_count": null,
            "_view_module_version": "1.5.0",
            "orientation": "horizontal",
            "min": 0,
            "description_tooltip": null,
            "_model_module": "@jupyter-widgets/controls",
            "layout": "IPY_MODEL_2409c5d3a7814aa6ac9e49c7ca95eb6b"
          }
        },
        "9df00d120f4143c18f5fc356b885e0df": {
          "model_module": "@jupyter-widgets/controls",
          "model_name": "HTMLModel",
          "model_module_version": "1.5.0",
          "state": {
            "_view_name": "HTMLView",
            "style": "IPY_MODEL_2f64f08dc30c441c8a52ed33c313d0c2",
            "_dom_classes": [],
            "description": "",
            "_model_name": "HTMLModel",
            "placeholder": "​",
            "_view_module": "@jupyter-widgets/controls",
            "_model_module_version": "1.5.0",
            "value": " 1000/1000 [01:20&lt;00:00,  9.39it/s]",
            "_view_count": null,
            "_view_module_version": "1.5.0",
            "description_tooltip": null,
            "_model_module": "@jupyter-widgets/controls",
            "layout": "IPY_MODEL_4aedad186ca844d890af43e9d7a4bcad"
          }
        },
        "3f26902d82d84db0b5adcb0d0311c51f": {
          "model_module": "@jupyter-widgets/controls",
          "model_name": "DescriptionStyleModel",
          "model_module_version": "1.5.0",
          "state": {
            "_view_name": "StyleView",
            "_model_name": "DescriptionStyleModel",
            "description_width": "",
            "_view_module": "@jupyter-widgets/base",
            "_model_module_version": "1.5.0",
            "_view_count": null,
            "_view_module_version": "1.2.0",
            "_model_module": "@jupyter-widgets/controls"
          }
        },
        "2ac768086fce40b4a83259f3d12f9ec6": {
          "model_module": "@jupyter-widgets/base",
          "model_name": "LayoutModel",
          "model_module_version": "1.2.0",
          "state": {
            "_view_name": "LayoutView",
            "grid_template_rows": null,
            "right": null,
            "justify_content": null,
            "_view_module": "@jupyter-widgets/base",
            "overflow": null,
            "_model_module_version": "1.2.0",
            "_view_count": null,
            "flex_flow": null,
            "width": null,
            "min_width": null,
            "border": null,
            "align_items": null,
            "bottom": null,
            "_model_module": "@jupyter-widgets/base",
            "top": null,
            "grid_column": null,
            "overflow_y": null,
            "overflow_x": null,
            "grid_auto_flow": null,
            "grid_area": null,
            "grid_template_columns": null,
            "flex": null,
            "_model_name": "LayoutModel",
            "justify_items": null,
            "grid_row": null,
            "max_height": null,
            "align_content": null,
            "visibility": null,
            "align_self": null,
            "height": null,
            "min_height": null,
            "padding": null,
            "grid_auto_rows": null,
            "grid_gap": null,
            "max_width": null,
            "order": null,
            "_view_module_version": "1.2.0",
            "grid_template_areas": null,
            "object_position": null,
            "object_fit": null,
            "grid_auto_columns": null,
            "margin": null,
            "display": null,
            "left": null
          }
        },
        "8446af9807034fe0bbd6e44c12414bc8": {
          "model_module": "@jupyter-widgets/controls",
          "model_name": "ProgressStyleModel",
          "model_module_version": "1.5.0",
          "state": {
            "_view_name": "StyleView",
            "_model_name": "ProgressStyleModel",
            "description_width": "",
            "_view_module": "@jupyter-widgets/base",
            "_model_module_version": "1.5.0",
            "_view_count": null,
            "_view_module_version": "1.2.0",
            "bar_color": null,
            "_model_module": "@jupyter-widgets/controls"
          }
        },
        "2409c5d3a7814aa6ac9e49c7ca95eb6b": {
          "model_module": "@jupyter-widgets/base",
          "model_name": "LayoutModel",
          "model_module_version": "1.2.0",
          "state": {
            "_view_name": "LayoutView",
            "grid_template_rows": null,
            "right": null,
            "justify_content": null,
            "_view_module": "@jupyter-widgets/base",
            "overflow": null,
            "_model_module_version": "1.2.0",
            "_view_count": null,
            "flex_flow": null,
            "width": null,
            "min_width": null,
            "border": null,
            "align_items": null,
            "bottom": null,
            "_model_module": "@jupyter-widgets/base",
            "top": null,
            "grid_column": null,
            "overflow_y": null,
            "overflow_x": null,
            "grid_auto_flow": null,
            "grid_area": null,
            "grid_template_columns": null,
            "flex": null,
            "_model_name": "LayoutModel",
            "justify_items": null,
            "grid_row": null,
            "max_height": null,
            "align_content": null,
            "visibility": null,
            "align_self": null,
            "height": null,
            "min_height": null,
            "padding": null,
            "grid_auto_rows": null,
            "grid_gap": null,
            "max_width": null,
            "order": null,
            "_view_module_version": "1.2.0",
            "grid_template_areas": null,
            "object_position": null,
            "object_fit": null,
            "grid_auto_columns": null,
            "margin": null,
            "display": null,
            "left": null
          }
        },
        "2f64f08dc30c441c8a52ed33c313d0c2": {
          "model_module": "@jupyter-widgets/controls",
          "model_name": "DescriptionStyleModel",
          "model_module_version": "1.5.0",
          "state": {
            "_view_name": "StyleView",
            "_model_name": "DescriptionStyleModel",
            "description_width": "",
            "_view_module": "@jupyter-widgets/base",
            "_model_module_version": "1.5.0",
            "_view_count": null,
            "_view_module_version": "1.2.0",
            "_model_module": "@jupyter-widgets/controls"
          }
        },
        "4aedad186ca844d890af43e9d7a4bcad": {
          "model_module": "@jupyter-widgets/base",
          "model_name": "LayoutModel",
          "model_module_version": "1.2.0",
          "state": {
            "_view_name": "LayoutView",
            "grid_template_rows": null,
            "right": null,
            "justify_content": null,
            "_view_module": "@jupyter-widgets/base",
            "overflow": null,
            "_model_module_version": "1.2.0",
            "_view_count": null,
            "flex_flow": null,
            "width": null,
            "min_width": null,
            "border": null,
            "align_items": null,
            "bottom": null,
            "_model_module": "@jupyter-widgets/base",
            "top": null,
            "grid_column": null,
            "overflow_y": null,
            "overflow_x": null,
            "grid_auto_flow": null,
            "grid_area": null,
            "grid_template_columns": null,
            "flex": null,
            "_model_name": "LayoutModel",
            "justify_items": null,
            "grid_row": null,
            "max_height": null,
            "align_content": null,
            "visibility": null,
            "align_self": null,
            "height": null,
            "min_height": null,
            "padding": null,
            "grid_auto_rows": null,
            "grid_gap": null,
            "max_width": null,
            "order": null,
            "_view_module_version": "1.2.0",
            "grid_template_areas": null,
            "object_position": null,
            "object_fit": null,
            "grid_auto_columns": null,
            "margin": null,
            "display": null,
            "left": null
          }
        }
      }
    }
  },
  "nbformat": 4,
  "nbformat_minor": 0
}