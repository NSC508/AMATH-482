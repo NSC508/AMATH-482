{
  "cells": [
    {
      "cell_type": "code",
      "execution_count": 12,
      "metadata": {
        "id": "R2wz3XVwTitC"
      },
      "outputs": [],
      "source": [
        "import numpy as np\n",
        "import matplotlib.pyplot as plt\n",
        "import sklearn\n",
        "from numpy import genfromtxt"
      ]
    },
    {
      "cell_type": "code",
      "execution_count": 16,
      "metadata": {
        "colab": {
          "base_uri": "https://localhost:8080/"
        },
        "id": "C1XscqCHTitF",
        "outputId": "a03bd068-6bdc-4337-fada-c8bc320d57e7"
      },
      "outputs": [
        {
          "output_type": "stream",
          "name": "stdout",
          "text": [
            "TRAIN SET\n",
            "[[ 6.1   0.6   0.08 ...  0.54 11.    5.  ]\n",
            " [10.3   0.53  0.48 ...  0.59  9.3   6.  ]\n",
            " [ 6.9   0.49  0.19 ...  0.64  9.8   6.  ]\n",
            " ...\n",
            " [ 7.    0.38  0.49 ...  0.77 11.4   6.  ]\n",
            " [10.    0.35  0.47 ...  0.52 12.    6.  ]\n",
            " [ 7.    0.6   0.3  ...  1.17 10.2   5.  ]]\n",
            "ALL BUT LAST\n",
            "[[ 6.1   0.6   0.08 ...  3.38  0.54 11.  ]\n",
            " [10.3   0.53  0.48 ...  3.12  0.59  9.3 ]\n",
            " [ 6.9   0.49  0.19 ...  3.38  0.64  9.8 ]\n",
            " ...\n",
            " [ 7.    0.38  0.49 ...  3.39  0.77 11.4 ]\n",
            " [10.    0.35  0.47 ...  3.23  0.52 12.  ]\n",
            " [ 7.    0.6   0.3  ...  3.3   1.17 10.2 ]]\n",
            "LAST\n",
            "[5. 6. 6. ... 6. 6. 5.]\n"
          ]
        }
      ],
      "source": [
        "path_to_train = '/content/wine_training.csv'\n",
        "path_to_test = '/content/wine_test.csv'\n",
        "\n",
        "train = genfromtxt(path_to_train, delimiter=',')\n",
        "test = genfromtxt(path_to_test, delimiter=',')\n",
        "\n",
        "print('TRAIN SET')\n",
        "print(train)\n",
        "print('ALL BUT LAST')\n",
        "print(train[:, :-1])\n",
        "print('LAST')\n",
        "print(train[:, -1])"
      ]
    },
    {
      "cell_type": "code",
      "source": [
        "norm_train = (train - train.mean(axis=0)) / train.std(axis=0)\n",
        "norm_test = (test - test.mean(axis=0)) / test.std(axis=0)"
      ],
      "metadata": {
        "id": "RHDWossgUd_1"
      },
      "execution_count": 8,
      "outputs": []
    },
    {
      "cell_type": "code",
      "source": [
        "#Use linear regression to fit a linear model to the training set \n",
        "LinearRegressor = sklearn.linear_model.LinearRegression()\n",
        "LinearRegressor.fit(norm_train[:, :-1], norm_train[:, -1])\n",
        "predicted_train = LinearRegressor.predict(norm_train[:, :-1])\n",
        "print(f'LINEAR REGRESSION TRAINING MSE: {sklearn.metrics.mean_squared_error(predicted_train, norm_train[:, -1])}')\n",
        "predicted_test = LinearRegressor.predict(norm_test[:, :-1])\n",
        "print(f'LINEAR REGRESSION TEST MSE: {sklearn.metrics.mean_squared_error(predicted_test, norm_test[:, -1])}')"
      ],
      "metadata": {
        "colab": {
          "base_uri": "https://localhost:8080/"
        },
        "id": "3A6WfheDVC0f",
        "outputId": "dc773a07-d6bf-4cb9-db68-49b361330203"
      },
      "execution_count": 23,
      "outputs": [
        {
          "output_type": "stream",
          "name": "stdout",
          "text": [
            "LINEAR REGRESSION TRAINING MSE: 0.6278484956554817\n",
            "LINEAR REGRESSION TEST MSE: 0.7021527395264012\n"
          ]
        }
      ]
    },
    {
      "cell_type": "code",
      "source": [
        "#Use kernel ridge regression to fit a non-linear model to the training set\n",
        "\n",
        "#Gaussian (RBF) Kernel \n",
        "\n",
        "#Laplacian kernel"
      ],
      "metadata": {
        "id": "4nsy1hqHVM0M"
      },
      "execution_count": null,
      "outputs": []
    },
    {
      "cell_type": "code",
      "source": [
        "#Use 10-fold CV to tune the lenght of scale sigma and lambda for both above kernels. "
      ],
      "metadata": {
        "id": "wcJcW0KWVW-O"
      },
      "execution_count": null,
      "outputs": []
    },
    {
      "cell_type": "code",
      "source": [
        "#MSE of all 3 modesl "
      ],
      "metadata": {
        "id": "k53fRytRVd-6"
      },
      "execution_count": null,
      "outputs": []
    },
    {
      "cell_type": "code",
      "source": [
        "#Predict on new batch of wines "
      ],
      "metadata": {
        "id": "tu8vjbS0VhdW"
      },
      "execution_count": null,
      "outputs": []
    }
  ],
  "metadata": {
    "language_info": {
      "name": "python"
    },
    "orig_nbformat": 4,
    "colab": {
      "name": "HW3.ipynb",
      "provenance": []
    },
    "kernelspec": {
      "name": "python3",
      "display_name": "Python 3"
    }
  },
  "nbformat": 4,
  "nbformat_minor": 0
}