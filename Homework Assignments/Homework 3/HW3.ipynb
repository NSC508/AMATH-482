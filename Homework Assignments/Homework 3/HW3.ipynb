{
  "cells": [
    {
      "cell_type": "code",
      "execution_count": 13,
      "metadata": {
        "colab": {
          "base_uri": "https://localhost:8080/"
        },
        "id": "R2wz3XVwTitC",
        "outputId": "61628d0d-ce58-43ba-f637-675bbe6e18b3"
      },
      "outputs": [
        {
          "output_type": "stream",
          "name": "stdout",
          "text": [
            "2\n"
          ]
        }
      ],
      "source": [
        "import numpy as np\n",
        "import matplotlib.pyplot as plt\n",
        "import sklearn\n",
        "from numpy import genfromtxt\n",
        "from sklearn import kernel_ridge\n",
        "import os\n",
        "print(len(os.sched_getaffinity(0)))"
      ]
    },
    {
      "cell_type": "code",
      "execution_count": 14,
      "metadata": {
        "colab": {
          "base_uri": "https://localhost:8080/"
        },
        "id": "C1XscqCHTitF",
        "outputId": "65d07822-36c8-4393-c81c-3b5d207f4f3e"
      },
      "outputs": [
        {
          "output_type": "stream",
          "name": "stdout",
          "text": [
            "TRAIN SET\n",
            "[[ 6.1   0.6   0.08 ...  0.54 11.    5.  ]\n",
            " [10.3   0.53  0.48 ...  0.59  9.3   6.  ]\n",
            " [ 6.9   0.49  0.19 ...  0.64  9.8   6.  ]\n",
            " ...\n",
            " [ 7.    0.38  0.49 ...  0.77 11.4   6.  ]\n",
            " [10.    0.35  0.47 ...  0.52 12.    6.  ]\n",
            " [ 7.    0.6   0.3  ...  1.17 10.2   5.  ]]\n",
            "ALL BUT LAST\n",
            "[[ 6.1   0.6   0.08 ...  3.38  0.54 11.  ]\n",
            " [10.3   0.53  0.48 ...  3.12  0.59  9.3 ]\n",
            " [ 6.9   0.49  0.19 ...  3.38  0.64  9.8 ]\n",
            " ...\n",
            " [ 7.    0.38  0.49 ...  3.39  0.77 11.4 ]\n",
            " [10.    0.35  0.47 ...  3.23  0.52 12.  ]\n",
            " [ 7.    0.6   0.3  ...  3.3   1.17 10.2 ]]\n",
            "LAST\n",
            "[5. 6. 6. ... 6. 6. 5.]\n"
          ]
        }
      ],
      "source": [
        "path_to_train = '/content/wine_training.csv'\n",
        "path_to_test = '/content/wine_test.csv'\n",
        "\n",
        "train = genfromtxt(path_to_train, delimiter=',')\n",
        "test = genfromtxt(path_to_test, delimiter=',')\n",
        "\n",
        "print('TRAIN SET')\n",
        "print(train)\n",
        "print('ALL BUT LAST')\n",
        "print(train[:, :-1])\n",
        "print('LAST')\n",
        "print(train[:, -1])"
      ]
    },
    {
      "cell_type": "code",
      "source": [
        "norm_train = (train - train.mean(axis=0)) / train.std(axis=0)\n",
        "norm_test = (test - test.mean(axis=0)) / test.std(axis=0)"
      ],
      "metadata": {
        "id": "RHDWossgUd_1"
      },
      "execution_count": 15,
      "outputs": []
    },
    {
      "cell_type": "code",
      "source": [
        "#Use linear regression to fit a linear model to the training set \n",
        "LinearRegressor = sklearn.linear_model.LinearRegression()\n",
        "LinearRegressor.fit(norm_train[:, :-1], norm_train[:, -1])\n",
        "predicted_train = LinearRegressor.predict(norm_train[:, :-1])\n",
        "print(f'LINEAR REGRESSION TRAINING MSE: {sklearn.metrics.mean_squared_error(predicted_train, norm_train[:, -1])}')\n",
        "predicted_test = LinearRegressor.predict(norm_test[:, :-1])\n",
        "print(f'LINEAR REGRESSION TEST MSE: {sklearn.metrics.mean_squared_error(predicted_test, norm_test[:, -1])}')"
      ],
      "metadata": {
        "colab": {
          "base_uri": "https://localhost:8080/"
        },
        "id": "3A6WfheDVC0f",
        "outputId": "b38563df-58ac-46f3-948d-b782fa34a679"
      },
      "execution_count": 16,
      "outputs": [
        {
          "output_type": "stream",
          "name": "stdout",
          "text": [
            "LINEAR REGRESSION TRAINING MSE: 0.6278484956554817\n",
            "LINEAR REGRESSION TEST MSE: 0.7021527395264012\n"
          ]
        }
      ]
    },
    {
      "cell_type": "code",
      "source": [
        "#Use kernel ridge regression to fit a non-linear model to the training set\n",
        "\n",
        "#Gaussian (RBF) Kernel \n",
        "def GaussianError(args):\n",
        "  RBFRegresor = kernel_ridge.KernelRidge(alpha = args[0], kernel = 'rbf', gamma = args[1])\n",
        "  RBFRegresor.fit(norm_train[:, :-1], norm_train[:, -1])\n",
        "  predicted_train = RBFRegresor.predict(norm_train[:, :-1])\n",
        "  #print(f'GAUSSIAN KERNEL TRAINING MSE: {sklearn.metrics.mean_squared_error(predicted_train, norm_train[:, -1])}')\n",
        "  predicted_test = RBFRegresor.predict(norm_test[:, :-1])\n",
        "  #print(f'GAUSSIAN KERNEL TEST MSE: {sklearn.metrics.mean_squared_error(predicted_test, norm_test[:, -1])}')\n",
        "  train_mse = sklearn.metrics.mean_squared_error(predicted_train, norm_train[:, -1])\n",
        "  test_mse = sklearn.metrics.mean_squared_error(predicted_test, norm_test[:, -1])\n",
        "  return test_mse\n",
        "\n",
        "#Laplacian kernel\n",
        "def LaplacianError(args):\n",
        "  LaplacianRegresor = kernel_ridge.KernelRidge(alpha = args[0], kernel = 'laplacian', gamma = args[1])\n",
        "  LaplacianRegresor.fit(norm_train[:, :-1], norm_train[:, -1])\n",
        "  predicted_train = LaplacianRegresor.predict(norm_train[:, :-1])\n",
        "  #print(f'LAPLACIAN KERNEL TRAINING MSE: {sklearn.metrics.mean_squared_error(predicted_train, norm_train[:, -1])}')\n",
        "  predicted_test = LaplacianRegresor.predict(norm_test[:, :-1])\n",
        "  #print(f'LAPLACIAN KERNEL TEST MSE: {sklearn.metrics.mean_squared_error(predicted_test, norm_test[:, -1])}')\n",
        "  train_mse = sklearn.metrics.mean_squared_error(predicted_train, norm_train[:, -1])\n",
        "  test_mse = sklearn.metrics.mean_squared_error(predicted_test, norm_test[:, -1])\n",
        "  return test_mse"
      ],
      "metadata": {
        "id": "4nsy1hqHVM0M"
      },
      "execution_count": 29,
      "outputs": []
    },
    {
      "cell_type": "code",
      "source": [
        "print(GaussianError((0, 1.0)))"
      ],
      "metadata": {
        "id": "1LYl-n84XPOJ",
        "outputId": "2cefa5e0-e19f-4294-84a5-6e832cb69de5",
        "colab": {
          "base_uri": "https://localhost:8080/"
        }
      },
      "execution_count": 18,
      "outputs": [
        {
          "output_type": "stream",
          "name": "stderr",
          "text": [
            "/usr/local/lib/python3.7/dist-packages/sklearn/linear_model/_ridge.py:197: UserWarning: Singular matrix in solving dual problem. Using least-squares solution instead.\n",
            "  \"Singular matrix in solving dual problem. Using \"\n"
          ]
        },
        {
          "output_type": "stream",
          "name": "stdout",
          "text": [
            "0.7185854801749969\n"
          ]
        }
      ]
    },
    {
      "cell_type": "code",
      "source": [
        "#Best params for RBF\n",
        "from concurrent.futures import ThreadPoolExecutor\n",
        "import itertools\n",
        "executor = ThreadPoolExecutor(len(os.sched_getaffinity(0)))\n",
        "alpha_range = np.arange(0.9, 1, 0.01)\n",
        "gamma_range = np.arange(0.1, 0.2, 0.01)\n",
        "all_combinations = itertools.product(alpha_range, gamma_range)\n",
        "copy_combinations = list(all_combinations)\n",
        "results = executor.map(GaussianError, copy_combinations)\n",
        "copy_results = list(results)\n",
        "best_val = min(copy_results)\n",
        "best_index = copy_results.index(best_val)\n",
        "best_params = copy_combinations[best_index]\n",
        "print(best_val)\n",
        "print(best_params)"
      ],
      "metadata": {
        "id": "mmZivV-GTXIM",
        "outputId": "7b692a12-4a38-4b55-d461-67134b6125cd",
        "colab": {
          "base_uri": "https://localhost:8080/"
        }
      },
      "execution_count": 33,
      "outputs": [
        {
          "output_type": "stream",
          "name": "stdout",
          "text": [
            "0.6187216397172022\n",
            "(0.9900000000000001, 0.12)\n"
          ]
        }
      ]
    },
    {
      "cell_type": "code",
      "source": [
        "#Best params of Laplacian \n",
        "from concurrent.futures import ThreadPoolExecutor\n",
        "import itertools\n",
        "executor = ThreadPoolExecutor(len(os.sched_getaffinity(0)))\n",
        "alpha_range = np.arange(0.3, 0.4, 0.01)\n",
        "gamma_range = np.arange(0.3, 0.4, 0.01)\n",
        "all_combinations = itertools.product(alpha_range, gamma_range)\n",
        "copy_combinations = list(all_combinations)\n",
        "results = executor.map(LaplacianError, copy_combinations)\n",
        "copy_results = list(results)\n",
        "best_val = min(copy_results)\n",
        "best_index = copy_results.index(best_val)\n",
        "best_params = copy_combinations[best_index]\n",
        "print(best_val)\n",
        "print(best_params)"
      ],
      "metadata": {
        "colab": {
          "base_uri": "https://localhost:8080/"
        },
        "id": "kXQkMGxqIp0p",
        "outputId": "ba214cc8-33bf-4605-8452-6d547a19ac78"
      },
      "execution_count": 34,
      "outputs": [
        {
          "output_type": "stream",
          "name": "stdout",
          "text": [
            "0.586525780237679\n",
            "(0.3, 0.3)\n"
          ]
        }
      ]
    },
    {
      "cell_type": "code",
      "source": [
        "#Use 10-fold CV to tune the length of scale sigma and lambda for both above kernels. "
      ],
      "metadata": {
        "id": "wcJcW0KWVW-O"
      },
      "execution_count": null,
      "outputs": []
    },
    {
      "cell_type": "code",
      "source": [
        "#MSE of all 3 modesl "
      ],
      "metadata": {
        "id": "k53fRytRVd-6"
      },
      "execution_count": null,
      "outputs": []
    },
    {
      "cell_type": "code",
      "source": [
        "#Predict on new batch of wines "
      ],
      "metadata": {
        "id": "tu8vjbS0VhdW"
      },
      "execution_count": null,
      "outputs": []
    }
  ],
  "metadata": {
    "language_info": {
      "name": "python"
    },
    "orig_nbformat": 4,
    "colab": {
      "name": "HW3.ipynb",
      "provenance": []
    },
    "kernelspec": {
      "name": "python3",
      "display_name": "Python 3"
    }
  },
  "nbformat": 4,
  "nbformat_minor": 0
}