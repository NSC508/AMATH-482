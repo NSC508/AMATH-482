{
  "cells": [
    {
      "cell_type": "code",
      "execution_count": 1,
      "metadata": {
        "colab": {
          "base_uri": "https://localhost:8080/"
        },
        "id": "R2wz3XVwTitC",
        "outputId": "63753681-138a-4ac0-8a01-ef487889c397"
      },
      "outputs": [
        {
          "name": "stdout",
          "output_type": "stream",
          "text": [
            "16\n"
          ]
        }
      ],
      "source": [
        "import numpy as np\n",
        "import sklearn as skl\n",
        "from numpy import genfromtxt, matlib\n",
        "from sklearn import kernel_ridge\n",
        "import os\n",
        "from sklearn.model_selection import GridSearchCV\n",
        "print(len(os.sched_getaffinity(0)))"
      ]
    },
    {
      "cell_type": "code",
      "execution_count": 2,
      "metadata": {
        "colab": {
          "base_uri": "https://localhost:8080/"
        },
        "id": "C1XscqCHTitF",
        "outputId": "007a56d1-8410-4804-f489-5ac422b2219d"
      },
      "outputs": [
        {
          "name": "stdout",
          "output_type": "stream",
          "text": [
            "TRAIN SET\n",
            "[[ 6.1   0.6   0.08 ...  0.54 11.    5.  ]\n",
            " [10.3   0.53  0.48 ...  0.59  9.3   6.  ]\n",
            " [ 6.9   0.49  0.19 ...  0.64  9.8   6.  ]\n",
            " ...\n",
            " [ 7.    0.38  0.49 ...  0.77 11.4   6.  ]\n",
            " [10.    0.35  0.47 ...  0.52 12.    6.  ]\n",
            " [ 7.    0.6   0.3  ...  1.17 10.2   5.  ]]\n",
            "ALL BUT LAST\n",
            "[[ 6.1   0.6   0.08 ...  3.38  0.54 11.  ]\n",
            " [10.3   0.53  0.48 ...  3.12  0.59  9.3 ]\n",
            " [ 6.9   0.49  0.19 ...  3.38  0.64  9.8 ]\n",
            " ...\n",
            " [ 7.    0.38  0.49 ...  3.39  0.77 11.4 ]\n",
            " [10.    0.35  0.47 ...  3.23  0.52 12.  ]\n",
            " [ 7.    0.6   0.3  ...  3.3   1.17 10.2 ]]\n",
            "LAST\n",
            "[5. 6. 6. ... 6. 6. 5.]\n"
          ]
        }
      ],
      "source": [
        "path_to_train = '/home/sathvikc/AMATH-482-2/AMATH-482/Homework Assignments/Homework 3/wine_training.csv'\n",
        "path_to_test = '/home/sathvikc/AMATH-482-2/AMATH-482/Homework Assignments/Homework 3/wine_test.csv'\n",
        "\n",
        "train = genfromtxt(path_to_train, delimiter=',')\n",
        "test = genfromtxt(path_to_test, delimiter=',')\n",
        "\n",
        "print('TRAIN SET')\n",
        "print(train)\n",
        "print('ALL BUT LAST')\n",
        "print(train[:, :-1])\n",
        "print('LAST')\n",
        "print(train[:, -1])"
      ]
    },
    {
      "cell_type": "code",
      "execution_count": 3,
      "metadata": {
        "id": "L7_VdmNcdsWf"
      },
      "outputs": [
        {
          "name": "stdout",
          "output_type": "stream",
          "text": [
            "[ 8.35183857  0.52507623  0.27384753  2.55399103  0.08926547 16.15695067\n",
            " 46.38699552  0.99683448  3.31076233  0.66102242 10.39699552]\n",
            "[1.73802726e+00 1.78924336e-01 1.95148774e-01 1.42389434e+00\n",
            " 5.11090930e-02 1.06931743e+01 3.14087940e+01 1.87298299e-03\n",
            " 1.52519210e-01 1.78183748e-01 1.04853788e+00]\n",
            "5.638565022421525\n",
            "0.7987331359432255\n"
          ]
        }
      ],
      "source": [
        "X_train_N = train[:, :-1].shape[0]\n",
        "\n",
        "X_train_mean = np.mean(train[:, :-1], axis=0)\n",
        "X_train_std = np.std(train[:, :-1], axis=0)\n",
        "print(X_train_mean)\n",
        "print(X_train_std)\n",
        "X_train_normal = (train[:, :-1] - matlib.repmat(X_train_mean, X_train_N, 1))/matlib.repmat(X_train_std, X_train_N, 1)\n",
        "\n",
        "Y_train_N = train[:, -1].shape[0]\n",
        "\n",
        "Y_train_mean = np.mean(train[:, -1], axis=0)\n",
        "Y_train_std = np.std(train[:, -1], axis=0)\n",
        "print(Y_train_mean)\n",
        "print(Y_train_std)\n",
        "\n",
        "Y_train_normal = (train[:, -1] - Y_train_mean)/Y_train_std"
      ]
    },
    {
      "cell_type": "code",
      "execution_count": 4,
      "metadata": {
        "id": "XepIUrTFfpMU"
      },
      "outputs": [],
      "source": [
        "X_test_N = test[:, :-1].shape[0]\n",
        "\n",
        "X_test_mean = np.mean(test[:, :-1], axis=0)\n",
        "X_test_std = np.std(test[:, :-1], axis=0)\n",
        "\n",
        "X_test_normal = (test[:, :-1] - matlib.repmat(X_test_mean, X_test_N, 1))/matlib.repmat(X_test_std, X_test_N, 1)\n",
        "\n",
        "Y_test_N = test[:, -1].shape[0]\n",
        "\n",
        "Y_test_mean = np.mean(test[:, -1], axis=0)\n",
        "Y_test_std = np.std(test[:, -1], axis=0)\n",
        "\n",
        "Y_test_normal = (test[:, -1] - Y_test_mean)/Y_test_std"
      ]
    },
    {
      "cell_type": "code",
      "execution_count": 5,
      "metadata": {
        "colab": {
          "base_uri": "https://localhost:8080/"
        },
        "id": "3A6WfheDVC0f",
        "outputId": "eaf916db-04cf-4a58-80c0-aed28adc39a7"
      },
      "outputs": [
        {
          "name": "stdout",
          "output_type": "stream",
          "text": [
            "LINEAR REGRESSION TRAINING MSE: 0.6278484956554882\n",
            "LINEAR REGRESSION TEST MSE: 0.7021527395264071\n"
          ]
        }
      ],
      "source": [
        "#Use linear regression to fit a linear model to the training set \n",
        "LinearRegressor = skl.linear_model.LinearRegression()\n",
        "LinearRegressor.fit(X_train_normal, Y_train_normal)\n",
        "predicted_train = LinearRegressor.predict(X_train_normal)\n",
        "print(f'LINEAR REGRESSION TRAINING MSE: {skl.metrics.mean_squared_error(predicted_train, Y_train_normal)}')\n",
        "predicted_test = LinearRegressor.predict(X_test_normal)\n",
        "print(f'LINEAR REGRESSION TEST MSE: {skl.metrics.mean_squared_error(predicted_test, Y_test_normal)}')"
      ]
    },
    {
      "cell_type": "code",
      "execution_count": 6,
      "metadata": {
        "id": "4nsy1hqHVM0M"
      },
      "outputs": [],
      "source": [
        "#Use kernel ridge regression to fit a non-linear model to the training set\n",
        "\n",
        "#Gaussian (RBF) Kernel \n",
        "RBFRegresor = kernel_ridge.KernelRidge(kernel = 'rbf')  \n",
        "\n",
        "#Laplacian kernel\n",
        "LaplacianRegresor = kernel_ridge.KernelRidge(kernel = 'laplacian')"
      ]
    },
    {
      "cell_type": "code",
      "execution_count": 7,
      "metadata": {
        "id": "DdUast08cz6u",
        "outputId": "bfaa2c67-17d0-4e3c-d029-823aedc7c936"
      },
      "outputs": [],
      "source": [
        "# # range of values of sigma to try \n",
        "# K_sgm = 10\n",
        "# K_lmbd = 10\n",
        "\n",
        "# sgm = np.linspace(1, 3, K_sgm)\n",
        "# lmbd = np.linspace(-3, -1, K_lmbd)\n",
        "\n",
        "# #RBF \n",
        "# cv = GridSearchCV(RBFRegresor, param_grid = {\n",
        "#     'alpha': 2 ** lmbd,\n",
        "#     'gamma': 1 / (2*(2**sgm)**2)\n",
        "#     }, cv = 10, n_jobs = -1)\n",
        "\n",
        "# cv.fit(X_train_normal, Y_train_normal)\n",
        "# print(cv.best_params_)"
      ]
    },
    {
      "cell_type": "code",
      "execution_count": 8,
      "metadata": {
        "id": "_2PqXGxocz6v",
        "outputId": "cf177e3b-2618-481c-b88b-d49983498c10"
      },
      "outputs": [],
      "source": [
        "# best_alpha_rbf = cv.best_params_['alpha']\n",
        "# best_gamma_rbf = cv.best_params_['gamma']\n",
        "# print(best_alpha_rbf)\n",
        "# print(best_gamma_rbf)"
      ]
    },
    {
      "cell_type": "code",
      "execution_count": 9,
      "metadata": {},
      "outputs": [
        {
          "name": "stdout",
          "output_type": "stream",
          "text": [
            "[[-0.62947824 -0.62339646 -0.61808084 -0.61348839 -0.60957767 -0.60630862\n",
            "  -0.60364265 -0.60154271 -0.59997359 -0.59890221]\n",
            " [-0.6163228  -0.61207054 -0.60843803 -0.60537789 -0.60284541 -0.60079868\n",
            "  -0.59919871 -0.59800974 -0.59719946 -0.59673935]\n",
            " [-0.60621485 -0.60364513 -0.60151692 -0.5997898  -0.59842706 -0.59739575\n",
            "  -0.59666669 -0.59621446 -0.59601724 -0.59605663]\n",
            " [-0.59990619 -0.59856804 -0.59752259 -0.59674482 -0.5962126  -0.59590639\n",
            "  -0.59580885 -0.59590447 -0.59617928 -0.5966206 ]\n",
            " [-0.59660205 -0.59609636 -0.59581071 -0.59572773 -0.59583057 -0.59610274\n",
            "  -0.59652802 -0.59709045 -0.59777443 -0.59856499]\n",
            " [-0.59581242 -0.59605441 -0.59645918 -0.59700548 -0.5976725  -0.5984399\n",
            "  -0.59928805 -0.60019845 -0.60115425 -0.60214093]\n",
            " [-0.59846861 -0.59928327 -0.60016743 -0.60109981 -0.60206049 -0.60303142\n",
            "  -0.60399713 -0.60494556 -0.6058688  -0.60676383]\n",
            " [-0.604041   -0.60496812 -0.60587503 -0.60674814 -0.60757747 -0.60835743\n",
            "  -0.60908729 -0.60977148 -0.61041953 -0.61104571]\n",
            " [-0.60988597 -0.61051606 -0.61108928 -0.61160823 -0.6120803  -0.61251737\n",
            "  -0.61293525 -0.61335294 -0.61379183 -0.61427478]\n",
            " [-0.61386682 -0.61413163 -0.61437588 -0.61461646 -0.61487243 -0.61516421\n",
            "  -0.61551261 -0.61593805 -0.61645981 -0.61709544]]\n",
            "[4 3]\n",
            "-0.5957277315843009\n",
            "log_2 sg: 1.8888888888888888 log_2_lmbd:  -2.3333333333333335\n",
            "alpha:  0.19842513149602492\n",
            "gamma:  0.03645403248675365\n"
          ]
        }
      ],
      "source": [
        "# range of values of sigma to try \n",
        "\n",
        "\n",
        "K_sgm = 10\n",
        "K_lmbd = 10\n",
        "\n",
        "sgm = np.linspace(1, 3, K_sgm)\n",
        "lmbd = np.linspace(-3, -1, K_lmbd)\n",
        "\n",
        "scores = np.zeros((K_sgm, K_lmbd))\n",
        "scores_std = np.zeros((K_sgm, K_lmbd))\n",
        "\n",
        "KRR_CV = skl.kernel_ridge.KernelRidge(kernel='rbf')\n",
        "\n",
        "for i in range(K_sgm):\n",
        "\n",
        "  KRR_CV.gamma = 1/(2*(2**sgm[i])**2)\n",
        "\n",
        "  for j in range(K_lmbd): \n",
        "\n",
        "    KRR_CV.alpha = (2**lmbd[j])\n",
        "    this_score = skl.model_selection.cross_val_score(KRR_CV, X_train_normal, Y_train_normal, scoring= 'neg_mean_squared_error', cv = 10)\n",
        "\n",
        "    scores[i,j] = (np.mean(this_score))\n",
        "    scores_std[i,j] = (np.std(this_score))\n",
        "\n",
        "print(scores)\n",
        "\n",
        "ij_max = np.array( np.where( scores == scores.max() ), dtype=int).flatten()\n",
        "\n",
        "print(ij_max)\n",
        "\n",
        "print(scores.max())\n",
        "\n",
        "print('log_2 sg:', sgm[ij_max[0]], 'log_2_lmbd: ', lmbd[ij_max[1]])\n",
        "print('alpha: ', 2**lmbd[ij_max[1]])\n",
        "print('gamma: ', 1/(2*(2**sgm[ij_max[0]])**2))\n",
        "best_alpha_rbf = 2**lmbd[ij_max[1]]\n",
        "best_gamma_rbf = 1/(2*(2**sgm[ij_max[0]])**2)"
      ]
    },
    {
      "cell_type": "code",
      "execution_count": 10,
      "metadata": {
        "id": "I2fv3WEkcz6v",
        "outputId": "cd4d45c6-87bc-4c85-abb0-4b04834d9782"
      },
      "outputs": [],
      "source": [
        "# # range of values of sigma to try \n",
        "# K_sgm = 10\n",
        "# K_lmbd = 10\n",
        "\n",
        "# sgm = np.linspace(-4, 4, K_sgm)\n",
        "# lmbd = np.linspace(-4, 4, K_lmbd)\n",
        "\n",
        "# #Laplacian\n",
        "# cv = GridSearchCV(LaplacianRegresor, param_grid = {\n",
        "#     'alpha': 2 ** lmbd,\n",
        "#     'gamma': 1 / (2 ** (sgm))\n",
        "#     }, cv = 5, n_jobs=-1)\n",
        "\n",
        "# cv.fit(X_train_normal, Y_train_normal)"
      ]
    },
    {
      "cell_type": "code",
      "execution_count": 11,
      "metadata": {
        "id": "hx1YpnTPcz6w",
        "outputId": "44653070-0be9-49a4-e537-b77e495ea3df"
      },
      "outputs": [],
      "source": [
        "# best_alpha_laplacian = cv.best_params_['alpha']\n",
        "# best_gamma_laplacian = cv.best_params_['gamma']\n",
        "# print(best_alpha_laplacian)\n",
        "# print(best_gamma_laplacian)"
      ]
    },
    {
      "cell_type": "code",
      "execution_count": 12,
      "metadata": {},
      "outputs": [
        {
          "name": "stdout",
          "output_type": "stream",
          "text": [
            "[[-0.7051611  -0.70887657 -0.71400115 -0.72098566 -0.7303263  -0.74248783\n",
            "  -0.75778525 -0.77624987 -0.79752907 -0.82087101]\n",
            " [-0.62705943 -0.63007216 -0.63433652 -0.64029752 -0.64846855 -0.65937474\n",
            "  -0.67346362 -0.69100216 -0.71199056 -0.7361167 ]\n",
            " [-0.57823357 -0.58017514 -0.58311814 -0.58746162 -0.59366238 -0.60218047\n",
            "  -0.61340464 -0.62758299 -0.6447884  -0.66493113]\n",
            " [-0.55382838 -0.55462268 -0.55624143 -0.55906579 -0.56351447 -0.56998357\n",
            "  -0.57877778 -0.59005886 -0.60383491 -0.61999761]\n",
            " [-0.54626023 -0.54582335 -0.54614391 -0.54760178 -0.55057875 -0.55539831\n",
            "  -0.56227295 -0.57127798 -0.58236275 -0.59539654]\n",
            " [-0.54790922 -0.54625624 -0.5454519  -0.54586723 -0.54782418 -0.55154641\n",
            "  -0.55713116 -0.56455155 -0.57369038 -0.58439614]\n",
            " [-0.55284155 -0.55018134 -0.54861865 -0.5484777  -0.54998254 -0.55322856\n",
            "  -0.55818084 -0.56470231 -0.57260697 -0.58172462]\n",
            " [-0.55773872 -0.55456078 -0.55281511 -0.55271988 -0.55435794 -0.55767403\n",
            "  -0.56249982 -0.56860448 -0.57576081 -0.58381099]\n",
            " [-0.56154446 -0.55856377 -0.55730739 -0.55783158 -0.56005093 -0.56376308\n",
            "  -0.56869728 -0.57457934 -0.58119903 -0.58846426]\n",
            " [-0.56470917 -0.56263365 -0.562396   -0.5638712  -0.56682238 -0.57094825\n",
            "  -0.57594507 -0.58157128 -0.58770099 -0.59435444]]\n",
            "[5 2]\n",
            "-0.5454518955165004\n",
            "log_2 sg: 2.2222222222222223 log_2_lmbd:  -2.111111111111111\n",
            "alpha:  0.2314686780718226\n",
            "gamma:  0.21431099571326817\n"
          ]
        }
      ],
      "source": [
        "# range of values of sigma to try \n",
        "\n",
        "\n",
        "K_sgm = 10\n",
        "K_lmbd = 10\n",
        "\n",
        "sgm = np.linspace(0, 4, K_sgm)\n",
        "lmbd = np.linspace(-3, 1, K_lmbd)\n",
        "\n",
        "scores = np.zeros((K_sgm, K_lmbd))\n",
        "scores_std = np.zeros((K_sgm, K_lmbd))\n",
        "\n",
        "KRR_CV = skl.kernel_ridge.KernelRidge(kernel = 'laplacian')\n",
        "\n",
        "for i in range(K_sgm):\n",
        "\n",
        "  KRR_CV.gamma = 1 / (2 ** (sgm[i]))\n",
        "\n",
        "  for j in range(K_lmbd): \n",
        "\n",
        "    KRR_CV.alpha = (2**lmbd[j])\n",
        "    this_score = skl.model_selection.cross_val_score(KRR_CV, X_train_normal, Y_train_normal, scoring= 'neg_mean_squared_error', cv = 10)\n",
        "\n",
        "    scores[i,j] = (np.mean(this_score))\n",
        "    scores_std[i,j] = (np.std(this_score))\n",
        "\n",
        "print(scores)\n",
        "\n",
        "ij_max = np.array( np.where( scores == scores.max() ), dtype=int).flatten()\n",
        "\n",
        "print(ij_max)\n",
        "\n",
        "print(scores.max())\n",
        "\n",
        "print('log_2 sg:', sgm[ij_max[0]], 'log_2_lmbd: ', lmbd[ij_max[1]])\n",
        "print('alpha: ', 2**lmbd[ij_max[1]])\n",
        "print('gamma: ', 1/(2**sgm[ij_max[0]]))\n",
        "best_alpha_laplacian = 2**lmbd[ij_max[1]]\n",
        "best_gamma_laplacian = 1/(2*(2**sgm[ij_max[0]])**2)"
      ]
    },
    {
      "cell_type": "code",
      "execution_count": 13,
      "metadata": {
        "colab": {
          "base_uri": "https://localhost:8080/"
        },
        "id": "mmZivV-GTXIM",
        "outputId": "7b692a12-4a38-4b55-d461-67134b6125cd"
      },
      "outputs": [
        {
          "name": "stdout",
          "output_type": "stream",
          "text": [
            "LINEAR REGRESSION TRAINING MSE: 0.6278484956554882\n",
            "LINEAR REGRESSION TEST MSE: 0.7021527395264071\n",
            "GAUSSIAN KERNEL TRAINING MSE: 0.45487888889595507\n",
            "GAUSSIAN KERNEL TEST MSE: 0.642230584877313\n",
            "LAPLACIAN KERNEL TRAINING MSE: 0.39264462112490023\n",
            "LAPLACIAN KERNEL TEST MSE: 0.6297267121155207\n"
          ]
        }
      ],
      "source": [
        "#MSE of all 3 models\n",
        "\n",
        "#Linear Regression\n",
        "print(f'LINEAR REGRESSION TRAINING MSE: {skl.metrics.mean_squared_error(predicted_train, Y_train_normal)}')\n",
        "print(f'LINEAR REGRESSION TEST MSE: {skl.metrics.mean_squared_error(predicted_test, Y_test_normal)}')\n",
        "\n",
        "#RBF\n",
        "RBFRegresor = kernel_ridge.KernelRidge(alpha = best_alpha_rbf, kernel = 'rbf', gamma = best_gamma_rbf)\n",
        "RBFRegresor.fit(X_train_normal, Y_train_normal)\n",
        "predicted_train = RBFRegresor.predict(X_train_normal)\n",
        "print(f'GAUSSIAN KERNEL TRAINING MSE: {skl.metrics.mean_squared_error(predicted_train, Y_train_normal)}')\n",
        "predicted_test = RBFRegresor.predict(X_test_normal)\n",
        "print(f'GAUSSIAN KERNEL TEST MSE: {skl.metrics.mean_squared_error(predicted_test, Y_test_normal)}')\n",
        "\n",
        "#Laplacian\n",
        "LaplacianRegresor = kernel_ridge.KernelRidge(alpha = best_alpha_laplacian, kernel = 'laplacian', gamma = best_gamma_laplacian)\n",
        "LaplacianRegresor.fit(X_train_normal, Y_train_normal)\n",
        "predicted_train = LaplacianRegresor.predict(X_train_normal)\n",
        "print(f'LAPLACIAN KERNEL TRAINING MSE: {skl.metrics.mean_squared_error(predicted_train, Y_train_normal)}')\n",
        "predicted_test = LaplacianRegresor.predict(X_test_normal)\n",
        "print(f'LAPLACIAN KERNEL TEST MSE: {skl.metrics.mean_squared_error(predicted_test, Y_test_normal)}')"
      ]
    },
    {
      "cell_type": "code",
      "execution_count": 14,
      "metadata": {},
      "outputs": [],
      "source": [
        "#Predict on new batch of wines \n",
        "path_to_new_wine = '/home/sathvikc/AMATH-482-2/AMATH-482/Homework Assignments/Homework 3/wine_new_batch.csv'\n",
        "new_wine = genfromtxt(path_to_new_wine, delimiter=',')\n",
        "\n",
        "X_new_wine_N = new_wine.shape[0]\n",
        "\n",
        "X_new_wine_mean = np.mean(new_wine, axis=0)\n",
        "X_new_wine_std = np.std(new_wine, axis=0)\n",
        "\n",
        "X_new_wine_normal = (new_wine - matlib.repmat(X_new_wine_mean, X_new_wine_N, 1))/matlib.repmat(X_new_wine_std, X_new_wine_N, 1)"
      ]
    },
    {
      "cell_type": "code",
      "execution_count": 16,
      "metadata": {
        "id": "tu8vjbS0VhdW",
        "outputId": "87d1caee-e65d-47ed-c83c-7afd07339474"
      },
      "outputs": [
        {
          "name": "stdout",
          "output_type": "stream",
          "text": [
            "LINEAR PREDICTION: [6.15311173 4.77584118 5.67006291 5.73158471 5.86222458]\n",
            "RBF PREDICTION: [6.44841878 4.81465157 5.31860301 5.23211189 5.1219432 ]\n",
            "LAPLACIAN PREDICTION: [6.2243997  4.86364547 5.50656253 5.4880713  5.54749558]\n"
          ]
        }
      ],
      "source": [
        "#Linear Regression \n",
        "linear_predict = LinearRegressor.predict(X_new_wine_normal)\n",
        "\n",
        "#RBF\n",
        "rbf_predict = RBFRegresor.predict(X_new_wine_normal)\n",
        "\n",
        "#Laplacian\n",
        "laplacian_predict = LaplacianRegresor.predict(X_new_wine_normal)\n",
        "\n",
        "#De-normalize the predictions\n",
        "linear_predict = (linear_predict * Y_train_std) + Y_train_mean\n",
        "rbf_predict = (rbf_predict * Y_train_std) + Y_train_mean\n",
        "laplacian_predict = (laplacian_predict * Y_train_std) + Y_train_mean\n",
        "\n",
        "#print the predictions \n",
        "print(f'LINEAR PREDICTION: {linear_predict}')\n",
        "print(f'RBF PREDICTION: {rbf_predict}')\n",
        "print(f'LAPLACIAN PREDICTION: {laplacian_predict}')"
      ]
    }
  ],
  "metadata": {
    "colab": {
      "name": "HW3.ipynb",
      "provenance": []
    },
    "kernelspec": {
      "display_name": "Python 3",
      "name": "python3"
    },
    "language_info": {
      "codemirror_mode": {
        "name": "ipython",
        "version": 3
      },
      "file_extension": ".py",
      "mimetype": "text/x-python",
      "name": "python",
      "nbconvert_exporter": "python",
      "pygments_lexer": "ipython3",
      "version": "3.9.7"
    },
    "orig_nbformat": 4
  },
  "nbformat": 4,
  "nbformat_minor": 0
}
