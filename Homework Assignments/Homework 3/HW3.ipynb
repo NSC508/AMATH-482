{
  "cells": [
    {
      "cell_type": "code",
      "execution_count": 1,
      "metadata": {
        "colab": {
          "base_uri": "https://localhost:8080/"
        },
        "id": "R2wz3XVwTitC",
        "outputId": "5ae07100-8d94-4919-c128-6be6d26612bf"
      },
      "outputs": [
        {
          "output_type": "stream",
          "name": "stdout",
          "text": [
            "2\n"
          ]
        }
      ],
      "source": [
        "import numpy as np\n",
        "import matplotlib.pyplot as plt\n",
        "import sklearn\n",
        "from numpy import genfromtxt\n",
        "from sklearn import kernel_ridge\n",
        "import os\n",
        "print(len(os.sched_getaffinity(0)))\n",
        "from numba import jit, njit, prange"
      ]
    },
    {
      "cell_type": "code",
      "execution_count": 2,
      "metadata": {
        "colab": {
          "base_uri": "https://localhost:8080/"
        },
        "id": "C1XscqCHTitF",
        "outputId": "1c917f63-cc6a-4eba-cbca-18fc52c6fe93"
      },
      "outputs": [
        {
          "output_type": "stream",
          "name": "stdout",
          "text": [
            "TRAIN SET\n",
            "[[ 6.1   0.6   0.08 ...  0.54 11.    5.  ]\n",
            " [10.3   0.53  0.48 ...  0.59  9.3   6.  ]\n",
            " [ 6.9   0.49  0.19 ...  0.64  9.8   6.  ]\n",
            " ...\n",
            " [ 7.    0.38  0.49 ...  0.77 11.4   6.  ]\n",
            " [10.    0.35  0.47 ...  0.52 12.    6.  ]\n",
            " [ 7.    0.6   0.3  ...  1.17 10.2   5.  ]]\n",
            "ALL BUT LAST\n",
            "[[ 6.1   0.6   0.08 ...  3.38  0.54 11.  ]\n",
            " [10.3   0.53  0.48 ...  3.12  0.59  9.3 ]\n",
            " [ 6.9   0.49  0.19 ...  3.38  0.64  9.8 ]\n",
            " ...\n",
            " [ 7.    0.38  0.49 ...  3.39  0.77 11.4 ]\n",
            " [10.    0.35  0.47 ...  3.23  0.52 12.  ]\n",
            " [ 7.    0.6   0.3  ...  3.3   1.17 10.2 ]]\n",
            "LAST\n",
            "[5. 6. 6. ... 6. 6. 5.]\n"
          ]
        }
      ],
      "source": [
        "path_to_train = '/content/wine_training.csv'\n",
        "path_to_test = '/content/wine_test.csv'\n",
        "\n",
        "train = genfromtxt(path_to_train, delimiter=',')\n",
        "test = genfromtxt(path_to_test, delimiter=',')\n",
        "\n",
        "print('TRAIN SET')\n",
        "print(train)\n",
        "print('ALL BUT LAST')\n",
        "print(train[:, :-1])\n",
        "print('LAST')\n",
        "print(train[:, -1])"
      ]
    },
    {
      "cell_type": "code",
      "source": [
        "norm_train = (train - train.mean(axis=0)) / train.std(axis=0)\n",
        "norm_test = (test - test.mean(axis=0)) / test.std(axis=0)"
      ],
      "metadata": {
        "id": "RHDWossgUd_1"
      },
      "execution_count": 3,
      "outputs": []
    },
    {
      "cell_type": "code",
      "source": [
        "#Use linear regression to fit a linear model to the training set \n",
        "LinearRegressor = sklearn.linear_model.LinearRegression()\n",
        "LinearRegressor.fit(norm_train[:, :-1], norm_train[:, -1])\n",
        "predicted_train = LinearRegressor.predict(norm_train[:, :-1])\n",
        "print(f'LINEAR REGRESSION TRAINING MSE: {sklearn.metrics.mean_squared_error(predicted_train, norm_train[:, -1])}')\n",
        "predicted_test = LinearRegressor.predict(norm_test[:, :-1])\n",
        "print(f'LINEAR REGRESSION TEST MSE: {sklearn.metrics.mean_squared_error(predicted_test, norm_test[:, -1])}')"
      ],
      "metadata": {
        "colab": {
          "base_uri": "https://localhost:8080/"
        },
        "id": "3A6WfheDVC0f",
        "outputId": "23f44fbf-7c1b-4df5-a3e3-6c2c48a69828"
      },
      "execution_count": 4,
      "outputs": [
        {
          "output_type": "stream",
          "name": "stdout",
          "text": [
            "LINEAR REGRESSION TRAINING MSE: 0.6278484956554817\n",
            "LINEAR REGRESSION TEST MSE: 0.7021527395264012\n"
          ]
        }
      ]
    },
    {
      "cell_type": "code",
      "source": [
        "#Use kernel ridge regression to fit a non-linear model to the training set\n",
        "\n",
        "#Gaussian (RBF) Kernel \n",
        "def GaussianError(args):\n",
        "  RBFRegresor = kernel_ridge.KernelRidge(alpha = args[0], kernel = 'rbf', gamma = args[1])\n",
        "  RBFRegresor.fit(norm_train[:, :-1], norm_train[:, -1])\n",
        "  predicted_train = RBFRegresor.predict(norm_train[:, :-1])\n",
        "  #print(f'GAUSSIAN KERNEL TRAINING MSE: {sklearn.metrics.mean_squared_error(predicted_train, norm_train[:, -1])}')\n",
        "  predicted_test = RBFRegresor.predict(norm_test[:, :-1])\n",
        "  #print(f'GAUSSIAN KERNEL TEST MSE: {sklearn.metrics.mean_squared_error(predicted_test, norm_test[:, -1])}')\n",
        "  train_mse = sklearn.metrics.mean_squared_error(predicted_train, norm_train[:, -1])\n",
        "  test_mse = sklearn.metrics.mean_squared_error(predicted_test, norm_test[:, -1])\n",
        "  return train_mse\n",
        "\n",
        "#Laplacian kernel\n",
        "@njit(nogil=True)\n",
        "def LaplacianError(alpha, gamma, best_train):\n",
        "  LaplacianRegresor = kernel_ridge.KernelRidge(alpha = 1.0, kernel = 'laplacian', gamma = 1.0)\n",
        "  LaplacianRegresor.fit(norm_train[:, :-1], norm_train[:, -1])\n",
        "  predicted_train = LaplacianRegresor.predict(norm_train[:, :-1])\n",
        "  print(f'LAPLACIAN KERNEL TRAINING MSE: {sklearn.metrics.mean_squared_error(predicted_train, norm_train[:, -1])}')\n",
        "  predicted_test = LaplacianRegresor.predict(norm_test[:, :-1])\n",
        "  print(f'LAPLACIAN KERNEL TEST MSE: {sklearn.metrics.mean_squared_error(predicted_test, norm_test[:, -1])}')\n",
        "  train_mse = sklearn.metrics.mean_squared_error(predicted_train, norm_train[:, -1])\n",
        "  if train_mse > best_train:\n",
        "    best_alpha = alpha\n",
        "    best_gamma = gamma"
      ],
      "metadata": {
        "id": "4nsy1hqHVM0M"
      },
      "execution_count": 8,
      "outputs": []
    },
    {
      "cell_type": "code",
      "source": [
        "print(GaussianError((1.0, 1.0)))"
      ],
      "metadata": {
        "id": "1LYl-n84XPOJ",
        "outputId": "e18906e2-4d79-4aad-b3f1-69d41522e056",
        "colab": {
          "base_uri": "https://localhost:8080/"
        }
      },
      "execution_count": 9,
      "outputs": [
        {
          "output_type": "stream",
          "name": "stdout",
          "text": [
            "0.20315143936568633\n"
          ]
        }
      ]
    },
    {
      "cell_type": "code",
      "source": [
        "from concurrent.futures import ThreadPoolExecutor\n",
        "import itertools\n",
        "best_alpha = 0\n",
        "executor = ThreadPoolExecutor(len(os.sched_getaffinity(0)))\n",
        "alpha_range = np.arange(0, 10, 1)\n",
        "gamma_range = np.arange(0, 10, 1)\n",
        "all_combinations = itertools.product(alpha_range, gamma_range)\n",
        "results = executor.map(GaussianError, all_combinations)\n",
        "print(list(results))\n",
        "max_result = max(list(results))\n",
        "print(max_result)\n",
        "print(list(results))"
      ],
      "metadata": {
        "id": "mmZivV-GTXIM",
        "outputId": "b9776157-3bf0-465e-ca56-c27cc94dcf94",
        "colab": {
          "base_uri": "https://localhost:8080/",
          "height": 533
        }
      },
      "execution_count": 34,
      "outputs": [
        {
          "output_type": "stream",
          "name": "stderr",
          "text": [
            "/usr/local/lib/python3.7/dist-packages/sklearn/linear_model/_ridge.py:197: UserWarning: Singular matrix in solving dual problem. Using least-squares solution instead.\n",
            "  \"Singular matrix in solving dual problem. Using \"\n",
            "/usr/local/lib/python3.7/dist-packages/sklearn/linear_model/_ridge.py:197: UserWarning: Singular matrix in solving dual problem. Using least-squares solution instead.\n",
            "  \"Singular matrix in solving dual problem. Using \"\n",
            "/usr/local/lib/python3.7/dist-packages/sklearn/linear_model/_ridge.py:197: UserWarning: Singular matrix in solving dual problem. Using least-squares solution instead.\n",
            "  \"Singular matrix in solving dual problem. Using \"\n",
            "/usr/local/lib/python3.7/dist-packages/sklearn/linear_model/_ridge.py:197: UserWarning: Singular matrix in solving dual problem. Using least-squares solution instead.\n",
            "  \"Singular matrix in solving dual problem. Using \"\n",
            "/usr/local/lib/python3.7/dist-packages/sklearn/linear_model/_ridge.py:197: UserWarning: Singular matrix in solving dual problem. Using least-squares solution instead.\n",
            "  \"Singular matrix in solving dual problem. Using \"\n",
            "/usr/local/lib/python3.7/dist-packages/sklearn/linear_model/_ridge.py:197: UserWarning: Singular matrix in solving dual problem. Using least-squares solution instead.\n",
            "  \"Singular matrix in solving dual problem. Using \"\n",
            "/usr/local/lib/python3.7/dist-packages/sklearn/linear_model/_ridge.py:197: UserWarning: Singular matrix in solving dual problem. Using least-squares solution instead.\n",
            "  \"Singular matrix in solving dual problem. Using \"\n"
          ]
        },
        {
          "output_type": "stream",
          "name": "stdout",
          "text": [
            "[1.073770314029843, 3.5308512057016115e-29, 3.5438611647519476e-29, 7.154699781991392e-29, 9.758411697956191e-29, 1.6241898743136383e-28, 2.0451609473901214e-28, 2.8143729038573282e-28, 3.75936481453413e-28, 4.450225698635913e-28, 0.9999999999999892, 0.20315143936568633, 0.2073378034585659, 0.21521872365735492, 0.21898420244623512, 0.22094667732490614, 0.22211007441480654, 0.22287672520765825, 0.22342655205334072, 0.22384777594062416, 0.9999999999999893, 0.3500168038174951, 0.3791006871848673, 0.3936538379494036, 0.3996488855205645, 0.4026502533820927, 0.40442041743177576, 0.40559388530641294, 0.40644071976551993, 0.40709100172248514, 0.9999999999999893, 0.4471141664165879, 0.49159786535532957, 0.5085458800166198, 0.5151013240433882, 0.5183263332870892, 0.5202246505910707, 0.5214868773208996, 0.5224007702564363, 0.5231038237937479, 0.9999999999999893, 0.5166046647611476, 0.5697531546110063, 0.5872233049039937, 0.5937339804757091, 0.5969050587839585, 0.598769782811598, 0.6000119153624897, 0.600912998718654, 0.601606975522961, 0.9999999999999893, 0.5692604375424996, 0.6270551204637179, 0.644256215644174, 0.6505079097735194, 0.6535329890095377, 0.6553108170546149, 0.6564964877486961, 0.6573576950743225, 0.6580214541524737, 0.9999999999999893, 0.6108026147833325, 0.6708464767528669, 0.6874497153743468, 0.6933752069360521, 0.696229172668675, 0.6979057866911432, 0.699024908346107, 0.6998384955313602, 0.7004658826388982, 0.9999999999999893, 0.6445636525324092, 0.7054021477911218, 0.7212849426110315, 0.7268750548635156, 0.7295581493321274, 0.7311339429437588, 0.7321864355331693, 0.7329520832587421, 0.7335427344122871, 0.9999999999999896, 0.6726304529984286, 0.7333686612994641, 0.7485034880486179, 0.7537720957993107, 0.756294039806331, 0.7577748757864697, 0.75876442965585, 0.7594846527669952, 0.7600404307513755, 0.9999999999999893, 0.6963852715585055, 0.7564697345299187, 0.7708731721529566, 0.7758425896368478, 0.7782161534768365, 0.7796096301940064, 0.780541169625008, 0.7812194376799246, 0.781742967328188]\n"
          ]
        },
        {
          "output_type": "error",
          "ename": "ValueError",
          "evalue": "ignored",
          "traceback": [
            "\u001b[0;31m---------------------------------------------------------------------------\u001b[0m",
            "\u001b[0;31mValueError\u001b[0m                                Traceback (most recent call last)",
            "\u001b[0;32m<ipython-input-34-11e2058dafa4>\u001b[0m in \u001b[0;36m<module>\u001b[0;34m()\u001b[0m\n\u001b[1;32m      8\u001b[0m \u001b[0mresults\u001b[0m \u001b[0;34m=\u001b[0m \u001b[0mexecutor\u001b[0m\u001b[0;34m.\u001b[0m\u001b[0mmap\u001b[0m\u001b[0;34m(\u001b[0m\u001b[0mGaussianError\u001b[0m\u001b[0;34m,\u001b[0m \u001b[0mall_combinations\u001b[0m\u001b[0;34m)\u001b[0m\u001b[0;34m\u001b[0m\u001b[0;34m\u001b[0m\u001b[0m\n\u001b[1;32m      9\u001b[0m \u001b[0mprint\u001b[0m\u001b[0;34m(\u001b[0m\u001b[0mlist\u001b[0m\u001b[0;34m(\u001b[0m\u001b[0mresults\u001b[0m\u001b[0;34m)\u001b[0m\u001b[0;34m)\u001b[0m\u001b[0;34m\u001b[0m\u001b[0;34m\u001b[0m\u001b[0m\n\u001b[0;32m---> 10\u001b[0;31m \u001b[0mmax_result\u001b[0m \u001b[0;34m=\u001b[0m \u001b[0mmax\u001b[0m\u001b[0;34m(\u001b[0m\u001b[0mlist\u001b[0m\u001b[0;34m(\u001b[0m\u001b[0mresults\u001b[0m\u001b[0;34m)\u001b[0m\u001b[0;34m)\u001b[0m\u001b[0;34m\u001b[0m\u001b[0;34m\u001b[0m\u001b[0m\n\u001b[0m\u001b[1;32m     11\u001b[0m \u001b[0mprint\u001b[0m\u001b[0;34m(\u001b[0m\u001b[0mmax_result\u001b[0m\u001b[0;34m)\u001b[0m\u001b[0;34m\u001b[0m\u001b[0;34m\u001b[0m\u001b[0m\n\u001b[1;32m     12\u001b[0m \u001b[0mprint\u001b[0m\u001b[0;34m(\u001b[0m\u001b[0mlist\u001b[0m\u001b[0;34m(\u001b[0m\u001b[0mresults\u001b[0m\u001b[0;34m)\u001b[0m\u001b[0;34m)\u001b[0m\u001b[0;34m\u001b[0m\u001b[0;34m\u001b[0m\u001b[0m\n",
            "\u001b[0;31mValueError\u001b[0m: max() arg is an empty sequence"
          ]
        }
      ]
    },
    {
      "cell_type": "code",
      "source": [
        "best_alpha = 0 \n",
        "best_gamma = 0\n",
        "@jit(nogil=True, parallel=True)\n",
        "def run_sims(end=4):\n",
        "    for alpha in prange(int(end/0.1)):\n",
        "      for gamma in prange(int(end/0.1)):\n",
        "        if alpha == 0 or gamma == 0:\n",
        "            continue\n",
        "        GaussianError(alpha*0.1, gamma*0.1, 0, best_alpha, best_gamma)\n",
        "        \n",
        "run_sims()\n",
        "print(best_alpha)\n",
        "print(best_gamma)"
      ],
      "metadata": {
        "colab": {
          "base_uri": "https://localhost:8080/"
        },
        "id": "Y11izsaOQode",
        "outputId": "a5d5f23d-7e3f-49ec-833b-dede89721f81"
      },
      "execution_count": null,
      "outputs": [
        {
          "output_type": "stream",
          "name": "stderr",
          "text": [
            "<ipython-input-26-1ee6162a7113>:3: NumbaWarning: \n",
            "Compilation is falling back to object mode WITH looplifting enabled because Function \"run_sims\" failed type inference due to: Invalid use of type(CPUDispatcher(<function GaussianError at 0x7f41ad940dd0>)) with parameters (float64, float64, Literal[int](0), Literal[int](0), Literal[int](0))\n",
            "\n",
            "During: resolving callee type: type(CPUDispatcher(<function GaussianError at 0x7f41ad940dd0>))\n",
            "During: typing of call at <ipython-input-26-1ee6162a7113> (9)\n",
            "\n",
            "\n",
            "File \"<ipython-input-26-1ee6162a7113>\", line 9:\n",
            "def run_sims(end=4):\n",
            "    <source elided>\n",
            "            continue\n",
            "        GaussianError(alpha*0.1, gamma*0.1, 0, best_alpha, best_gamma)\n",
            "        ^\n",
            "\n",
            "  @jit(nogil=True, parallel=True)\n",
            "<ipython-input-26-1ee6162a7113>:3: NumbaWarning: \n",
            "Compilation is falling back to object mode WITHOUT looplifting enabled because Function \"run_sims\" failed type inference due to: cannot determine Numba type of <class 'numba.core.dispatcher.LiftedLoop'>\n",
            "\n",
            "File \"<ipython-input-26-1ee6162a7113>\", line 5:\n",
            "def run_sims(end=4):\n",
            "    for alpha in prange(int(end/0.1)):\n",
            "    ^\n",
            "\n",
            "  @jit(nogil=True, parallel=True)\n",
            "/usr/local/lib/python3.7/dist-packages/numba/core/object_mode_passes.py:178: NumbaWarning: Function \"run_sims\" was compiled in object mode without forceobj=True, but has lifted loops.\n",
            "\n",
            "File \"<ipython-input-26-1ee6162a7113>\", line 5:\n",
            "def run_sims(end=4):\n",
            "    for alpha in prange(int(end/0.1)):\n",
            "    ^\n",
            "\n",
            "  state.func_ir.loc))\n",
            "/usr/local/lib/python3.7/dist-packages/numba/core/object_mode_passes.py:188: NumbaDeprecationWarning: \n",
            "Fall-back from the nopython compilation path to the object mode compilation path has been detected, this is deprecated behaviour.\n",
            "\n",
            "For more information visit https://numba.pydata.org/numba-doc/latest/reference/deprecation.html#deprecation-of-object-mode-fall-back-behaviour-when-using-jit\n",
            "\n",
            "File \"<ipython-input-26-1ee6162a7113>\", line 5:\n",
            "def run_sims(end=4):\n",
            "    for alpha in prange(int(end/0.1)):\n",
            "    ^\n",
            "\n",
            "  state.func_ir.loc))\n",
            "<ipython-input-26-1ee6162a7113>:3: NumbaWarning: Code running in object mode won't allow parallel execution despite nogil=True.\n",
            "  @jit(nogil=True, parallel=True)\n",
            "<ipython-input-26-1ee6162a7113>:3: NumbaWarning: \n",
            "Compilation is falling back to object mode WITHOUT looplifting enabled because Function \"run_sims\" failed type inference due to: Invalid use of type(CPUDispatcher(<function GaussianError at 0x7f41ad940dd0>)) with parameters (float64, float64, Literal[int](0), Literal[int](0), Literal[int](0))\n",
            "\n",
            "During: resolving callee type: type(CPUDispatcher(<function GaussianError at 0x7f41ad940dd0>))\n",
            "During: typing of call at <ipython-input-26-1ee6162a7113> (9)\n",
            "\n",
            "\n",
            "File \"<ipython-input-26-1ee6162a7113>\", line 9:\n",
            "def run_sims(end=4):\n",
            "    <source elided>\n",
            "            continue\n",
            "        GaussianError(alpha*0.1, gamma*0.1, 0, best_alpha, best_gamma)\n",
            "        ^\n",
            "\n",
            "  @jit(nogil=True, parallel=True)\n",
            "/usr/local/lib/python3.7/dist-packages/numba/core/object_mode_passes.py:178: NumbaWarning: Function \"run_sims\" was compiled in object mode without forceobj=True.\n",
            "\n",
            "File \"<ipython-input-26-1ee6162a7113>\", line 5:\n",
            "def run_sims(end=4):\n",
            "    for alpha in prange(int(end/0.1)):\n",
            "    ^\n",
            "\n",
            "  state.func_ir.loc))\n",
            "/usr/local/lib/python3.7/dist-packages/numba/core/object_mode_passes.py:188: NumbaDeprecationWarning: \n",
            "Fall-back from the nopython compilation path to the object mode compilation path has been detected, this is deprecated behaviour.\n",
            "\n",
            "For more information visit https://numba.pydata.org/numba-doc/latest/reference/deprecation.html#deprecation-of-object-mode-fall-back-behaviour-when-using-jit\n",
            "\n",
            "File \"<ipython-input-26-1ee6162a7113>\", line 5:\n",
            "def run_sims(end=4):\n",
            "    for alpha in prange(int(end/0.1)):\n",
            "    ^\n",
            "\n",
            "  state.func_ir.loc))\n",
            "<ipython-input-26-1ee6162a7113>:3: NumbaWarning: Code running in object mode won't allow parallel execution despite nogil=True.\n",
            "  @jit(nogil=True, parallel=True)\n"
          ]
        },
        {
          "output_type": "stream",
          "name": "stdout",
          "text": [
            "0\n",
            "0\n"
          ]
        }
      ]
    },
    {
      "cell_type": "code",
      "source": [
        "#Use 10-fold CV to tune the lenght of scale sigma and lambda for both above kernels. "
      ],
      "metadata": {
        "id": "wcJcW0KWVW-O"
      },
      "execution_count": null,
      "outputs": []
    },
    {
      "cell_type": "code",
      "source": [
        "#MSE of all 3 modesl "
      ],
      "metadata": {
        "id": "k53fRytRVd-6"
      },
      "execution_count": null,
      "outputs": []
    },
    {
      "cell_type": "code",
      "source": [
        "#Predict on new batch of wines "
      ],
      "metadata": {
        "id": "tu8vjbS0VhdW"
      },
      "execution_count": null,
      "outputs": []
    }
  ],
  "metadata": {
    "language_info": {
      "name": "python"
    },
    "orig_nbformat": 4,
    "colab": {
      "name": "HW3.ipynb",
      "provenance": []
    },
    "kernelspec": {
      "name": "python3",
      "display_name": "Python 3"
    }
  },
  "nbformat": 4,
  "nbformat_minor": 0
}