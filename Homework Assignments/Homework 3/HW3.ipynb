{
  "cells": [
    {
      "cell_type": "code",
      "execution_count": 21,
      "metadata": {
        "colab": {
          "base_uri": "https://localhost:8080/"
        },
        "id": "R2wz3XVwTitC",
        "outputId": "d583bfd0-fe02-4de1-9454-6ab99ff4c042"
      },
      "outputs": [
        {
          "output_type": "stream",
          "name": "stdout",
          "text": [
            "2\n"
          ]
        }
      ],
      "source": [
        "import numpy as np\n",
        "import matplotlib.pyplot as plt\n",
        "import sklearn\n",
        "from numpy import genfromtxt\n",
        "from sklearn import kernel_ridge\n",
        "import os\n",
        "print(len(os.sched_getaffinity(0)))\n",
        "from numba import jit, njit, prange"
      ]
    },
    {
      "cell_type": "code",
      "execution_count": 15,
      "metadata": {
        "colab": {
          "base_uri": "https://localhost:8080/"
        },
        "id": "C1XscqCHTitF",
        "outputId": "87598342-b142-45a8-f5d0-3fad0d9c39e2"
      },
      "outputs": [
        {
          "output_type": "stream",
          "name": "stdout",
          "text": [
            "TRAIN SET\n",
            "[[ 6.1   0.6   0.08 ...  0.54 11.    5.  ]\n",
            " [10.3   0.53  0.48 ...  0.59  9.3   6.  ]\n",
            " [ 6.9   0.49  0.19 ...  0.64  9.8   6.  ]\n",
            " ...\n",
            " [ 7.    0.38  0.49 ...  0.77 11.4   6.  ]\n",
            " [10.    0.35  0.47 ...  0.52 12.    6.  ]\n",
            " [ 7.    0.6   0.3  ...  1.17 10.2   5.  ]]\n",
            "ALL BUT LAST\n",
            "[[ 6.1   0.6   0.08 ...  3.38  0.54 11.  ]\n",
            " [10.3   0.53  0.48 ...  3.12  0.59  9.3 ]\n",
            " [ 6.9   0.49  0.19 ...  3.38  0.64  9.8 ]\n",
            " ...\n",
            " [ 7.    0.38  0.49 ...  3.39  0.77 11.4 ]\n",
            " [10.    0.35  0.47 ...  3.23  0.52 12.  ]\n",
            " [ 7.    0.6   0.3  ...  3.3   1.17 10.2 ]]\n",
            "LAST\n",
            "[5. 6. 6. ... 6. 6. 5.]\n"
          ]
        }
      ],
      "source": [
        "path_to_train = '/content/wine_training.csv'\n",
        "path_to_test = '/content/wine_test.csv'\n",
        "\n",
        "train = genfromtxt(path_to_train, delimiter=',')\n",
        "test = genfromtxt(path_to_test, delimiter=',')\n",
        "\n",
        "print('TRAIN SET')\n",
        "print(train)\n",
        "print('ALL BUT LAST')\n",
        "print(train[:, :-1])\n",
        "print('LAST')\n",
        "print(train[:, -1])"
      ]
    },
    {
      "cell_type": "code",
      "source": [
        "norm_train = (train - train.mean(axis=0)) / train.std(axis=0)\n",
        "norm_test = (test - test.mean(axis=0)) / test.std(axis=0)"
      ],
      "metadata": {
        "id": "RHDWossgUd_1"
      },
      "execution_count": 16,
      "outputs": []
    },
    {
      "cell_type": "code",
      "source": [
        "#Use linear regression to fit a linear model to the training set \n",
        "LinearRegressor = sklearn.linear_model.LinearRegression()\n",
        "LinearRegressor.fit(norm_train[:, :-1], norm_train[:, -1])\n",
        "predicted_train = LinearRegressor.predict(norm_train[:, :-1])\n",
        "print(f'LINEAR REGRESSION TRAINING MSE: {sklearn.metrics.mean_squared_error(predicted_train, norm_train[:, -1])}')\n",
        "predicted_test = LinearRegressor.predict(norm_test[:, :-1])\n",
        "print(f'LINEAR REGRESSION TEST MSE: {sklearn.metrics.mean_squared_error(predicted_test, norm_test[:, -1])}')"
      ],
      "metadata": {
        "colab": {
          "base_uri": "https://localhost:8080/"
        },
        "id": "3A6WfheDVC0f",
        "outputId": "c8d96230-4eb0-4a07-a241-ac4d958ac656"
      },
      "execution_count": 17,
      "outputs": [
        {
          "output_type": "stream",
          "name": "stdout",
          "text": [
            "LINEAR REGRESSION TRAINING MSE: 0.6278484956554817\n",
            "LINEAR REGRESSION TEST MSE: 0.7021527395264012\n"
          ]
        }
      ]
    },
    {
      "cell_type": "code",
      "source": [
        "#Use kernel ridge regression to fit a non-linear model to the training set\n",
        "\n",
        "#Gaussian (RBF) Kernel \n",
        "@jit(nogil=True)\n",
        "def GaussianError(alpha, gamma, best_train, best_alpha, best_gamma):\n",
        "  RBFRegresor = kernel_ridge.KernelRidge(alpha = 1.0, kernel = 'rbf', gamma = 1.0)\n",
        "  RBFRegresor.fit(norm_train[:, :-1], norm_train[:, -1])\n",
        "  predicted_train = RBFRegresor.predict(norm_train[:, :-1])\n",
        "  #print(f'GAUSSIAN KERNEL TRAINING MSE: {sklearn.metrics.mean_squared_error(predicted_train, norm_train[:, -1])}')\n",
        "  predicted_test = RBFRegresor.predict(norm_test[:, :-1])\n",
        "  #print(f'GAUSSIAN KERNEL TEST MSE: {sklearn.metrics.mean_squared_error(predicted_test, norm_test[:, -1])}')\n",
        "  train_mse = sklearn.metrics.mean_squared_error(predicted_train, norm_train[:, -1])\n",
        "  if train_mse > best_train:\n",
        "    best_alpha = alpha\n",
        "    best_gamma = gamma\n",
        "\n",
        "#Laplacian kernel\n",
        "@njit(nogil=True)\n",
        "def LaplacianError(alpha, gamma, best_train):\n",
        "  LaplacianRegresor = kernel_ridge.KernelRidge(alpha = 1.0, kernel = 'laplacian', gamma = 1.0)\n",
        "  LaplacianRegresor.fit(norm_train[:, :-1], norm_train[:, -1])\n",
        "  predicted_train = LaplacianRegresor.predict(norm_train[:, :-1])\n",
        "  print(f'LAPLACIAN KERNEL TRAINING MSE: {sklearn.metrics.mean_squared_error(predicted_train, norm_train[:, -1])}')\n",
        "  predicted_test = LaplacianRegresor.predict(norm_test[:, :-1])\n",
        "  print(f'LAPLACIAN KERNEL TEST MSE: {sklearn.metrics.mean_squared_error(predicted_test, norm_test[:, -1])}')\n",
        "  train_mse = sklearn.metrics.mean_squared_error(predicted_train, norm_train[:, -1])\n",
        "  if train_mse > best_train:\n",
        "    best_alpha = alpha\n",
        "    best_gamma = gamma"
      ],
      "metadata": {
        "id": "4nsy1hqHVM0M"
      },
      "execution_count": 25,
      "outputs": []
    },
    {
      "cell_type": "code",
      "source": [
        "best_alpha = 0 \n",
        "best_gamma = 0\n",
        "@jit(nogil=True, parallel=True)\n",
        "def run_sims(end=4):\n",
        "    for alpha in prange(int(end/0.1)):\n",
        "      for gamma in prange(int(end/0.1)):\n",
        "        if alpha == 0 or gamma == 0:\n",
        "            continue\n",
        "        GaussianError(alpha*0.1, gamma*0.1, 0, best_alpha, best_gamma)\n",
        "        \n",
        "run_sims()\n",
        "print(best_alpha)\n",
        "print(best_gamma)"
      ],
      "metadata": {
        "id": "Y11izsaOQode",
        "outputId": "a5d5f23d-7e3f-49ec-833b-dede89721f81",
        "colab": {
          "base_uri": "https://localhost:8080/"
        }
      },
      "execution_count": 26,
      "outputs": [
        {
          "output_type": "stream",
          "name": "stderr",
          "text": [
            "<ipython-input-26-1ee6162a7113>:3: NumbaWarning: \n",
            "Compilation is falling back to object mode WITH looplifting enabled because Function \"run_sims\" failed type inference due to: Invalid use of type(CPUDispatcher(<function GaussianError at 0x7f41ad940dd0>)) with parameters (float64, float64, Literal[int](0), Literal[int](0), Literal[int](0))\n",
            "\n",
            "During: resolving callee type: type(CPUDispatcher(<function GaussianError at 0x7f41ad940dd0>))\n",
            "During: typing of call at <ipython-input-26-1ee6162a7113> (9)\n",
            "\n",
            "\n",
            "File \"<ipython-input-26-1ee6162a7113>\", line 9:\n",
            "def run_sims(end=4):\n",
            "    <source elided>\n",
            "            continue\n",
            "        GaussianError(alpha*0.1, gamma*0.1, 0, best_alpha, best_gamma)\n",
            "        ^\n",
            "\n",
            "  @jit(nogil=True, parallel=True)\n",
            "<ipython-input-26-1ee6162a7113>:3: NumbaWarning: \n",
            "Compilation is falling back to object mode WITHOUT looplifting enabled because Function \"run_sims\" failed type inference due to: cannot determine Numba type of <class 'numba.core.dispatcher.LiftedLoop'>\n",
            "\n",
            "File \"<ipython-input-26-1ee6162a7113>\", line 5:\n",
            "def run_sims(end=4):\n",
            "    for alpha in prange(int(end/0.1)):\n",
            "    ^\n",
            "\n",
            "  @jit(nogil=True, parallel=True)\n",
            "/usr/local/lib/python3.7/dist-packages/numba/core/object_mode_passes.py:178: NumbaWarning: Function \"run_sims\" was compiled in object mode without forceobj=True, but has lifted loops.\n",
            "\n",
            "File \"<ipython-input-26-1ee6162a7113>\", line 5:\n",
            "def run_sims(end=4):\n",
            "    for alpha in prange(int(end/0.1)):\n",
            "    ^\n",
            "\n",
            "  state.func_ir.loc))\n",
            "/usr/local/lib/python3.7/dist-packages/numba/core/object_mode_passes.py:188: NumbaDeprecationWarning: \n",
            "Fall-back from the nopython compilation path to the object mode compilation path has been detected, this is deprecated behaviour.\n",
            "\n",
            "For more information visit https://numba.pydata.org/numba-doc/latest/reference/deprecation.html#deprecation-of-object-mode-fall-back-behaviour-when-using-jit\n",
            "\n",
            "File \"<ipython-input-26-1ee6162a7113>\", line 5:\n",
            "def run_sims(end=4):\n",
            "    for alpha in prange(int(end/0.1)):\n",
            "    ^\n",
            "\n",
            "  state.func_ir.loc))\n",
            "<ipython-input-26-1ee6162a7113>:3: NumbaWarning: Code running in object mode won't allow parallel execution despite nogil=True.\n",
            "  @jit(nogil=True, parallel=True)\n",
            "<ipython-input-26-1ee6162a7113>:3: NumbaWarning: \n",
            "Compilation is falling back to object mode WITHOUT looplifting enabled because Function \"run_sims\" failed type inference due to: Invalid use of type(CPUDispatcher(<function GaussianError at 0x7f41ad940dd0>)) with parameters (float64, float64, Literal[int](0), Literal[int](0), Literal[int](0))\n",
            "\n",
            "During: resolving callee type: type(CPUDispatcher(<function GaussianError at 0x7f41ad940dd0>))\n",
            "During: typing of call at <ipython-input-26-1ee6162a7113> (9)\n",
            "\n",
            "\n",
            "File \"<ipython-input-26-1ee6162a7113>\", line 9:\n",
            "def run_sims(end=4):\n",
            "    <source elided>\n",
            "            continue\n",
            "        GaussianError(alpha*0.1, gamma*0.1, 0, best_alpha, best_gamma)\n",
            "        ^\n",
            "\n",
            "  @jit(nogil=True, parallel=True)\n",
            "/usr/local/lib/python3.7/dist-packages/numba/core/object_mode_passes.py:178: NumbaWarning: Function \"run_sims\" was compiled in object mode without forceobj=True.\n",
            "\n",
            "File \"<ipython-input-26-1ee6162a7113>\", line 5:\n",
            "def run_sims(end=4):\n",
            "    for alpha in prange(int(end/0.1)):\n",
            "    ^\n",
            "\n",
            "  state.func_ir.loc))\n",
            "/usr/local/lib/python3.7/dist-packages/numba/core/object_mode_passes.py:188: NumbaDeprecationWarning: \n",
            "Fall-back from the nopython compilation path to the object mode compilation path has been detected, this is deprecated behaviour.\n",
            "\n",
            "For more information visit https://numba.pydata.org/numba-doc/latest/reference/deprecation.html#deprecation-of-object-mode-fall-back-behaviour-when-using-jit\n",
            "\n",
            "File \"<ipython-input-26-1ee6162a7113>\", line 5:\n",
            "def run_sims(end=4):\n",
            "    for alpha in prange(int(end/0.1)):\n",
            "    ^\n",
            "\n",
            "  state.func_ir.loc))\n",
            "<ipython-input-26-1ee6162a7113>:3: NumbaWarning: Code running in object mode won't allow parallel execution despite nogil=True.\n",
            "  @jit(nogil=True, parallel=True)\n"
          ]
        },
        {
          "output_type": "stream",
          "name": "stdout",
          "text": [
            "0\n",
            "0\n"
          ]
        }
      ]
    },
    {
      "cell_type": "code",
      "source": [
        "#Use 10-fold CV to tune the lenght of scale sigma and lambda for both above kernels. "
      ],
      "metadata": {
        "id": "wcJcW0KWVW-O"
      },
      "execution_count": null,
      "outputs": []
    },
    {
      "cell_type": "code",
      "source": [
        "#MSE of all 3 modesl "
      ],
      "metadata": {
        "id": "k53fRytRVd-6"
      },
      "execution_count": null,
      "outputs": []
    },
    {
      "cell_type": "code",
      "source": [
        "#Predict on new batch of wines "
      ],
      "metadata": {
        "id": "tu8vjbS0VhdW"
      },
      "execution_count": null,
      "outputs": []
    }
  ],
  "metadata": {
    "language_info": {
      "name": "python"
    },
    "orig_nbformat": 4,
    "colab": {
      "name": "HW3.ipynb",
      "provenance": []
    },
    "kernelspec": {
      "name": "python3",
      "display_name": "Python 3"
    }
  },
  "nbformat": 4,
  "nbformat_minor": 0
}