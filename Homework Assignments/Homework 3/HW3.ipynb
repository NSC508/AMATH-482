{
  "cells": [
    {
      "cell_type": "code",
      "execution_count": 48,
      "metadata": {
        "colab": {
          "base_uri": "https://localhost:8080/"
        },
        "id": "R2wz3XVwTitC",
        "outputId": "63753681-138a-4ac0-8a01-ef487889c397"
      },
      "outputs": [
        {
          "name": "stdout",
          "output_type": "stream",
          "text": [
            "16\n"
          ]
        }
      ],
      "source": [
        "import numpy as np\n",
        "import sklearn as skl\n",
        "from numpy import genfromtxt, matlib\n",
        "from sklearn import kernel_ridge\n",
        "import os\n",
        "from sklearn.model_selection import GridSearchCV\n",
        "print(len(os.sched_getaffinity(0)))"
      ]
    },
    {
      "cell_type": "code",
      "execution_count": 49,
      "metadata": {
        "colab": {
          "base_uri": "https://localhost:8080/"
        },
        "id": "C1XscqCHTitF",
        "outputId": "007a56d1-8410-4804-f489-5ac422b2219d"
      },
      "outputs": [
        {
          "name": "stdout",
          "output_type": "stream",
          "text": [
            "TRAIN SET\n",
            "[[ 6.1   0.6   0.08 ...  0.54 11.    5.  ]\n",
            " [10.3   0.53  0.48 ...  0.59  9.3   6.  ]\n",
            " [ 6.9   0.49  0.19 ...  0.64  9.8   6.  ]\n",
            " ...\n",
            " [ 7.    0.38  0.49 ...  0.77 11.4   6.  ]\n",
            " [10.    0.35  0.47 ...  0.52 12.    6.  ]\n",
            " [ 7.    0.6   0.3  ...  1.17 10.2   5.  ]]\n",
            "ALL BUT LAST\n",
            "[[ 6.1   0.6   0.08 ...  3.38  0.54 11.  ]\n",
            " [10.3   0.53  0.48 ...  3.12  0.59  9.3 ]\n",
            " [ 6.9   0.49  0.19 ...  3.38  0.64  9.8 ]\n",
            " ...\n",
            " [ 7.    0.38  0.49 ...  3.39  0.77 11.4 ]\n",
            " [10.    0.35  0.47 ...  3.23  0.52 12.  ]\n",
            " [ 7.    0.6   0.3  ...  3.3   1.17 10.2 ]]\n",
            "LAST\n",
            "[5. 6. 6. ... 6. 6. 5.]\n"
          ]
        }
      ],
      "source": [
        "path_to_train = '/home/sathvikc/AMATH-482-2/AMATH-482/Homework Assignments/Homework 3/wine_training.csv'\n",
        "path_to_test = '/home/sathvikc/AMATH-482-2/AMATH-482/Homework Assignments/Homework 3/wine_test.csv'\n",
        "\n",
        "train = genfromtxt(path_to_train, delimiter=',')\n",
        "test = genfromtxt(path_to_test, delimiter=',')\n",
        "\n",
        "print('TRAIN SET')\n",
        "print(train)\n",
        "print('ALL BUT LAST')\n",
        "print(train[:, :-1])\n",
        "print('LAST')\n",
        "print(train[:, -1])"
      ]
    },
    {
      "cell_type": "code",
      "execution_count": 50,
      "metadata": {
        "id": "L7_VdmNcdsWf"
      },
      "outputs": [],
      "source": [
        "X_train_N = train[:, :-1].shape[0]\n",
        "\n",
        "X_train_mean = np.mean(train[:, :-1], axis=0)\n",
        "X_train_std = np.std(train[:, :-1], axis=0)\n",
        "X_train_normal = (train[:, :-1] - matlib.repmat(X_train_mean, X_train_N, 1))/matlib.repmat(X_train_std, X_train_N, 1)\n",
        "\n",
        "Y_train_N = train[:, -1].shape[0]\n",
        "\n",
        "Y_train_mean = np.mean(train[:, -1], axis=0)\n",
        "Y_train_std = np.std(train[:, -1], axis=0)\n",
        "\n",
        "Y_train_normal = (train[:, -1] - Y_train_mean)/Y_train_std"
      ]
    },
    {
      "cell_type": "code",
      "execution_count": 51,
      "metadata": {
        "id": "XepIUrTFfpMU"
      },
      "outputs": [],
      "source": [
        "X_test_N = test[:, :-1].shape[0]\n",
        "\n",
        "# X_test_mean = np.mean(test[:, :-1], axis=0)\n",
        "# X_test_std = np.std(test[:, :-1], axis=0)\n",
        "\n",
        "X_test_normal = (test[:, :-1] - matlib.repmat(X_train_mean, X_test_N, 1))/matlib.repmat(X_train_std, X_test_N, 1)\n",
        "\n",
        "Y_test_N = test[:, -1].shape[0]\n",
        "\n",
        "# Y_test_mean = np.mean(test[:, -1], axis=0)\n",
        "# Y_test_std = np.std(test[:, -1], axis=0)\n",
        "\n",
        "Y_test_normal = (test[:, -1] - Y_train_mean)/Y_train_std"
      ]
    },
    {
      "cell_type": "code",
      "execution_count": 52,
      "metadata": {
        "colab": {
          "base_uri": "https://localhost:8080/"
        },
        "id": "3A6WfheDVC0f",
        "outputId": "eaf916db-04cf-4a58-80c0-aed28adc39a7"
      },
      "outputs": [
        {
          "name": "stdout",
          "output_type": "stream",
          "text": [
            "LINEAR REGRESSION TRAINING MSE: 0.6278484956554882\n",
            "LINEAR REGRESSION TEST MSE: 0.747169690518721\n"
          ]
        }
      ],
      "source": [
        "#Use linear regression to fit a linear model to the training set \n",
        "LinearRegressor = skl.linear_model.LinearRegression()\n",
        "LinearRegressor.fit(X_train_normal, Y_train_normal)\n",
        "predicted_train = LinearRegressor.predict(X_train_normal)\n",
        "print(f'LINEAR REGRESSION TRAINING MSE: {skl.metrics.mean_squared_error(predicted_train, Y_train_normal)}')\n",
        "predicted_test = LinearRegressor.predict(X_test_normal)\n",
        "print(f'LINEAR REGRESSION TEST MSE: {skl.metrics.mean_squared_error(predicted_test, Y_test_normal)}')"
      ]
    },
    {
      "cell_type": "code",
      "execution_count": 53,
      "metadata": {
        "id": "4nsy1hqHVM0M"
      },
      "outputs": [],
      "source": [
        "#Use kernel ridge regression to fit a non-linear model to the training set\n",
        "\n",
        "#Gaussian (RBF) Kernel \n",
        "RBFRegresor = kernel_ridge.KernelRidge(kernel = 'rbf')  \n",
        "\n",
        "#Laplacian kernel\n",
        "LaplacianRegresor = kernel_ridge.KernelRidge(kernel = 'laplacian')"
      ]
    },
    {
      "cell_type": "code",
      "execution_count": 63,
      "metadata": {
        "id": "DdUast08cz6u",
        "outputId": "bfaa2c67-17d0-4e3c-d029-823aedc7c936"
      },
      "outputs": [
        {
          "name": "stdout",
          "output_type": "stream",
          "text": [
            "{'alpha': 0.19842513149602492, 'gamma': 0.03645403248675365}\n"
          ]
        }
      ],
      "source": [
        "# range of values of sigma to try \n",
        "K_sgm = 10\n",
        "K_lmbd = 10\n",
        "\n",
        "sgm = np.linspace(1, 3, K_sgm)\n",
        "lmbd = np.linspace(-3, -1, K_lmbd)\n",
        "\n",
        "#RBF \n",
        "cv = GridSearchCV(RBFRegresor, param_grid = {\n",
        "    'alpha': 2 ** lmbd,\n",
        "    'gamma': 1 / (2*(2**sgm)**2)\n",
        "    }, cv = 10, scoring= 'neg_mean_squared_error', n_jobs = -1)\n",
        "\n",
        "cv.fit(X_train_normal, Y_train_normal)\n",
        "print(cv.best_params_)"
      ]
    },
    {
      "cell_type": "code",
      "execution_count": 64,
      "metadata": {
        "id": "_2PqXGxocz6v",
        "outputId": "cf177e3b-2618-481c-b88b-d49983498c10"
      },
      "outputs": [
        {
          "name": "stdout",
          "output_type": "stream",
          "text": [
            "0.19842513149602492\n",
            "0.03645403248675365\n"
          ]
        }
      ],
      "source": [
        "best_alpha_rbf = cv.best_params_['alpha']\n",
        "best_gamma_rbf = cv.best_params_['gamma']\n",
        "print(best_alpha_rbf)\n",
        "print(best_gamma_rbf)"
      ]
    },
    {
      "cell_type": "code",
      "execution_count": 56,
      "metadata": {},
      "outputs": [],
      "source": [
        "# # range of values of sigma to try \n",
        "\n",
        "\n",
        "# K_sgm = 10\n",
        "# K_lmbd = 10\n",
        "\n",
        "# sgm = np.linspace(1, 3, K_sgm)\n",
        "# lmbd = np.linspace(-3, -1, K_lmbd)\n",
        "\n",
        "# scores = np.zeros((K_sgm, K_lmbd))\n",
        "# scores_std = np.zeros((K_sgm, K_lmbd))\n",
        "\n",
        "# KRR_CV = skl.kernel_ridge.KernelRidge(kernel='rbf')\n",
        "\n",
        "# for i in range(K_sgm):\n",
        "\n",
        "#   KRR_CV.gamma = 1/(2*(2**sgm[i])**2)\n",
        "\n",
        "#   for j in range(K_lmbd): \n",
        "\n",
        "#     KRR_CV.alpha = (2**lmbd[j])\n",
        "#     this_score = skl.model_selection.cross_val_score(KRR_CV, X_train_normal, Y_train_normal, scoring= 'neg_mean_squared_error', cv = 10)\n",
        "\n",
        "#     scores[i,j] = (np.mean(this_score))\n",
        "#     scores_std[i,j] = (np.std(this_score))\n",
        "\n",
        "# print(scores)\n",
        "\n",
        "# ij_max = np.array( np.where( scores == scores.max() ), dtype=int).flatten()\n",
        "\n",
        "# print(ij_max)\n",
        "\n",
        "# print(scores.max())\n",
        "\n",
        "# print('log_2 sg:', sgm[ij_max[0]], 'log_2_lmbd: ', lmbd[ij_max[1]])\n",
        "# print('alpha: ', 2**lmbd[ij_max[1]])\n",
        "# print('gamma: ', 1/(2*(2**sgm[ij_max[0]])**2))\n",
        "# best_alpha_rbf = 2**lmbd[ij_max[1]]\n",
        "# best_gamma_rbf = 1/(2*(2**sgm[ij_max[0]])**2)"
      ]
    },
    {
      "cell_type": "code",
      "execution_count": 57,
      "metadata": {
        "id": "I2fv3WEkcz6v",
        "outputId": "cd4d45c6-87bc-4c85-abb0-4b04834d9782"
      },
      "outputs": [
        {
          "data": {
            "text/plain": [
              "GridSearchCV(cv=5, estimator=KernelRidge(kernel='laplacian'), n_jobs=-1,\n",
              "             param_grid={'alpha': array([ 0.0625    ,  0.11573434,  0.214311  ,  0.39685026,  0.73486725,\n",
              "        1.36079   ,  2.5198421 ,  4.66611616,  8.64047791, 16.        ]),\n",
              "                         'gamma': array([16.        ,  8.64047791,  4.66611616,  2.5198421 ,  1.36079   ,\n",
              "        0.73486725,  0.39685026,  0.214311  ,  0.11573434,  0.0625    ])},\n",
              "             scoring='neg_mean_squared_error')"
            ]
          },
          "execution_count": 57,
          "metadata": {},
          "output_type": "execute_result"
        }
      ],
      "source": [
        "# range of values of sigma to try \n",
        "K_sgm = 10\n",
        "K_lmbd = 10\n",
        "\n",
        "sgm = np.linspace(-4, 4, K_sgm)\n",
        "lmbd = np.linspace(-4, 4, K_lmbd)\n",
        "\n",
        "#Laplacian\n",
        "cv = GridSearchCV(LaplacianRegresor, param_grid = {\n",
        "    'alpha': 2 ** lmbd,\n",
        "    'gamma': 1 / (2 ** (sgm))\n",
        "    }, cv = 5, scoring= 'neg_mean_squared_error', n_jobs=-1)\n",
        "\n",
        "cv.fit(X_train_normal, Y_train_normal)"
      ]
    },
    {
      "cell_type": "code",
      "execution_count": 58,
      "metadata": {
        "id": "hx1YpnTPcz6w",
        "outputId": "44653070-0be9-49a4-e537-b77e495ea3df"
      },
      "outputs": [
        {
          "name": "stdout",
          "output_type": "stream",
          "text": [
            "0.2143109957132682\n",
            "0.21431099571326834\n"
          ]
        }
      ],
      "source": [
        "best_alpha_laplacian = cv.best_params_['alpha']\n",
        "best_gamma_laplacian = cv.best_params_['gamma']\n",
        "print(best_alpha_laplacian)\n",
        "print(best_gamma_laplacian)"
      ]
    },
    {
      "cell_type": "code",
      "execution_count": 59,
      "metadata": {},
      "outputs": [],
      "source": [
        "# range of values of sigma to try \n",
        "\n",
        "\n",
        "# K_sgm = 10\n",
        "# K_lmbd = 10\n",
        "\n",
        "# sgm = np.linspace(0, 4, K_sgm)\n",
        "# lmbd = np.linspace(-3, 1, K_lmbd)\n",
        "\n",
        "# scores = np.zeros((K_sgm, K_lmbd))\n",
        "# scores_std = np.zeros((K_sgm, K_lmbd))\n",
        "\n",
        "# KRR_CV = skl.kernel_ridge.KernelRidge(kernel = 'laplacian')\n",
        "\n",
        "# for i in range(K_sgm):\n",
        "\n",
        "#   KRR_CV.gamma = 1 / (2 ** (sgm[i]))\n",
        "\n",
        "#   for j in range(K_lmbd): \n",
        "\n",
        "#     KRR_CV.alpha = (2**lmbd[j])\n",
        "#     this_score = skl.model_selection.cross_val_score(KRR_CV, X_train_normal, Y_train_normal, scoring= 'neg_mean_squared_error', cv = 10)\n",
        "\n",
        "#     scores[i,j] = (np.mean(this_score))\n",
        "#     scores_std[i,j] = (np.std(this_score))\n",
        "\n",
        "# print(scores)\n",
        "\n",
        "# ij_max = np.array( np.where( scores == scores.max() ), dtype=int).flatten()\n",
        "\n",
        "# print(ij_max)\n",
        "\n",
        "# print(scores.max())\n",
        "\n",
        "# print('log_2 sg:', sgm[ij_max[0]], 'log_2_lmbd: ', lmbd[ij_max[1]])\n",
        "# print('alpha: ', 2**lmbd[ij_max[1]])\n",
        "# print('gamma: ', 1/(2**sgm[ij_max[0]]))\n",
        "# best_alpha_laplacian = 2**lmbd[ij_max[1]]\n",
        "# best_gamma_laplacian = 1/(2*(2**sgm[ij_max[0]])**2)"
      ]
    },
    {
      "cell_type": "code",
      "execution_count": 60,
      "metadata": {
        "colab": {
          "base_uri": "https://localhost:8080/"
        },
        "id": "mmZivV-GTXIM",
        "outputId": "7b692a12-4a38-4b55-d461-67134b6125cd"
      },
      "outputs": [
        {
          "name": "stdout",
          "output_type": "stream",
          "text": [
            "LINEAR REGRESSION TRAINING MSE: 0.6278484956554882\n",
            "LINEAR REGRESSION TEST MSE: 0.747169690518721\n",
            "GAUSSIAN KERNEL TRAINING MSE: 0.4443644835200732\n",
            "GAUSSIAN KERNEL TEST MSE: 0.6707146529560462\n",
            "LAPLACIAN KERNEL TRAINING MSE: 0.058153392810602604\n",
            "LAPLACIAN KERNEL TEST MSE: 0.6095835762585938\n"
          ]
        }
      ],
      "source": [
        "#MSE of all 3 models\n",
        "\n",
        "#Linear Regression\n",
        "print(f'LINEAR REGRESSION TRAINING MSE: {skl.metrics.mean_squared_error(predicted_train, Y_train_normal)}')\n",
        "print(f'LINEAR REGRESSION TEST MSE: {skl.metrics.mean_squared_error(predicted_test, Y_test_normal)}')\n",
        "\n",
        "#RBF\n",
        "RBFRegresor = kernel_ridge.KernelRidge(alpha = best_alpha_rbf, kernel = 'rbf', gamma = best_gamma_rbf)\n",
        "RBFRegresor.fit(X_train_normal, Y_train_normal)\n",
        "predicted_train = RBFRegresor.predict(X_train_normal)\n",
        "print(f'GAUSSIAN KERNEL TRAINING MSE: {skl.metrics.mean_squared_error(predicted_train, Y_train_normal)}')\n",
        "predicted_test = RBFRegresor.predict(X_test_normal)\n",
        "print(f'GAUSSIAN KERNEL TEST MSE: {skl.metrics.mean_squared_error(predicted_test, Y_test_normal)}')\n",
        "\n",
        "#Laplacian\n",
        "LaplacianRegresor = kernel_ridge.KernelRidge(alpha = best_alpha_laplacian, kernel = 'laplacian', gamma = best_gamma_laplacian)\n",
        "LaplacianRegresor.fit(X_train_normal, Y_train_normal)\n",
        "predicted_train = LaplacianRegresor.predict(X_train_normal)\n",
        "print(f'LAPLACIAN KERNEL TRAINING MSE: {skl.metrics.mean_squared_error(predicted_train, Y_train_normal)}')\n",
        "predicted_test = LaplacianRegresor.predict(X_test_normal)\n",
        "print(f'LAPLACIAN KERNEL TEST MSE: {skl.metrics.mean_squared_error(predicted_test, Y_test_normal)}')"
      ]
    },
    {
      "cell_type": "code",
      "execution_count": 61,
      "metadata": {},
      "outputs": [],
      "source": [
        "#Predict on new batch of wines \n",
        "path_to_new_wine = '/home/sathvikc/AMATH-482-2/AMATH-482/Homework Assignments/Homework 3/wine_new_batch.csv'\n",
        "new_wine = genfromtxt(path_to_new_wine, delimiter=',')\n",
        "\n",
        "X_new_wine_N = new_wine.shape[0]\n",
        "\n",
        "# X_new_wine_mean = np.mean(new_wine, axis=0)\n",
        "# X_new_wine_std = np.std(new_wine, axis=0)\n",
        "\n",
        "X_new_wine_normal = (new_wine - matlib.repmat(X_train_mean, X_new_wine_N, 1))/matlib.repmat(X_train_std, X_new_wine_N, 1)"
      ]
    },
    {
      "cell_type": "code",
      "execution_count": 62,
      "metadata": {
        "id": "tu8vjbS0VhdW",
        "outputId": "87d1caee-e65d-47ed-c83c-7afd07339474"
      },
      "outputs": [
        {
          "name": "stdout",
          "output_type": "stream",
          "text": [
            "LINEAR PREDICTION: [6.00469789 5.28767761 5.56363072 6.067022   5.94248207]\n",
            "RBF PREDICTION: [6.02506681 5.45131357 5.42488008 6.18782517 6.1157892 ]\n",
            "LAPLACIAN PREDICTION: [6.06872311 5.45686107 5.63144745 6.00113834 6.03145372]\n"
          ]
        }
      ],
      "source": [
        "#Linear Regression \n",
        "linear_predict = LinearRegressor.predict(X_new_wine_normal)\n",
        "\n",
        "#RBF\n",
        "rbf_predict = RBFRegresor.predict(X_new_wine_normal)\n",
        "\n",
        "#Laplacian\n",
        "laplacian_predict = LaplacianRegresor.predict(X_new_wine_normal)\n",
        "\n",
        "#De-normalize the predictions\n",
        "linear_predict = (linear_predict * Y_train_std) + Y_train_mean\n",
        "rbf_predict = (rbf_predict * Y_train_std) + Y_train_mean\n",
        "laplacian_predict = (laplacian_predict * Y_train_std) + Y_train_mean\n",
        "\n",
        "#print the predictions \n",
        "print(f'LINEAR PREDICTION: {linear_predict}')\n",
        "print(f'RBF PREDICTION: {rbf_predict}')\n",
        "print(f'LAPLACIAN PREDICTION: {laplacian_predict}')"
      ]
    }
  ],
  "metadata": {
    "colab": {
      "name": "HW3.ipynb",
      "provenance": []
    },
    "kernelspec": {
      "display_name": "Python 3",
      "name": "python3"
    },
    "language_info": {
      "codemirror_mode": {
        "name": "ipython",
        "version": 3
      },
      "file_extension": ".py",
      "mimetype": "text/x-python",
      "name": "python",
      "nbconvert_exporter": "python",
      "pygments_lexer": "ipython3",
      "version": "3.9.7"
    },
    "orig_nbformat": 4
  },
  "nbformat": 4,
  "nbformat_minor": 0
}
