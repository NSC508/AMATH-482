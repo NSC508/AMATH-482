{
 "cells": [
  {
   "cell_type": "code",
   "execution_count": 2,
   "metadata": {},
   "outputs": [],
   "source": [
    "import numpy as np \n",
    "import matplotlib.pyplot as plt\n",
    "import sklearn\n",
    "from numpy import genfromtxt"
   ]
  },
  {
   "cell_type": "code",
   "execution_count": 5,
   "metadata": {},
   "outputs": [],
   "source": [
    "training_data = genfromtxt('/Users/sachinta/GitProjects/AMATH-482/Homework Assignments/Homework 3/wine_training.csv', delimiter=',')\n",
    "testing_data = genfromtxt('/Users/sachinta/GitProjects/AMATH-482/Homework Assignments/Homework 3/wine_test.csv', delimiter=',')"
   ]
  },
  {
   "cell_type": "code",
   "execution_count": 7,
   "metadata": {},
   "outputs": [
    {
     "name": "stdout",
     "output_type": "stream",
     "text": [
      "[[ 6.1   0.6   0.08 ...  0.54 11.    5.  ]\n",
      " [10.3   0.53  0.48 ...  0.59  9.3   6.  ]\n",
      " [ 6.9   0.49  0.19 ...  0.64  9.8   6.  ]\n",
      " ...\n",
      " [ 7.    0.38  0.49 ...  0.77 11.4   6.  ]\n",
      " [10.    0.35  0.47 ...  0.52 12.    6.  ]\n",
      " [ 7.    0.6   0.3  ...  1.17 10.2   5.  ]]\n",
      "[[ 7.6    0.735  0.02  ...  0.71  11.7    7.   ]\n",
      " [ 6.6    0.88   0.04  ...  0.56   9.9    5.   ]\n",
      " [ 8.     0.3    0.63  ...  0.78  10.8    6.   ]\n",
      " ...\n",
      " [ 8.3    0.66   0.15  ...  0.54   9.6    6.   ]\n",
      " [ 7.7    0.39   0.12  ...  0.49   9.4    5.   ]\n",
      " [12.4    0.4    0.51  ...  0.6    9.3    6.   ]]\n"
     ]
    }
   ],
   "source": [
    "print(training_data)\n",
    "print(testing_data)"
   ]
  }
 ],
 "metadata": {
  "interpreter": {
   "hash": "aee8b7b246df8f9039afb4144a1f6fd8d2ca17a180786b69acc140d282b71a49"
  },
  "kernelspec": {
   "display_name": "Python 3.10.0 64-bit",
   "language": "python",
   "name": "python3"
  },
  "language_info": {
   "codemirror_mode": {
    "name": "ipython",
    "version": 3
   },
   "file_extension": ".py",
   "mimetype": "text/x-python",
   "name": "python",
   "nbconvert_exporter": "python",
   "pygments_lexer": "ipython3",
   "version": "3.10.0"
  },
  "orig_nbformat": 4
 },
 "nbformat": 4,
 "nbformat_minor": 2
}
