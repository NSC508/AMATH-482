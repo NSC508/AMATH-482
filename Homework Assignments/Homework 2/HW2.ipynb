{
 "cells": [
  {
   "cell_type": "code",
<<<<<<< HEAD
   "execution_count": 228,
=======
   "execution_count": 1,
>>>>>>> 713ecd6ed62148b2c1b707018dd140cb2c964a2a
   "metadata": {},
   "outputs": [
    {
     "name": "stdout",
     "output_type": "stream",
     "text": [
<<<<<<< HEAD
      "Requirement already satisfied: pip in /Library/Frameworks/Python.framework/Versions/3.10/lib/python3.10/site-packages (22.0.3)\n",
      "Requirement already satisfied: sklearn in /Library/Frameworks/Python.framework/Versions/3.10/lib/python3.10/site-packages (0.0)\n",
      "Requirement already satisfied: scikit-learn in /Library/Frameworks/Python.framework/Versions/3.10/lib/python3.10/site-packages (from sklearn) (1.0.2)\n",
      "Requirement already satisfied: joblib>=0.11 in /Library/Frameworks/Python.framework/Versions/3.10/lib/python3.10/site-packages (from scikit-learn->sklearn) (1.1.0)\n",
      "Requirement already satisfied: scipy>=1.1.0 in /Library/Frameworks/Python.framework/Versions/3.10/lib/python3.10/site-packages (from scikit-learn->sklearn) (1.8.0)\n",
      "Requirement already satisfied: numpy>=1.14.6 in /Library/Frameworks/Python.framework/Versions/3.10/lib/python3.10/site-packages (from scikit-learn->sklearn) (1.22.2)\n",
      "Requirement already satisfied: threadpoolctl>=2.0.0 in /Library/Frameworks/Python.framework/Versions/3.10/lib/python3.10/site-packages (from scikit-learn->sklearn) (3.1.0)\n",
      "Requirement already satisfied: numpy in /Library/Frameworks/Python.framework/Versions/3.10/lib/python3.10/site-packages (1.22.2)\n",
      "Requirement already satisfied: matplotlib in /Library/Frameworks/Python.framework/Versions/3.10/lib/python3.10/site-packages (3.5.1)\n",
      "Requirement already satisfied: pillow>=6.2.0 in /Library/Frameworks/Python.framework/Versions/3.10/lib/python3.10/site-packages (from matplotlib) (9.0.1)\n",
      "Requirement already satisfied: cycler>=0.10 in /Library/Frameworks/Python.framework/Versions/3.10/lib/python3.10/site-packages (from matplotlib) (0.11.0)\n",
      "Requirement already satisfied: pyparsing>=2.2.1 in /Library/Frameworks/Python.framework/Versions/3.10/lib/python3.10/site-packages (from matplotlib) (3.0.7)\n",
      "Requirement already satisfied: numpy>=1.17 in /Library/Frameworks/Python.framework/Versions/3.10/lib/python3.10/site-packages (from matplotlib) (1.22.2)\n",
      "Requirement already satisfied: python-dateutil>=2.7 in /Library/Frameworks/Python.framework/Versions/3.10/lib/python3.10/site-packages (from matplotlib) (2.8.2)\n",
      "Requirement already satisfied: fonttools>=4.22.0 in /Library/Frameworks/Python.framework/Versions/3.10/lib/python3.10/site-packages (from matplotlib) (4.29.1)\n",
      "Requirement already satisfied: kiwisolver>=1.0.1 in /Library/Frameworks/Python.framework/Versions/3.10/lib/python3.10/site-packages (from matplotlib) (1.3.2)\n",
      "Requirement already satisfied: packaging>=20.0 in /Library/Frameworks/Python.framework/Versions/3.10/lib/python3.10/site-packages (from matplotlib) (21.3)\n",
      "Requirement already satisfied: six>=1.5 in /Library/Frameworks/Python.framework/Versions/3.10/lib/python3.10/site-packages (from python-dateutil>=2.7->matplotlib) (1.16.0)\n"
=======
      "Defaulting to user installation because normal site-packages is not writeable\n",
      "Requirement already satisfied: pip in /home/sathvikc/.local/lib/python3.9/site-packages (22.0.3)\n",
      "Defaulting to user installation because normal site-packages is not writeable\n",
      "Requirement already satisfied: sklearn in /home/sathvikc/.local/lib/python3.9/site-packages (0.0)\n",
      "Requirement already satisfied: scikit-learn in /home/sathvikc/.local/lib/python3.9/site-packages (from sklearn) (1.0.2)\n",
      "Requirement already satisfied: scipy>=1.1.0 in /home/sathvikc/.local/lib/python3.9/site-packages (from scikit-learn->sklearn) (1.7.3)\n",
      "Requirement already satisfied: numpy>=1.14.6 in /usr/local/lib/python3.9/site-packages (from scikit-learn->sklearn) (1.22.0)\n",
      "Requirement already satisfied: joblib>=0.11 in /home/sathvikc/.local/lib/python3.9/site-packages (from scikit-learn->sklearn) (1.1.0)\n",
      "Requirement already satisfied: threadpoolctl>=2.0.0 in /home/sathvikc/.local/lib/python3.9/site-packages (from scikit-learn->sklearn) (3.1.0)\n",
      "Defaulting to user installation because normal site-packages is not writeable\n",
      "Requirement already satisfied: numpy in /usr/local/lib/python3.9/site-packages (1.22.0)\n",
      "Defaulting to user installation because normal site-packages is not writeable\n",
      "Requirement already satisfied: matplotlib in /home/sathvikc/.local/lib/python3.9/site-packages (3.5.1)\n",
      "Requirement already satisfied: numpy>=1.17 in /usr/local/lib/python3.9/site-packages (from matplotlib) (1.22.0)\n",
      "Requirement already satisfied: pillow>=6.2.0 in /home/sathvikc/.local/lib/python3.9/site-packages (from matplotlib) (9.0.0)\n",
      "Requirement already satisfied: pyparsing>=2.2.1 in /home/sathvikc/.local/lib/python3.9/site-packages (from matplotlib) (3.0.6)\n",
      "Requirement already satisfied: cycler>=0.10 in /home/sathvikc/.local/lib/python3.9/site-packages (from matplotlib) (0.11.0)\n",
      "Requirement already satisfied: fonttools>=4.22.0 in /home/sathvikc/.local/lib/python3.9/site-packages (from matplotlib) (4.28.5)\n",
      "Requirement already satisfied: python-dateutil>=2.7 in /home/sathvikc/.local/lib/python3.9/site-packages (from matplotlib) (2.8.2)\n",
      "Requirement already satisfied: packaging>=20.0 in /home/sathvikc/.local/lib/python3.9/site-packages (from matplotlib) (21.3)\n",
      "Requirement already satisfied: kiwisolver>=1.0.1 in /home/sathvikc/.local/lib/python3.9/site-packages (from matplotlib) (1.3.2)\n",
      "Requirement already satisfied: six>=1.5 in /home/sathvikc/.local/lib/python3.9/site-packages (from python-dateutil>=2.7->matplotlib) (1.16.0)\n"
>>>>>>> 713ecd6ed62148b2c1b707018dd140cb2c964a2a
     ]
    }
   ],
   "source": [
    "!pip3 install --upgrade pip\n",
    "!pip3 install sklearn\n",
    "!pip3 install numpy\n",
    "!pip3 install matplotlib"
   ]
  },
  {
   "cell_type": "code",
<<<<<<< HEAD
   "execution_count": 229,
=======
   "execution_count": 2,
>>>>>>> 713ecd6ed62148b2c1b707018dd140cb2c964a2a
   "metadata": {},
   "outputs": [],
   "source": [
    "import numpy as np \n",
    "import matplotlib.pyplot as plt\n",
    "from sklearn import decomposition, linear_model, metrics"
   ]
  },
  {
   "cell_type": "code",
<<<<<<< HEAD
   "execution_count": 230,
=======
   "execution_count": 3,
>>>>>>> 713ecd6ed62148b2c1b707018dd140cb2c964a2a
   "metadata": {},
   "outputs": [
    {
     "name": "stdout",
     "output_type": "stream",
     "text": [
      "(2000, 256)\n",
      "(2000,)\n",
      "(500, 256)\n",
      "(500,)\n"
     ]
    }
   ],
   "source": [
    "path_to_train = './MNIST_training_set.npy'\n",
    "path_to_test = './MNIST_test_set.npy'\n",
    "\n",
    "d_train = np.load(path_to_train, allow_pickle=True)\n",
    "d_test = np.load(path_to_test, allow_pickle=True)\n",
    "X_train = d_train.item().get('features')\n",
    "Y_train = d_train.item().get('labels')\n",
    "\n",
    "print(X_train.shape)\n",
    "print(Y_train.shape)\n",
    "\n",
    "X_test = d_test.item().get('features')\n",
    "Y_test = d_test.item().get('labels')\n",
    "\n",
    "print(X_test.shape)\n",
    "print(Y_test.shape)"
   ]
  },
  {
   "cell_type": "code",
<<<<<<< HEAD
   "execution_count": 231,
=======
   "execution_count": 4,
>>>>>>> 713ecd6ed62148b2c1b707018dd140cb2c964a2a
   "metadata": {},
   "outputs": [
    {
     "data": {
      "text/plain": [
       "PCA()"
      ]
     },
<<<<<<< HEAD
     "execution_count": 231,
=======
     "execution_count": 4,
>>>>>>> 713ecd6ed62148b2c1b707018dd140cb2c964a2a
     "metadata": {},
     "output_type": "execute_result"
    }
   ],
   "source": [
    "pca = decomposition.PCA()\n",
    "pca.fit(X_train)"
   ]
  },
  {
   "cell_type": "code",
<<<<<<< HEAD
   "execution_count": 232,
=======
   "execution_count": 5,
>>>>>>> 713ecd6ed62148b2c1b707018dd140cb2c964a2a
   "metadata": {},
   "outputs": [
    {
     "data": {
<<<<<<< HEAD
      "text/plain": [
       "[<matplotlib.lines.Line2D at 0x139aa6860>]"
      ]
     },
     "execution_count": 232,
     "metadata": {},
     "output_type": "execute_result"
    },
    {
     "data": {
      "image/png": "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",
=======
      "image/png": "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",
>>>>>>> 713ecd6ed62148b2c1b707018dd140cb2c964a2a
      "text/plain": [
       "<Figure size 432x288 with 1 Axes>"
      ]
     },
     "metadata": {
      "needs_background": "light"
     },
     "output_type": "display_data"
    }
   ],
   "source": [
    "fig, ax = plt.subplots()\n",
    "ax.plot(pca.singular_values_)\n",
    "ax.set_xlabel('Singular Value')\n",
    "ax.set_ylabel('Fraction of Total Variance')\n",
    "ax.set_title('PCA Singular Values')\n",
    "fig.savefig('PCA Singular Values.pdf')"
   ]
  },
  {
   "cell_type": "code",
<<<<<<< HEAD
   "execution_count": 233,
=======
   "execution_count": 6,
>>>>>>> 713ecd6ed62148b2c1b707018dd140cb2c964a2a
   "metadata": {},
   "outputs": [
    {
     "data": {
<<<<<<< HEAD
      "text/plain": [
       "[<matplotlib.lines.Line2D at 0x139680fa0>]"
      ]
     },
     "execution_count": 233,
     "metadata": {},
     "output_type": "execute_result"
    },
    {
     "data": {
      "image/png": "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",
=======
      "image/png": "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",
>>>>>>> 713ecd6ed62148b2c1b707018dd140cb2c964a2a
      "text/plain": [
       "<Figure size 432x288 with 1 Axes>"
      ]
     },
     "metadata": {
      "needs_background": "light"
     },
     "output_type": "display_data"
    }
   ],
   "source": [
    "fig, ax = plt.subplots()\n",
    "ax.plot(np.cumsum(pca.singular_values_) / np.cumsum(pca.singular_values_)[-1])\n",
    "ax.set_xlabel('Principal Component')\n",
    "ax.set_ylabel('Cumulative Fraction of Total Variance')\n",
    "ax.set_title('PCA Cumulative Fraction of Total Variance')\n",
    "fig.savefig('PCA Cumulative Fraction of Total Variance.pdf')"
   ]
  },
  {
   "cell_type": "code",
<<<<<<< HEAD
   "execution_count": 234,
=======
   "execution_count": 7,
>>>>>>> 713ecd6ed62148b2c1b707018dd140cb2c964a2a
   "metadata": {},
   "outputs": [
    {
     "data": {
      "image/png": "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",
      "text/plain": [
       "<Figure size 576x576 with 16 Axes>"
      ]
     },
     "metadata": {
      "needs_background": "light"
     },
     "output_type": "display_data"
    }
   ],
   "source": [
    "def plot_digits(XX, N, title):\n",
    "    \"\"\"Small helper function to plot N**2 digits.\"\"\"\n",
    "    fig, ax = plt.subplots(N, N, figsize=(8, 8))\n",
    "    for i in range(N):\n",
    "      for j in range(N):\n",
    "        ax[i,j].imshow(XX[(N)*i+j,:].reshape((16, 16)), cmap=\"Greys\")\n",
    "        ax[i,j].axis(\"off\")\n",
    "    fig.suptitle(title, fontsize=24)\n",
    "    fig.savefig(title + '.pdf')\n",
    "\n",
    "plot_digits(pca.components_, 4, \"Reconstructed 16 Training Features\" )"
   ]
  },
  {
   "cell_type": "code",
<<<<<<< HEAD
   "execution_count": 235,
=======
   "execution_count": 8,
>>>>>>> 713ecd6ed62148b2c1b707018dd140cb2c964a2a
   "metadata": {},
   "outputs": [
    {
     "name": "stdout",
     "output_type": "stream",
     "text": [
      "3\n",
      "7\n",
      "14\n"
     ]
    }
   ],
   "source": [
    "def approximate_at_percent(percent):\n",
    "    pca = decomposition.PCA(percent ** 2)\n",
    "    pca.fit(X_train)\n",
    "    components = pca.components_\n",
    "    return components.shape[0]\n",
    "\n",
    "\n",
    "print(approximate_at_percent(0.6))\n",
    "print(approximate_at_percent(0.8))\n",
    "print(approximate_at_percent(0.9))"
   ]
  },
  {
   "cell_type": "code",
<<<<<<< HEAD
   "execution_count": 236,
=======
   "execution_count": 9,
>>>>>>> 713ecd6ed62148b2c1b707018dd140cb2c964a2a
   "metadata": {},
   "outputs": [],
   "source": [
    "# nums = []\n",
    "# for i in np.arange(0.01, 1, 0.01):\n",
    "#     approx = approximate_at_percent(i)\n",
    "#     nums.append(approx)"
   ]
  },
  {
   "cell_type": "code",
<<<<<<< HEAD
   "execution_count": 237,
=======
   "execution_count": 10,
>>>>>>> 713ecd6ed62148b2c1b707018dd140cb2c964a2a
   "metadata": {},
   "outputs": [],
   "source": [
    "# fig, ax = plt.subplots()\n",
    "# ax.plot(nums, np.arange(0.01, 1, 0.01))\n",
    "\n",
    "# fig.savefig('pca_plot.png')"
   ]
  },
  {
   "cell_type": "code",
<<<<<<< HEAD
   "execution_count": 238,
=======
   "execution_count": 11,
>>>>>>> 713ecd6ed62148b2c1b707018dd140cb2c964a2a
   "metadata": {},
   "outputs": [],
   "source": [
    "def extract_feature_for_given_ints(ints, x_data, y_data):\n",
    "    X = []\n",
    "    Y = []\n",
    "    for i, value in enumerate(y_data):\n",
    "        if value in ints:\n",
    "            X.append(x_data[i])\n",
    "            Y.append(value)\n",
    "    return X, Y"
   ]
  },
  {
   "cell_type": "code",
<<<<<<< HEAD
   "execution_count": 239,
=======
   "execution_count": 12,
>>>>>>> 713ecd6ed62148b2c1b707018dd140cb2c964a2a
   "metadata": {},
   "outputs": [],
   "source": [
    "ints = {1, 8}\n",
    "X_train_18, Y_train_18 = extract_feature_for_given_ints(ints, X_train, Y_train)\n",
    "X_test_18, Y_test_18 = extract_feature_for_given_ints(ints, X_test, Y_test)"
   ]
  },
  {
   "cell_type": "code",
<<<<<<< HEAD
   "execution_count": 240,
=======
   "execution_count": 13,
>>>>>>> 713ecd6ed62148b2c1b707018dd140cb2c964a2a
   "metadata": {},
   "outputs": [],
   "source": [
    "def map_18_to_neg_1_pos_1(labels):\n",
    "    new_labels = []\n",
    "    for value in labels:\n",
    "        if value == 8: \n",
    "            new_labels.append(1)\n",
    "        else: \n",
    "            new_labels.append(-1)\n",
    "    return new_labels\n",
    "\n",
    "Y_train_18 = map_18_to_neg_1_pos_1(Y_train_18)\n",
    "Y_test_18 = map_18_to_neg_1_pos_1(Y_test_18)"
   ]
  },
  {
   "cell_type": "code",
<<<<<<< HEAD
   "execution_count": 241,
=======
   "execution_count": 14,
>>>>>>> 713ecd6ed62148b2c1b707018dd140cb2c964a2a
   "metadata": {},
   "outputs": [],
   "source": [
    "pca_first_16 = decomposition.PCA(n_components=16)\n",
    "pca_first_16.fit(X_train)\n",
    "A_train = pca_first_16.transform(X_train_18)"
   ]
  },
  {
   "cell_type": "code",
<<<<<<< HEAD
   "execution_count": 242,
   "metadata": {},
   "outputs": [
    {
     "data": {
      "text/plain": [
       "0.07459628159809692"
      ]
     },
     "execution_count": 242,
     "metadata": {},
     "output_type": "execute_result"
=======
   "execution_count": 20,
   "metadata": {},
   "outputs": [
    {
     "name": "stdout",
     "output_type": "stream",
     "text": [
      "0.0745963381938405\n",
      "0.08347453537941685\n"
     ]
>>>>>>> 713ecd6ed62148b2c1b707018dd140cb2c964a2a
    }
   ],
   "source": [
    "clf = linear_model.Ridge(0.1)\n",
    "clf.fit(A_train, Y_train_18)\n",
    "pred = clf.predict(A_train)\n",
    "#Get MSE\n",
    "print(metrics.mean_squared_error(pred, Y_train_18))\n",
    "A_test = pca_first_16.transform(X_test_18)\n",
    "pred = clf.predict(A_test)\n",
    "print(metrics.mean_squared_error(pred, Y_test_18))"
   ]
  },
  {
   "cell_type": "code",
<<<<<<< HEAD
   "execution_count": 243,
   "metadata": {},
   "outputs": [
    {
     "data": {
      "text/plain": [
       "0.08347345081283623"
      ]
     },
     "execution_count": 243,
     "metadata": {},
     "output_type": "execute_result"
    }
   ],
=======
   "execution_count": 16,
   "metadata": {},
   "outputs": [],
>>>>>>> 713ecd6ed62148b2c1b707018dd140cb2c964a2a
   "source": [
    "A_test = pca_first_16.transform(X_test_18)\n",
    "pred = clf.predict(A_test)\n",
    "#Get MSE\n",
    "metrics.mean_squared_error(pred, Y_test_18)"
   ]
  },
  {
   "cell_type": "code",
   "execution_count": 244,
   "metadata": {},
   "outputs": [],
   "source": [
    "min_value = np.inf\n",
    "min_alpha = 0\n",
    "error_vals = []\n",
    "for i in np.arange(0.01, 10, 0.001):\n",
    "    clf = linear_model.Ridge(i)\n",
    "    clf.fit(A_train, Y_train_18)\n",
    "    pred = clf.predict(A_train)\n",
    "    #Get MSE\n",
    "    mse = metrics.mean_squared_error(pred, Y_train_18)\n",
    "    error_vals.append(mse)\n",
    "    if mse < min_value: \n",
    "        min_value = mse\n",
    "        min_alpha = i"
   ]
  },
  {
   "cell_type": "code",
<<<<<<< HEAD
   "execution_count": 245,
   "metadata": {},
   "outputs": [
    {
     "data": {
      "text/plain": [
       "[<matplotlib.lines.Line2D at 0x139a86470>]"
      ]
     },
     "execution_count": 245,
     "metadata": {},
     "output_type": "execute_result"
    },
    {
     "data": {
      "image/png": "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",
      "text/plain": [
       "<Figure size 432x288 with 1 Axes>"
      ]
     },
     "metadata": {
      "needs_background": "light"
     },
     "output_type": "display_data"
    }
   ],
   "source": [
    "fig, ax = plt.subplots()\n",
    "ax.plot(np.arange(0.01, 10, 0.001), error_vals)"
=======
   "execution_count": 21,
   "metadata": {},
   "outputs": [
    {
     "name": "stdout",
     "output_type": "stream",
     "text": [
      "0.18039681693239826\n",
      "0.2581632921805704\n"
     ]
    }
   ],
   "source": [
    "ints = {3, 8}\n",
    "X_train_38, Y_train_38 = extract_feature_for_given_ints(ints, X_train, Y_train)\n",
    "X_test_38, Y_test_38 = extract_feature_for_given_ints(ints, X_test, Y_test)\n",
    "def map_18_to_neg_1_pos_1(labels):\n",
    "    new_labels = []\n",
    "    for value in labels:\n",
    "        if value == 8: \n",
    "            new_labels.append(1)\n",
    "        else: \n",
    "            new_labels.append(-1)\n",
    "    return new_labels\n",
    "\n",
    "Y_train_38 = map_18_to_neg_1_pos_1(Y_train_38)\n",
    "Y_test_38 = map_18_to_neg_1_pos_1(Y_test_38)\n",
    "pca_first_16 = decomposition.PCA(n_components=16)\n",
    "pca_first_16.fit(X_train)\n",
    "A_train = pca_first_16.transform(X_train_38)\n",
    "clf = linear_model.Ridge(0.1)\n",
    "clf.fit(A_train, Y_train_38)\n",
    "pred = clf.predict(A_train)\n",
    "#Get MSE\n",
    "print(metrics.mean_squared_error(pred, Y_train_38))\n",
    "A_test = pca_first_16.transform(X_test_38)\n",
    "pred = clf.predict(A_test)\n",
    "print(metrics.mean_squared_error(pred, Y_test_38))"
>>>>>>> 713ecd6ed62148b2c1b707018dd140cb2c964a2a
   ]
  },
  {
   "cell_type": "code",
<<<<<<< HEAD
   "execution_count": 246,
=======
   "execution_count": 22,
>>>>>>> 713ecd6ed62148b2c1b707018dd140cb2c964a2a
   "metadata": {},
   "outputs": [
    {
     "name": "stdout",
     "output_type": "stream",
     "text": [
<<<<<<< HEAD
      "0.0745961274703433\n",
      "0.01\n"
=======
      "0.09177944633086439\n",
      "0.13722034799081978\n"
>>>>>>> 713ecd6ed62148b2c1b707018dd140cb2c964a2a
     ]
    }
   ],
   "source": [
    "ints = {2, 7}\n",
    "X_train_27, Y_train_27 = extract_feature_for_given_ints(ints, X_train, Y_train)\n",
    "X_test_27, Y_test_27 = extract_feature_for_given_ints(ints, X_test, Y_test)\n",
    "def map_18_to_neg_1_pos_1(labels):\n",
    "    new_labels = []\n",
    "    for value in labels:\n",
    "        if value == 7: \n",
    "            new_labels.append(1)\n",
    "        else: \n",
    "            new_labels.append(-1)\n",
    "    return new_labels\n",
    "\n",
    "Y_train_27 = map_18_to_neg_1_pos_1(Y_train_27)\n",
    "Y_test_27 = map_18_to_neg_1_pos_1(Y_test_27)\n",
    "pca_first_16 = decomposition.PCA(n_components=16)\n",
    "pca_first_16.fit(X_train)\n",
    "A_train = pca_first_16.transform(X_train_27)\n",
    "clf = linear_model.Ridge(0.1)\n",
    "clf.fit(A_train, Y_train_27)\n",
    "pred = clf.predict(A_train)\n",
    "#Get MSE\n",
    "print(metrics.mean_squared_error(pred, Y_train_27))\n",
    "A_test = pca_first_16.transform(X_test_27)\n",
    "pred = clf.predict(A_test)\n",
    "print(metrics.mean_squared_error(pred, Y_test_27))"
   ]
  },
  {
   "cell_type": "code",
   "execution_count": null,
   "metadata": {},
   "outputs": [],
   "source": []
  }
 ],
 "metadata": {
  "interpreter": {
   "hash": "397704579725e15f5c7cb49fe5f0341eb7531c82d19f2c29d197e8b64ab5776b"
  },
  "kernelspec": {
   "display_name": "Python 3.9.1 64-bit",
   "language": "python",
   "name": "python3"
  },
  "language_info": {
   "codemirror_mode": {
    "name": "ipython",
    "version": 3
   },
   "file_extension": ".py",
   "mimetype": "text/x-python",
   "name": "python",
   "nbconvert_exporter": "python",
   "pygments_lexer": "ipython3",
   "version": "3.9.1"
  },
  "orig_nbformat": 4
 },
 "nbformat": 4,
 "nbformat_minor": 2
}
